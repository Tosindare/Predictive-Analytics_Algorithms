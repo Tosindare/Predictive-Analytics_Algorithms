{
  "nbformat": 4,
  "nbformat_minor": 0,
  "metadata": {
    "colab": {
      "name": "DNN_Bike Services_ 2017_2019.ipynb",
      "provenance": [],
      "collapsed_sections": []
    },
    "kernelspec": {
      "name": "python3",
      "display_name": "Python 3"
    },
    "accelerator": "GPU"
  },
  "cells": [
    {
      "cell_type": "code",
      "metadata": {
        "id": "7Lz2BYYWx4T3"
      },
      "source": [
        "import tensorflow as tf\r\n",
        "import pandas as pd\r\n",
        "import numpy as np\r\n",
        "import seaborn as sns\r\n",
        "import matplotlib.pyplot as plt\r\n",
        "from tensorflow import keras"
      ],
      "execution_count": 1071,
      "outputs": []
    },
    {
      "cell_type": "code",
      "metadata": {
        "id": "zipDI-zMzwF4",
        "colab": {
          "base_uri": "https://localhost:8080/"
        },
        "outputId": "98dd525a-ee1e-4369-9bac-33e9a7c041bb"
      },
      "source": [
        "from google.colab import drive\r\n",
        "drive.mount('/content/drive') "
      ],
      "execution_count": 1072,
      "outputs": [
        {
          "output_type": "stream",
          "text": [
            "Drive already mounted at /content/drive; to attempt to forcibly remount, call drive.mount(\"/content/drive\", force_remount=True).\n"
          ],
          "name": "stdout"
        }
      ]
    },
    {
      "cell_type": "code",
      "metadata": {
        "id": "UfJvBh8gz3QB",
        "colab": {
          "base_uri": "https://localhost:8080/",
          "height": 204
        },
        "outputId": "08cf1ccc-bc8a-4a1a-852c-7011c1a313d1"
      },
      "source": [
        "bike_df = pd.read_csv('/content/drive/MyDrive/Colab Notebooks/Datasets/3yrs_Bike_data.csv')\r\n",
        "bike_df.head()"
      ],
      "execution_count": 1073,
      "outputs": [
        {
          "output_type": "execute_result",
          "data": {
            "text/html": [
              "<div>\n",
              "<style scoped>\n",
              "    .dataframe tbody tr th:only-of-type {\n",
              "        vertical-align: middle;\n",
              "    }\n",
              "\n",
              "    .dataframe tbody tr th {\n",
              "        vertical-align: top;\n",
              "    }\n",
              "\n",
              "    .dataframe thead th {\n",
              "        text-align: right;\n",
              "    }\n",
              "</style>\n",
              "<table border=\"1\" class=\"dataframe\">\n",
              "  <thead>\n",
              "    <tr style=\"text-align: right;\">\n",
              "      <th></th>\n",
              "      <th>New_time_format_BIXI</th>\n",
              "      <th>Working_day</th>\n",
              "      <th>week_day</th>\n",
              "      <th>Hours</th>\n",
              "      <th>temp_celcius</th>\n",
              "      <th>dew_pt_celcius</th>\n",
              "      <th>rel_humidity</th>\n",
              "      <th>wind_dir</th>\n",
              "      <th>wind_speed</th>\n",
              "      <th>stn_press</th>\n",
              "      <th>Count</th>\n",
              "      <th>month</th>\n",
              "      <th>Years</th>\n",
              "    </tr>\n",
              "  </thead>\n",
              "  <tbody>\n",
              "    <tr>\n",
              "      <th>0</th>\n",
              "      <td>2017-04-15 00</td>\n",
              "      <td>0</td>\n",
              "      <td>6</td>\n",
              "      <td>0</td>\n",
              "      <td>11.4</td>\n",
              "      <td>-5.4</td>\n",
              "      <td>30</td>\n",
              "      <td>27</td>\n",
              "      <td>8</td>\n",
              "      <td>101.76</td>\n",
              "      <td>144</td>\n",
              "      <td>4</td>\n",
              "      <td>2017</td>\n",
              "    </tr>\n",
              "    <tr>\n",
              "      <th>1</th>\n",
              "      <td>2017-04-15 01</td>\n",
              "      <td>0</td>\n",
              "      <td>6</td>\n",
              "      <td>1</td>\n",
              "      <td>10.8</td>\n",
              "      <td>-6.2</td>\n",
              "      <td>30</td>\n",
              "      <td>27</td>\n",
              "      <td>9</td>\n",
              "      <td>101.70</td>\n",
              "      <td>76</td>\n",
              "      <td>4</td>\n",
              "      <td>2017</td>\n",
              "    </tr>\n",
              "    <tr>\n",
              "      <th>2</th>\n",
              "      <td>2017-04-15 02</td>\n",
              "      <td>0</td>\n",
              "      <td>6</td>\n",
              "      <td>2</td>\n",
              "      <td>10.9</td>\n",
              "      <td>-6.3</td>\n",
              "      <td>29</td>\n",
              "      <td>27</td>\n",
              "      <td>11</td>\n",
              "      <td>101.65</td>\n",
              "      <td>39</td>\n",
              "      <td>4</td>\n",
              "      <td>2017</td>\n",
              "    </tr>\n",
              "    <tr>\n",
              "      <th>3</th>\n",
              "      <td>2017-04-15 03</td>\n",
              "      <td>0</td>\n",
              "      <td>6</td>\n",
              "      <td>3</td>\n",
              "      <td>10.2</td>\n",
              "      <td>-6.0</td>\n",
              "      <td>31</td>\n",
              "      <td>27</td>\n",
              "      <td>9</td>\n",
              "      <td>101.61</td>\n",
              "      <td>40</td>\n",
              "      <td>4</td>\n",
              "      <td>2017</td>\n",
              "    </tr>\n",
              "    <tr>\n",
              "      <th>4</th>\n",
              "      <td>2017-04-15 04</td>\n",
              "      <td>0</td>\n",
              "      <td>6</td>\n",
              "      <td>4</td>\n",
              "      <td>8.4</td>\n",
              "      <td>-4.3</td>\n",
              "      <td>40</td>\n",
              "      <td>20</td>\n",
              "      <td>4</td>\n",
              "      <td>101.58</td>\n",
              "      <td>12</td>\n",
              "      <td>4</td>\n",
              "      <td>2017</td>\n",
              "    </tr>\n",
              "  </tbody>\n",
              "</table>\n",
              "</div>"
            ],
            "text/plain": [
              "  New_time_format_BIXI  Working_day  week_day  ...  Count  month  Years\n",
              "0        2017-04-15 00            0         6  ...    144      4   2017\n",
              "1        2017-04-15 01            0         6  ...     76      4   2017\n",
              "2        2017-04-15 02            0         6  ...     39      4   2017\n",
              "3        2017-04-15 03            0         6  ...     40      4   2017\n",
              "4        2017-04-15 04            0         6  ...     12      4   2017\n",
              "\n",
              "[5 rows x 13 columns]"
            ]
          },
          "metadata": {
            "tags": []
          },
          "execution_count": 1073
        }
      ]
    },
    {
      "cell_type": "code",
      "metadata": {
        "id": "eltaeE9M3BX1",
        "colab": {
          "base_uri": "https://localhost:8080/",
          "height": 297
        },
        "outputId": "0dffc0b8-3f07-4579-fe70-c903f47c40cb"
      },
      "source": [
        "bike_df.describe()"
      ],
      "execution_count": 1074,
      "outputs": [
        {
          "output_type": "execute_result",
          "data": {
            "text/html": [
              "<div>\n",
              "<style scoped>\n",
              "    .dataframe tbody tr th:only-of-type {\n",
              "        vertical-align: middle;\n",
              "    }\n",
              "\n",
              "    .dataframe tbody tr th {\n",
              "        vertical-align: top;\n",
              "    }\n",
              "\n",
              "    .dataframe thead th {\n",
              "        text-align: right;\n",
              "    }\n",
              "</style>\n",
              "<table border=\"1\" class=\"dataframe\">\n",
              "  <thead>\n",
              "    <tr style=\"text-align: right;\">\n",
              "      <th></th>\n",
              "      <th>Working_day</th>\n",
              "      <th>week_day</th>\n",
              "      <th>Hours</th>\n",
              "      <th>temp_celcius</th>\n",
              "      <th>dew_pt_celcius</th>\n",
              "      <th>rel_humidity</th>\n",
              "      <th>wind_dir</th>\n",
              "      <th>wind_speed</th>\n",
              "      <th>stn_press</th>\n",
              "      <th>Count</th>\n",
              "      <th>month</th>\n",
              "      <th>Years</th>\n",
              "    </tr>\n",
              "  </thead>\n",
              "  <tbody>\n",
              "    <tr>\n",
              "      <th>count</th>\n",
              "      <td>14954.000000</td>\n",
              "      <td>14954.000000</td>\n",
              "      <td>14954.000000</td>\n",
              "      <td>14954.000000</td>\n",
              "      <td>14954.000000</td>\n",
              "      <td>14954.000000</td>\n",
              "      <td>14954.000000</td>\n",
              "      <td>14954.000000</td>\n",
              "      <td>14954.000000</td>\n",
              "      <td>14954.000000</td>\n",
              "      <td>14954.000000</td>\n",
              "      <td>14954.000000</td>\n",
              "    </tr>\n",
              "    <tr>\n",
              "      <th>mean</th>\n",
              "      <td>0.714391</td>\n",
              "      <td>3.990772</td>\n",
              "      <td>11.503879</td>\n",
              "      <td>16.067875</td>\n",
              "      <td>8.966464</td>\n",
              "      <td>65.646783</td>\n",
              "      <td>18.775512</td>\n",
              "      <td>6.182493</td>\n",
              "      <td>100.626652</td>\n",
              "      <td>1022.998729</td>\n",
              "      <td>7.343253</td>\n",
              "      <td>2017.964892</td>\n",
              "    </tr>\n",
              "    <tr>\n",
              "      <th>std</th>\n",
              "      <td>0.451719</td>\n",
              "      <td>2.002919</td>\n",
              "      <td>6.926563</td>\n",
              "      <td>7.405918</td>\n",
              "      <td>7.383633</td>\n",
              "      <td>18.602370</td>\n",
              "      <td>10.299778</td>\n",
              "      <td>2.907672</td>\n",
              "      <td>0.724800</td>\n",
              "      <td>893.835045</td>\n",
              "      <td>2.032786</td>\n",
              "      <td>0.804030</td>\n",
              "    </tr>\n",
              "    <tr>\n",
              "      <th>min</th>\n",
              "      <td>0.000000</td>\n",
              "      <td>1.000000</td>\n",
              "      <td>0.000000</td>\n",
              "      <td>-10.700000</td>\n",
              "      <td>-19.300000</td>\n",
              "      <td>14.000000</td>\n",
              "      <td>0.000000</td>\n",
              "      <td>1.000000</td>\n",
              "      <td>96.820000</td>\n",
              "      <td>3.000000</td>\n",
              "      <td>4.000000</td>\n",
              "      <td>2017.000000</td>\n",
              "    </tr>\n",
              "    <tr>\n",
              "      <th>25%</th>\n",
              "      <td>0.000000</td>\n",
              "      <td>2.000000</td>\n",
              "      <td>5.000000</td>\n",
              "      <td>10.900000</td>\n",
              "      <td>4.200000</td>\n",
              "      <td>52.000000</td>\n",
              "      <td>13.000000</td>\n",
              "      <td>4.000000</td>\n",
              "      <td>100.160000</td>\n",
              "      <td>262.000000</td>\n",
              "      <td>6.000000</td>\n",
              "      <td>2017.000000</td>\n",
              "    </tr>\n",
              "    <tr>\n",
              "      <th>50%</th>\n",
              "      <td>1.000000</td>\n",
              "      <td>4.000000</td>\n",
              "      <td>12.000000</td>\n",
              "      <td>16.800000</td>\n",
              "      <td>9.600000</td>\n",
              "      <td>66.000000</td>\n",
              "      <td>20.000000</td>\n",
              "      <td>6.000000</td>\n",
              "      <td>100.600000</td>\n",
              "      <td>833.500000</td>\n",
              "      <td>7.000000</td>\n",
              "      <td>2018.000000</td>\n",
              "    </tr>\n",
              "    <tr>\n",
              "      <th>75%</th>\n",
              "      <td>1.000000</td>\n",
              "      <td>6.000000</td>\n",
              "      <td>18.000000</td>\n",
              "      <td>21.700000</td>\n",
              "      <td>14.600000</td>\n",
              "      <td>81.000000</td>\n",
              "      <td>26.000000</td>\n",
              "      <td>8.000000</td>\n",
              "      <td>101.080000</td>\n",
              "      <td>1527.000000</td>\n",
              "      <td>9.000000</td>\n",
              "      <td>2019.000000</td>\n",
              "    </tr>\n",
              "    <tr>\n",
              "      <th>max</th>\n",
              "      <td>1.000000</td>\n",
              "      <td>7.000000</td>\n",
              "      <td>23.000000</td>\n",
              "      <td>35.800000</td>\n",
              "      <td>24.300000</td>\n",
              "      <td>100.000000</td>\n",
              "      <td>36.000000</td>\n",
              "      <td>25.000000</td>\n",
              "      <td>102.830000</td>\n",
              "      <td>4921.000000</td>\n",
              "      <td>11.000000</td>\n",
              "      <td>2019.000000</td>\n",
              "    </tr>\n",
              "  </tbody>\n",
              "</table>\n",
              "</div>"
            ],
            "text/plain": [
              "        Working_day      week_day  ...         month         Years\n",
              "count  14954.000000  14954.000000  ...  14954.000000  14954.000000\n",
              "mean       0.714391      3.990772  ...      7.343253   2017.964892\n",
              "std        0.451719      2.002919  ...      2.032786      0.804030\n",
              "min        0.000000      1.000000  ...      4.000000   2017.000000\n",
              "25%        0.000000      2.000000  ...      6.000000   2017.000000\n",
              "50%        1.000000      4.000000  ...      7.000000   2018.000000\n",
              "75%        1.000000      6.000000  ...      9.000000   2019.000000\n",
              "max        1.000000      7.000000  ...     11.000000   2019.000000\n",
              "\n",
              "[8 rows x 12 columns]"
            ]
          },
          "metadata": {
            "tags": []
          },
          "execution_count": 1074
        }
      ]
    },
    {
      "cell_type": "code",
      "metadata": {
        "id": "9PzaUXWO3hRQ",
        "colab": {
          "base_uri": "https://localhost:8080/"
        },
        "outputId": "e935cc76-1ef4-453a-be4b-0621f9f03297"
      },
      "source": [
        "bike_df.info()"
      ],
      "execution_count": 1075,
      "outputs": [
        {
          "output_type": "stream",
          "text": [
            "<class 'pandas.core.frame.DataFrame'>\n",
            "RangeIndex: 14954 entries, 0 to 14953\n",
            "Data columns (total 13 columns):\n",
            " #   Column                Non-Null Count  Dtype  \n",
            "---  ------                --------------  -----  \n",
            " 0   New_time_format_BIXI  14954 non-null  object \n",
            " 1   Working_day           14954 non-null  int64  \n",
            " 2   week_day              14954 non-null  int64  \n",
            " 3   Hours                 14954 non-null  int64  \n",
            " 4   temp_celcius          14954 non-null  float64\n",
            " 5   dew_pt_celcius        14954 non-null  float64\n",
            " 6   rel_humidity          14954 non-null  int64  \n",
            " 7   wind_dir              14954 non-null  int64  \n",
            " 8   wind_speed            14954 non-null  int64  \n",
            " 9   stn_press             14954 non-null  float64\n",
            " 10  Count                 14954 non-null  int64  \n",
            " 11  month                 14954 non-null  int64  \n",
            " 12  Years                 14954 non-null  int64  \n",
            "dtypes: float64(3), int64(9), object(1)\n",
            "memory usage: 1.5+ MB\n"
          ],
          "name": "stdout"
        }
      ]
    },
    {
      "cell_type": "code",
      "metadata": {
        "id": "FJAZOAs13k6g",
        "colab": {
          "base_uri": "https://localhost:8080/",
          "height": 388
        },
        "outputId": "72eb6029-50e9-4b80-a59f-39038c752f43"
      },
      "source": [
        "sns.heatmap(bike_df.isnull())"
      ],
      "execution_count": 1076,
      "outputs": [
        {
          "output_type": "execute_result",
          "data": {
            "text/plain": [
              "<matplotlib.axes._subplots.AxesSubplot at 0x7fe69f454470>"
            ]
          },
          "metadata": {
            "tags": []
          },
          "execution_count": 1076
        },
        {
          "output_type": "display_data",
          "data": {
            "image/png": "[encoded data removed]",
            "text/plain": [
              "<Figure size 432x288 with 2 Axes>"
            ]
          },
          "metadata": {
            "tags": [],
            "needs_background": "light"
          }
        }
      ]
    },
    {
      "cell_type": "code",
      "metadata": {
        "id": "F7ftcu8P4fhC",
        "colab": {
          "base_uri": "https://localhost:8080/",
          "height": 1000
        },
        "outputId": "18967e98-e7c1-4c3f-f84b-199248dd0c48"
      },
      "source": [
        "corrmat=bike_df.corr() \r\n",
        "top_corr_features=corrmat.index \r\n",
        "plt.figure(figsize=(20,20)) \r\n",
        "#plot heat map \r\n",
        "g=sns.heatmap(bike_df[top_corr_features].corr(),annot=True,cmap=\"RdYlGn\")\r\n",
        "#sns.heatmap(flight.corr(), annot = True)"
      ],
      "execution_count": 1077,
      "outputs": [
        {
          "output_type": "display_data",
          "data": {
            "image/png": "[encoded data removed]",
            "text/plain": [
              "<Figure size 1440x1440 with 2 Axes>"
            ]
          },
          "metadata": {
            "tags": [],
            "needs_background": "light"
          }
        }
      ]
    },
    {
      "cell_type": "code",
      "metadata": {
        "id": "UEn4r3FH5WHm",
        "colab": {
          "base_uri": "https://localhost:8080/"
        },
        "outputId": "2c372159-d49e-40c4-c5ab-d62aca2ebc04"
      },
      "source": [
        "bike_df.describe(include='all').loc['unique', :]"
      ],
      "execution_count": 1078,
      "outputs": [
        {
          "output_type": "execute_result",
          "data": {
            "text/plain": [
              "New_time_format_BIXI    14954\n",
              "Working_day               NaN\n",
              "week_day                  NaN\n",
              "Hours                     NaN\n",
              "temp_celcius              NaN\n",
              "dew_pt_celcius            NaN\n",
              "rel_humidity              NaN\n",
              "wind_dir                  NaN\n",
              "wind_speed                NaN\n",
              "stn_press                 NaN\n",
              "Count                     NaN\n",
              "month                     NaN\n",
              "Years                     NaN\n",
              "Name: unique, dtype: object"
            ]
          },
          "metadata": {
            "tags": []
          },
          "execution_count": 1078
        }
      ]
    },
    {
      "cell_type": "code",
      "metadata": {
        "id": "JdI9ZrBmAXGZ"
      },
      "source": [
        "bike_df = bike_df.rename(columns={'New_time_format_BIXI': 'start_date'})"
      ],
      "execution_count": 1079,
      "outputs": []
    },
    {
      "cell_type": "code",
      "metadata": {
        "id": "mhi0OVzT5rVc",
        "colab": {
          "base_uri": "https://localhost:8080/"
        },
        "outputId": "924613e8-fc76-4d25-b00f-eed9535fc43c"
      },
      "source": [
        "bike_df.stn_press.nunique()"
      ],
      "execution_count": 1080,
      "outputs": [
        {
          "output_type": "execute_result",
          "data": {
            "text/plain": [
              "470"
            ]
          },
          "metadata": {
            "tags": []
          },
          "execution_count": 1080
        }
      ]
    },
    {
      "cell_type": "code",
      "metadata": {
        "id": "jha0xr3FA5eh",
        "colab": {
          "base_uri": "https://localhost:8080/",
          "height": 419
        },
        "outputId": "cc14c870-abe2-4227-a028-248e1f2ffcd1"
      },
      "source": [
        "bike_df"
      ],
      "execution_count": 1081,
      "outputs": [
        {
          "output_type": "execute_result",
          "data": {
            "text/html": [
              "<div>\n",
              "<style scoped>\n",
              "    .dataframe tbody tr th:only-of-type {\n",
              "        vertical-align: middle;\n",
              "    }\n",
              "\n",
              "    .dataframe tbody tr th {\n",
              "        vertical-align: top;\n",
              "    }\n",
              "\n",
              "    .dataframe thead th {\n",
              "        text-align: right;\n",
              "    }\n",
              "</style>\n",
              "<table border=\"1\" class=\"dataframe\">\n",
              "  <thead>\n",
              "    <tr style=\"text-align: right;\">\n",
              "      <th></th>\n",
              "      <th>start_date</th>\n",
              "      <th>Working_day</th>\n",
              "      <th>week_day</th>\n",
              "      <th>Hours</th>\n",
              "      <th>temp_celcius</th>\n",
              "      <th>dew_pt_celcius</th>\n",
              "      <th>rel_humidity</th>\n",
              "      <th>wind_dir</th>\n",
              "      <th>wind_speed</th>\n",
              "      <th>stn_press</th>\n",
              "      <th>Count</th>\n",
              "      <th>month</th>\n",
              "      <th>Years</th>\n",
              "    </tr>\n",
              "  </thead>\n",
              "  <tbody>\n",
              "    <tr>\n",
              "      <th>0</th>\n",
              "      <td>2017-04-15 00</td>\n",
              "      <td>0</td>\n",
              "      <td>6</td>\n",
              "      <td>0</td>\n",
              "      <td>11.4</td>\n",
              "      <td>-5.4</td>\n",
              "      <td>30</td>\n",
              "      <td>27</td>\n",
              "      <td>8</td>\n",
              "      <td>101.76</td>\n",
              "      <td>144</td>\n",
              "      <td>4</td>\n",
              "      <td>2017</td>\n",
              "    </tr>\n",
              "    <tr>\n",
              "      <th>1</th>\n",
              "      <td>2017-04-15 01</td>\n",
              "      <td>0</td>\n",
              "      <td>6</td>\n",
              "      <td>1</td>\n",
              "      <td>10.8</td>\n",
              "      <td>-6.2</td>\n",
              "      <td>30</td>\n",
              "      <td>27</td>\n",
              "      <td>9</td>\n",
              "      <td>101.70</td>\n",
              "      <td>76</td>\n",
              "      <td>4</td>\n",
              "      <td>2017</td>\n",
              "    </tr>\n",
              "    <tr>\n",
              "      <th>2</th>\n",
              "      <td>2017-04-15 02</td>\n",
              "      <td>0</td>\n",
              "      <td>6</td>\n",
              "      <td>2</td>\n",
              "      <td>10.9</td>\n",
              "      <td>-6.3</td>\n",
              "      <td>29</td>\n",
              "      <td>27</td>\n",
              "      <td>11</td>\n",
              "      <td>101.65</td>\n",
              "      <td>39</td>\n",
              "      <td>4</td>\n",
              "      <td>2017</td>\n",
              "    </tr>\n",
              "    <tr>\n",
              "      <th>3</th>\n",
              "      <td>2017-04-15 03</td>\n",
              "      <td>0</td>\n",
              "      <td>6</td>\n",
              "      <td>3</td>\n",
              "      <td>10.2</td>\n",
              "      <td>-6.0</td>\n",
              "      <td>31</td>\n",
              "      <td>27</td>\n",
              "      <td>9</td>\n",
              "      <td>101.61</td>\n",
              "      <td>40</td>\n",
              "      <td>4</td>\n",
              "      <td>2017</td>\n",
              "    </tr>\n",
              "    <tr>\n",
              "      <th>4</th>\n",
              "      <td>2017-04-15 04</td>\n",
              "      <td>0</td>\n",
              "      <td>6</td>\n",
              "      <td>4</td>\n",
              "      <td>8.4</td>\n",
              "      <td>-4.3</td>\n",
              "      <td>40</td>\n",
              "      <td>20</td>\n",
              "      <td>4</td>\n",
              "      <td>101.58</td>\n",
              "      <td>12</td>\n",
              "      <td>4</td>\n",
              "      <td>2017</td>\n",
              "    </tr>\n",
              "    <tr>\n",
              "      <th>...</th>\n",
              "      <td>...</td>\n",
              "      <td>...</td>\n",
              "      <td>...</td>\n",
              "      <td>...</td>\n",
              "      <td>...</td>\n",
              "      <td>...</td>\n",
              "      <td>...</td>\n",
              "      <td>...</td>\n",
              "      <td>...</td>\n",
              "      <td>...</td>\n",
              "      <td>...</td>\n",
              "      <td>...</td>\n",
              "      <td>...</td>\n",
              "    </tr>\n",
              "    <tr>\n",
              "      <th>14949</th>\n",
              "      <td>2019-10-31 19</td>\n",
              "      <td>1</td>\n",
              "      <td>4</td>\n",
              "      <td>19</td>\n",
              "      <td>12.3</td>\n",
              "      <td>11.9</td>\n",
              "      <td>97</td>\n",
              "      <td>1</td>\n",
              "      <td>12</td>\n",
              "      <td>98.66</td>\n",
              "      <td>166</td>\n",
              "      <td>10</td>\n",
              "      <td>2019</td>\n",
              "    </tr>\n",
              "    <tr>\n",
              "      <th>14950</th>\n",
              "      <td>2019-10-31 20</td>\n",
              "      <td>1</td>\n",
              "      <td>4</td>\n",
              "      <td>20</td>\n",
              "      <td>10.3</td>\n",
              "      <td>9.8</td>\n",
              "      <td>97</td>\n",
              "      <td>1</td>\n",
              "      <td>13</td>\n",
              "      <td>98.60</td>\n",
              "      <td>133</td>\n",
              "      <td>10</td>\n",
              "      <td>2019</td>\n",
              "    </tr>\n",
              "    <tr>\n",
              "      <th>14951</th>\n",
              "      <td>2019-10-31 21</td>\n",
              "      <td>1</td>\n",
              "      <td>4</td>\n",
              "      <td>21</td>\n",
              "      <td>9.2</td>\n",
              "      <td>8.7</td>\n",
              "      <td>97</td>\n",
              "      <td>3</td>\n",
              "      <td>15</td>\n",
              "      <td>98.60</td>\n",
              "      <td>119</td>\n",
              "      <td>10</td>\n",
              "      <td>2019</td>\n",
              "    </tr>\n",
              "    <tr>\n",
              "      <th>14952</th>\n",
              "      <td>2019-10-31 22</td>\n",
              "      <td>1</td>\n",
              "      <td>4</td>\n",
              "      <td>22</td>\n",
              "      <td>8.5</td>\n",
              "      <td>7.9</td>\n",
              "      <td>96</td>\n",
              "      <td>2</td>\n",
              "      <td>11</td>\n",
              "      <td>98.47</td>\n",
              "      <td>121</td>\n",
              "      <td>10</td>\n",
              "      <td>2019</td>\n",
              "    </tr>\n",
              "    <tr>\n",
              "      <th>14953</th>\n",
              "      <td>2019-10-31 23</td>\n",
              "      <td>1</td>\n",
              "      <td>4</td>\n",
              "      <td>23</td>\n",
              "      <td>8.2</td>\n",
              "      <td>7.7</td>\n",
              "      <td>97</td>\n",
              "      <td>1</td>\n",
              "      <td>5</td>\n",
              "      <td>98.35</td>\n",
              "      <td>80</td>\n",
              "      <td>10</td>\n",
              "      <td>2019</td>\n",
              "    </tr>\n",
              "  </tbody>\n",
              "</table>\n",
              "<p>14954 rows × 13 columns</p>\n",
              "</div>"
            ],
            "text/plain": [
              "          start_date  Working_day  week_day  ...  Count  month  Years\n",
              "0      2017-04-15 00            0         6  ...    144      4   2017\n",
              "1      2017-04-15 01            0         6  ...     76      4   2017\n",
              "2      2017-04-15 02            0         6  ...     39      4   2017\n",
              "3      2017-04-15 03            0         6  ...     40      4   2017\n",
              "4      2017-04-15 04            0         6  ...     12      4   2017\n",
              "...              ...          ...       ...  ...    ...    ...    ...\n",
              "14949  2019-10-31 19            1         4  ...    166     10   2019\n",
              "14950  2019-10-31 20            1         4  ...    133     10   2019\n",
              "14951  2019-10-31 21            1         4  ...    119     10   2019\n",
              "14952  2019-10-31 22            1         4  ...    121     10   2019\n",
              "14953  2019-10-31 23            1         4  ...     80     10   2019\n",
              "\n",
              "[14954 rows x 13 columns]"
            ]
          },
          "metadata": {
            "tags": []
          },
          "execution_count": 1081
        }
      ]
    },
    {
      "cell_type": "code",
      "metadata": {
        "id": "5KdnBmAw8waD"
      },
      "source": [
        "bike_df.start_date = pd.to_datetime(bike_df.start_date) # format='%m/%d/%Y'\r\n",
        "bike_df.index = pd.DatetimeIndex(bike_df.start_date)"
      ],
      "execution_count": 1082,
      "outputs": []
    },
    {
      "cell_type": "code",
      "metadata": {
        "id": "Nk5K3jNgjCth",
        "colab": {
          "base_uri": "https://localhost:8080/",
          "height": 450
        },
        "outputId": "0bda752a-540c-4033-88a4-e858c0aea4e2"
      },
      "source": [
        "bike_df"
      ],
      "execution_count": 1083,
      "outputs": [
        {
          "output_type": "execute_result",
          "data": {
            "text/html": [
              "<div>\n",
              "<style scoped>\n",
              "    .dataframe tbody tr th:only-of-type {\n",
              "        vertical-align: middle;\n",
              "    }\n",
              "\n",
              "    .dataframe tbody tr th {\n",
              "        vertical-align: top;\n",
              "    }\n",
              "\n",
              "    .dataframe thead th {\n",
              "        text-align: right;\n",
              "    }\n",
              "</style>\n",
              "<table border=\"1\" class=\"dataframe\">\n",
              "  <thead>\n",
              "    <tr style=\"text-align: right;\">\n",
              "      <th></th>\n",
              "      <th>start_date</th>\n",
              "      <th>Working_day</th>\n",
              "      <th>week_day</th>\n",
              "      <th>Hours</th>\n",
              "      <th>temp_celcius</th>\n",
              "      <th>dew_pt_celcius</th>\n",
              "      <th>rel_humidity</th>\n",
              "      <th>wind_dir</th>\n",
              "      <th>wind_speed</th>\n",
              "      <th>stn_press</th>\n",
              "      <th>Count</th>\n",
              "      <th>month</th>\n",
              "      <th>Years</th>\n",
              "    </tr>\n",
              "    <tr>\n",
              "      <th>start_date</th>\n",
              "      <th></th>\n",
              "      <th></th>\n",
              "      <th></th>\n",
              "      <th></th>\n",
              "      <th></th>\n",
              "      <th></th>\n",
              "      <th></th>\n",
              "      <th></th>\n",
              "      <th></th>\n",
              "      <th></th>\n",
              "      <th></th>\n",
              "      <th></th>\n",
              "      <th></th>\n",
              "    </tr>\n",
              "  </thead>\n",
              "  <tbody>\n",
              "    <tr>\n",
              "      <th>2017-04-15 00:00:00</th>\n",
              "      <td>2017-04-15 00:00:00</td>\n",
              "      <td>0</td>\n",
              "      <td>6</td>\n",
              "      <td>0</td>\n",
              "      <td>11.4</td>\n",
              "      <td>-5.4</td>\n",
              "      <td>30</td>\n",
              "      <td>27</td>\n",
              "      <td>8</td>\n",
              "      <td>101.76</td>\n",
              "      <td>144</td>\n",
              "      <td>4</td>\n",
              "      <td>2017</td>\n",
              "    </tr>\n",
              "    <tr>\n",
              "      <th>2017-04-15 01:00:00</th>\n",
              "      <td>2017-04-15 01:00:00</td>\n",
              "      <td>0</td>\n",
              "      <td>6</td>\n",
              "      <td>1</td>\n",
              "      <td>10.8</td>\n",
              "      <td>-6.2</td>\n",
              "      <td>30</td>\n",
              "      <td>27</td>\n",
              "      <td>9</td>\n",
              "      <td>101.70</td>\n",
              "      <td>76</td>\n",
              "      <td>4</td>\n",
              "      <td>2017</td>\n",
              "    </tr>\n",
              "    <tr>\n",
              "      <th>2017-04-15 02:00:00</th>\n",
              "      <td>2017-04-15 02:00:00</td>\n",
              "      <td>0</td>\n",
              "      <td>6</td>\n",
              "      <td>2</td>\n",
              "      <td>10.9</td>\n",
              "      <td>-6.3</td>\n",
              "      <td>29</td>\n",
              "      <td>27</td>\n",
              "      <td>11</td>\n",
              "      <td>101.65</td>\n",
              "      <td>39</td>\n",
              "      <td>4</td>\n",
              "      <td>2017</td>\n",
              "    </tr>\n",
              "    <tr>\n",
              "      <th>2017-04-15 03:00:00</th>\n",
              "      <td>2017-04-15 03:00:00</td>\n",
              "      <td>0</td>\n",
              "      <td>6</td>\n",
              "      <td>3</td>\n",
              "      <td>10.2</td>\n",
              "      <td>-6.0</td>\n",
              "      <td>31</td>\n",
              "      <td>27</td>\n",
              "      <td>9</td>\n",
              "      <td>101.61</td>\n",
              "      <td>40</td>\n",
              "      <td>4</td>\n",
              "      <td>2017</td>\n",
              "    </tr>\n",
              "    <tr>\n",
              "      <th>2017-04-15 04:00:00</th>\n",
              "      <td>2017-04-15 04:00:00</td>\n",
              "      <td>0</td>\n",
              "      <td>6</td>\n",
              "      <td>4</td>\n",
              "      <td>8.4</td>\n",
              "      <td>-4.3</td>\n",
              "      <td>40</td>\n",
              "      <td>20</td>\n",
              "      <td>4</td>\n",
              "      <td>101.58</td>\n",
              "      <td>12</td>\n",
              "      <td>4</td>\n",
              "      <td>2017</td>\n",
              "    </tr>\n",
              "    <tr>\n",
              "      <th>...</th>\n",
              "      <td>...</td>\n",
              "      <td>...</td>\n",
              "      <td>...</td>\n",
              "      <td>...</td>\n",
              "      <td>...</td>\n",
              "      <td>...</td>\n",
              "      <td>...</td>\n",
              "      <td>...</td>\n",
              "      <td>...</td>\n",
              "      <td>...</td>\n",
              "      <td>...</td>\n",
              "      <td>...</td>\n",
              "      <td>...</td>\n",
              "    </tr>\n",
              "    <tr>\n",
              "      <th>2019-10-31 19:00:00</th>\n",
              "      <td>2019-10-31 19:00:00</td>\n",
              "      <td>1</td>\n",
              "      <td>4</td>\n",
              "      <td>19</td>\n",
              "      <td>12.3</td>\n",
              "      <td>11.9</td>\n",
              "      <td>97</td>\n",
              "      <td>1</td>\n",
              "      <td>12</td>\n",
              "      <td>98.66</td>\n",
              "      <td>166</td>\n",
              "      <td>10</td>\n",
              "      <td>2019</td>\n",
              "    </tr>\n",
              "    <tr>\n",
              "      <th>2019-10-31 20:00:00</th>\n",
              "      <td>2019-10-31 20:00:00</td>\n",
              "      <td>1</td>\n",
              "      <td>4</td>\n",
              "      <td>20</td>\n",
              "      <td>10.3</td>\n",
              "      <td>9.8</td>\n",
              "      <td>97</td>\n",
              "      <td>1</td>\n",
              "      <td>13</td>\n",
              "      <td>98.60</td>\n",
              "      <td>133</td>\n",
              "      <td>10</td>\n",
              "      <td>2019</td>\n",
              "    </tr>\n",
              "    <tr>\n",
              "      <th>2019-10-31 21:00:00</th>\n",
              "      <td>2019-10-31 21:00:00</td>\n",
              "      <td>1</td>\n",
              "      <td>4</td>\n",
              "      <td>21</td>\n",
              "      <td>9.2</td>\n",
              "      <td>8.7</td>\n",
              "      <td>97</td>\n",
              "      <td>3</td>\n",
              "      <td>15</td>\n",
              "      <td>98.60</td>\n",
              "      <td>119</td>\n",
              "      <td>10</td>\n",
              "      <td>2019</td>\n",
              "    </tr>\n",
              "    <tr>\n",
              "      <th>2019-10-31 22:00:00</th>\n",
              "      <td>2019-10-31 22:00:00</td>\n",
              "      <td>1</td>\n",
              "      <td>4</td>\n",
              "      <td>22</td>\n",
              "      <td>8.5</td>\n",
              "      <td>7.9</td>\n",
              "      <td>96</td>\n",
              "      <td>2</td>\n",
              "      <td>11</td>\n",
              "      <td>98.47</td>\n",
              "      <td>121</td>\n",
              "      <td>10</td>\n",
              "      <td>2019</td>\n",
              "    </tr>\n",
              "    <tr>\n",
              "      <th>2019-10-31 23:00:00</th>\n",
              "      <td>2019-10-31 23:00:00</td>\n",
              "      <td>1</td>\n",
              "      <td>4</td>\n",
              "      <td>23</td>\n",
              "      <td>8.2</td>\n",
              "      <td>7.7</td>\n",
              "      <td>97</td>\n",
              "      <td>1</td>\n",
              "      <td>5</td>\n",
              "      <td>98.35</td>\n",
              "      <td>80</td>\n",
              "      <td>10</td>\n",
              "      <td>2019</td>\n",
              "    </tr>\n",
              "  </tbody>\n",
              "</table>\n",
              "<p>14954 rows × 13 columns</p>\n",
              "</div>"
            ],
            "text/plain": [
              "                             start_date  Working_day  ...  month  Years\n",
              "start_date                                            ...              \n",
              "2017-04-15 00:00:00 2017-04-15 00:00:00            0  ...      4   2017\n",
              "2017-04-15 01:00:00 2017-04-15 01:00:00            0  ...      4   2017\n",
              "2017-04-15 02:00:00 2017-04-15 02:00:00            0  ...      4   2017\n",
              "2017-04-15 03:00:00 2017-04-15 03:00:00            0  ...      4   2017\n",
              "2017-04-15 04:00:00 2017-04-15 04:00:00            0  ...      4   2017\n",
              "...                                 ...          ...  ...    ...    ...\n",
              "2019-10-31 19:00:00 2019-10-31 19:00:00            1  ...     10   2019\n",
              "2019-10-31 20:00:00 2019-10-31 20:00:00            1  ...     10   2019\n",
              "2019-10-31 21:00:00 2019-10-31 21:00:00            1  ...     10   2019\n",
              "2019-10-31 22:00:00 2019-10-31 22:00:00            1  ...     10   2019\n",
              "2019-10-31 23:00:00 2019-10-31 23:00:00            1  ...     10   2019\n",
              "\n",
              "[14954 rows x 13 columns]"
            ]
          },
          "metadata": {
            "tags": []
          },
          "execution_count": 1083
        }
      ]
    },
    {
      "cell_type": "code",
      "metadata": {
        "id": "YMtOzTRs-MxE"
      },
      "source": [
        "bike_df = bike_df.drop(labels = ['start_date'], axis=1)"
      ],
      "execution_count": 1084,
      "outputs": []
    },
    {
      "cell_type": "code",
      "metadata": {
        "id": "wkRrPFLFuXwI"
      },
      "source": [
        "#bike_df"
      ],
      "execution_count": 1085,
      "outputs": []
    },
    {
      "cell_type": "code",
      "metadata": {
        "id": "iShgjCcd-ayh"
      },
      "source": [
        "#group data into hourly records using mean and modes\r\n",
        "\r\n",
        "#start_date        291692\r\n",
        "#Working_day          NaN\r\n",
        "#week_day             NaN\r\n",
        "#Hours                NaN\r\n",
        "#temp_celcius         NaN\r\n",
        "#dew_pt_celcius       NaN\r\n",
        "#rel_humidity         NaN\r\n",
        "#wind_dir             NaN\r\n",
        "#wind_speed           NaN\r\n",
        "#stn_press            NaN\r\n",
        "#Count                NaN\r\n",
        "#month                NaN\r\n",
        "#Years   \r\n",
        "\r\n",
        " \r\n",
        "def grp(x):\r\n",
        "    d = {}\r\n",
        "    d['Working_day'] = x['Working_day'].agg(lambda x:x.value_counts().index[0])\r\n",
        "    d['week_day'] = x['week_day'].agg(lambda x:x.value_counts().index[0])\r\n",
        "    d['Hours'] = x['Hours'].agg(lambda x:x.value_counts().index[0])\r\n",
        "    d['temp_celcius'] = x['temp_celcius'].min()\r\n",
        "    d['dew_pt_celcius'] = x['dew_pt_celcius'].min()\r\n",
        "    d['rel_humidity'] = x['rel_humidity'].mean()\r\n",
        "    d['wind_dir'] = x['wind_dir'].agg(lambda x:x.value_counts().index[0])\r\n",
        "    d['wind_speed'] = x['wind_speed'].agg(lambda x:x.value_counts().index[0])\r\n",
        "    d['stn_press'] = x['stn_press'].agg(lambda x:x.value_counts().index[0])\r\n",
        "    d['Count'] = x['Count'].sum()\r\n",
        "    d['month'] = x['month'].agg(lambda x:x.value_counts().index[0])\r\n",
        "    d['Years'] = x['Years'].agg(lambda x:x.value_counts().index[0])\r\n",
        "    return pd.Series(d, index=['Working_day', 'week_day','Hours',  'temp_celcius',\r\n",
        "    'dew_pt_celcius','rel_humidity', 'wind_dir', 'wind_speed', 'month', 'Years', 'stn_press','Count'])\r\n",
        "\r\n"
      ],
      "execution_count": 1086,
      "outputs": []
    },
    {
      "cell_type": "code",
      "metadata": {
        "id": "LEpL4E_2v0Ec"
      },
      "source": [
        "#bike_df['start_date'] = bike_df['start_date'].dt.floor('h')"
      ],
      "execution_count": 1087,
      "outputs": []
    },
    {
      "cell_type": "code",
      "metadata": {
        "colab": {
          "base_uri": "https://localhost:8080/",
          "height": 235
        },
        "id": "w_dX8p3JVpue",
        "outputId": "0e086f46-56f8-4aed-e7d7-f3bf8ef0ad8f"
      },
      "source": [
        "bike_df.head()"
      ],
      "execution_count": 1088,
      "outputs": [
        {
          "output_type": "execute_result",
          "data": {
            "text/html": [
              "<div>\n",
              "<style scoped>\n",
              "    .dataframe tbody tr th:only-of-type {\n",
              "        vertical-align: middle;\n",
              "    }\n",
              "\n",
              "    .dataframe tbody tr th {\n",
              "        vertical-align: top;\n",
              "    }\n",
              "\n",
              "    .dataframe thead th {\n",
              "        text-align: right;\n",
              "    }\n",
              "</style>\n",
              "<table border=\"1\" class=\"dataframe\">\n",
              "  <thead>\n",
              "    <tr style=\"text-align: right;\">\n",
              "      <th></th>\n",
              "      <th>Working_day</th>\n",
              "      <th>week_day</th>\n",
              "      <th>Hours</th>\n",
              "      <th>temp_celcius</th>\n",
              "      <th>dew_pt_celcius</th>\n",
              "      <th>rel_humidity</th>\n",
              "      <th>wind_dir</th>\n",
              "      <th>wind_speed</th>\n",
              "      <th>stn_press</th>\n",
              "      <th>Count</th>\n",
              "      <th>month</th>\n",
              "      <th>Years</th>\n",
              "    </tr>\n",
              "    <tr>\n",
              "      <th>start_date</th>\n",
              "      <th></th>\n",
              "      <th></th>\n",
              "      <th></th>\n",
              "      <th></th>\n",
              "      <th></th>\n",
              "      <th></th>\n",
              "      <th></th>\n",
              "      <th></th>\n",
              "      <th></th>\n",
              "      <th></th>\n",
              "      <th></th>\n",
              "      <th></th>\n",
              "    </tr>\n",
              "  </thead>\n",
              "  <tbody>\n",
              "    <tr>\n",
              "      <th>2017-04-15 00:00:00</th>\n",
              "      <td>0</td>\n",
              "      <td>6</td>\n",
              "      <td>0</td>\n",
              "      <td>11.4</td>\n",
              "      <td>-5.4</td>\n",
              "      <td>30</td>\n",
              "      <td>27</td>\n",
              "      <td>8</td>\n",
              "      <td>101.76</td>\n",
              "      <td>144</td>\n",
              "      <td>4</td>\n",
              "      <td>2017</td>\n",
              "    </tr>\n",
              "    <tr>\n",
              "      <th>2017-04-15 01:00:00</th>\n",
              "      <td>0</td>\n",
              "      <td>6</td>\n",
              "      <td>1</td>\n",
              "      <td>10.8</td>\n",
              "      <td>-6.2</td>\n",
              "      <td>30</td>\n",
              "      <td>27</td>\n",
              "      <td>9</td>\n",
              "      <td>101.70</td>\n",
              "      <td>76</td>\n",
              "      <td>4</td>\n",
              "      <td>2017</td>\n",
              "    </tr>\n",
              "    <tr>\n",
              "      <th>2017-04-15 02:00:00</th>\n",
              "      <td>0</td>\n",
              "      <td>6</td>\n",
              "      <td>2</td>\n",
              "      <td>10.9</td>\n",
              "      <td>-6.3</td>\n",
              "      <td>29</td>\n",
              "      <td>27</td>\n",
              "      <td>11</td>\n",
              "      <td>101.65</td>\n",
              "      <td>39</td>\n",
              "      <td>4</td>\n",
              "      <td>2017</td>\n",
              "    </tr>\n",
              "    <tr>\n",
              "      <th>2017-04-15 03:00:00</th>\n",
              "      <td>0</td>\n",
              "      <td>6</td>\n",
              "      <td>3</td>\n",
              "      <td>10.2</td>\n",
              "      <td>-6.0</td>\n",
              "      <td>31</td>\n",
              "      <td>27</td>\n",
              "      <td>9</td>\n",
              "      <td>101.61</td>\n",
              "      <td>40</td>\n",
              "      <td>4</td>\n",
              "      <td>2017</td>\n",
              "    </tr>\n",
              "    <tr>\n",
              "      <th>2017-04-15 04:00:00</th>\n",
              "      <td>0</td>\n",
              "      <td>6</td>\n",
              "      <td>4</td>\n",
              "      <td>8.4</td>\n",
              "      <td>-4.3</td>\n",
              "      <td>40</td>\n",
              "      <td>20</td>\n",
              "      <td>4</td>\n",
              "      <td>101.58</td>\n",
              "      <td>12</td>\n",
              "      <td>4</td>\n",
              "      <td>2017</td>\n",
              "    </tr>\n",
              "  </tbody>\n",
              "</table>\n",
              "</div>"
            ],
            "text/plain": [
              "                     Working_day  week_day  Hours  ...  Count  month  Years\n",
              "start_date                                         ...                     \n",
              "2017-04-15 00:00:00            0         6      0  ...    144      4   2017\n",
              "2017-04-15 01:00:00            0         6      1  ...     76      4   2017\n",
              "2017-04-15 02:00:00            0         6      2  ...     39      4   2017\n",
              "2017-04-15 03:00:00            0         6      3  ...     40      4   2017\n",
              "2017-04-15 04:00:00            0         6      4  ...     12      4   2017\n",
              "\n",
              "[5 rows x 12 columns]"
            ]
          },
          "metadata": {
            "tags": []
          },
          "execution_count": 1088
        }
      ]
    },
    {
      "cell_type": "code",
      "metadata": {
        "id": "gXiqlK4twUIf"
      },
      "source": [
        "#bike_df.reset_index(inplace=True)"
      ],
      "execution_count": 1089,
      "outputs": []
    },
    {
      "cell_type": "code",
      "metadata": {
        "id": "vot7rWeIQWVi"
      },
      "source": [
        "#bike_new = bike_df.groupby(['start_date']).apply(grp)"
      ],
      "execution_count": 1090,
      "outputs": []
    },
    {
      "cell_type": "code",
      "metadata": {
        "id": "YEw670rqwX71"
      },
      "source": [
        "bike_new = bike_df"
      ],
      "execution_count": 1091,
      "outputs": []
    },
    {
      "cell_type": "code",
      "metadata": {
        "id": "oskvnusZVk73"
      },
      "source": [
        "#bike_new = bike_new.drop(labels = ['start_date'], axis=1)"
      ],
      "execution_count": 1092,
      "outputs": []
    },
    {
      "cell_type": "code",
      "metadata": {
        "colab": {
          "base_uri": "https://localhost:8080/",
          "height": 235
        },
        "id": "NhZMAcv9W34b",
        "outputId": "a06011b8-9ea7-4ede-afd2-e5a2bbf3258d"
      },
      "source": [
        "bike_new.head()"
      ],
      "execution_count": 1093,
      "outputs": [
        {
          "output_type": "execute_result",
          "data": {
            "text/html": [
              "<div>\n",
              "<style scoped>\n",
              "    .dataframe tbody tr th:only-of-type {\n",
              "        vertical-align: middle;\n",
              "    }\n",
              "\n",
              "    .dataframe tbody tr th {\n",
              "        vertical-align: top;\n",
              "    }\n",
              "\n",
              "    .dataframe thead th {\n",
              "        text-align: right;\n",
              "    }\n",
              "</style>\n",
              "<table border=\"1\" class=\"dataframe\">\n",
              "  <thead>\n",
              "    <tr style=\"text-align: right;\">\n",
              "      <th></th>\n",
              "      <th>Working_day</th>\n",
              "      <th>week_day</th>\n",
              "      <th>Hours</th>\n",
              "      <th>temp_celcius</th>\n",
              "      <th>dew_pt_celcius</th>\n",
              "      <th>rel_humidity</th>\n",
              "      <th>wind_dir</th>\n",
              "      <th>wind_speed</th>\n",
              "      <th>stn_press</th>\n",
              "      <th>Count</th>\n",
              "      <th>month</th>\n",
              "      <th>Years</th>\n",
              "    </tr>\n",
              "    <tr>\n",
              "      <th>start_date</th>\n",
              "      <th></th>\n",
              "      <th></th>\n",
              "      <th></th>\n",
              "      <th></th>\n",
              "      <th></th>\n",
              "      <th></th>\n",
              "      <th></th>\n",
              "      <th></th>\n",
              "      <th></th>\n",
              "      <th></th>\n",
              "      <th></th>\n",
              "      <th></th>\n",
              "    </tr>\n",
              "  </thead>\n",
              "  <tbody>\n",
              "    <tr>\n",
              "      <th>2017-04-15 00:00:00</th>\n",
              "      <td>0</td>\n",
              "      <td>6</td>\n",
              "      <td>0</td>\n",
              "      <td>11.4</td>\n",
              "      <td>-5.4</td>\n",
              "      <td>30</td>\n",
              "      <td>27</td>\n",
              "      <td>8</td>\n",
              "      <td>101.76</td>\n",
              "      <td>144</td>\n",
              "      <td>4</td>\n",
              "      <td>2017</td>\n",
              "    </tr>\n",
              "    <tr>\n",
              "      <th>2017-04-15 01:00:00</th>\n",
              "      <td>0</td>\n",
              "      <td>6</td>\n",
              "      <td>1</td>\n",
              "      <td>10.8</td>\n",
              "      <td>-6.2</td>\n",
              "      <td>30</td>\n",
              "      <td>27</td>\n",
              "      <td>9</td>\n",
              "      <td>101.70</td>\n",
              "      <td>76</td>\n",
              "      <td>4</td>\n",
              "      <td>2017</td>\n",
              "    </tr>\n",
              "    <tr>\n",
              "      <th>2017-04-15 02:00:00</th>\n",
              "      <td>0</td>\n",
              "      <td>6</td>\n",
              "      <td>2</td>\n",
              "      <td>10.9</td>\n",
              "      <td>-6.3</td>\n",
              "      <td>29</td>\n",
              "      <td>27</td>\n",
              "      <td>11</td>\n",
              "      <td>101.65</td>\n",
              "      <td>39</td>\n",
              "      <td>4</td>\n",
              "      <td>2017</td>\n",
              "    </tr>\n",
              "    <tr>\n",
              "      <th>2017-04-15 03:00:00</th>\n",
              "      <td>0</td>\n",
              "      <td>6</td>\n",
              "      <td>3</td>\n",
              "      <td>10.2</td>\n",
              "      <td>-6.0</td>\n",
              "      <td>31</td>\n",
              "      <td>27</td>\n",
              "      <td>9</td>\n",
              "      <td>101.61</td>\n",
              "      <td>40</td>\n",
              "      <td>4</td>\n",
              "      <td>2017</td>\n",
              "    </tr>\n",
              "    <tr>\n",
              "      <th>2017-04-15 04:00:00</th>\n",
              "      <td>0</td>\n",
              "      <td>6</td>\n",
              "      <td>4</td>\n",
              "      <td>8.4</td>\n",
              "      <td>-4.3</td>\n",
              "      <td>40</td>\n",
              "      <td>20</td>\n",
              "      <td>4</td>\n",
              "      <td>101.58</td>\n",
              "      <td>12</td>\n",
              "      <td>4</td>\n",
              "      <td>2017</td>\n",
              "    </tr>\n",
              "  </tbody>\n",
              "</table>\n",
              "</div>"
            ],
            "text/plain": [
              "                     Working_day  week_day  Hours  ...  Count  month  Years\n",
              "start_date                                         ...                     \n",
              "2017-04-15 00:00:00            0         6      0  ...    144      4   2017\n",
              "2017-04-15 01:00:00            0         6      1  ...     76      4   2017\n",
              "2017-04-15 02:00:00            0         6      2  ...     39      4   2017\n",
              "2017-04-15 03:00:00            0         6      3  ...     40      4   2017\n",
              "2017-04-15 04:00:00            0         6      4  ...     12      4   2017\n",
              "\n",
              "[5 rows x 12 columns]"
            ]
          },
          "metadata": {
            "tags": []
          },
          "execution_count": 1093
        }
      ]
    },
    {
      "cell_type": "code",
      "metadata": {
        "id": "yirDy2mn60Xb"
      },
      "source": [
        "#Use Time Series on the Count \r\n",
        "time_step = bike_new.index\r\n",
        "count = bike_new.values[:, -3]\r\n",
        "\r\n",
        "series = pd.Series(data = count, index=time_step)\r\n",
        "series = series[~series.index.duplicated(keep='first')]\r\n",
        "time = np.array(time_step)\r\n"
      ],
      "execution_count": 1094,
      "outputs": []
    },
    {
      "cell_type": "code",
      "metadata": {
        "id": "pjIuzd4X8Q5z",
        "colab": {
          "base_uri": "https://localhost:8080/",
          "height": 714
        },
        "outputId": "73318d21-2480-4838-f8ab-1dedf6128c35"
      },
      "source": [
        "def plot_series(time, series, format=\"-\", start=0, end=None):\r\n",
        "    plt.plot(time[start:end], series[start:end], format)\r\n",
        "    plt.xlabel(\"Time\")\r\n",
        "    plt.ylabel(\"Value\")\r\n",
        "    plt.grid(True)\r\n",
        "\r\n",
        "plt.figure(figsize=(20, 12))\r\n",
        "plot_series(time, series)\r\n",
        "plt.savefig('Time_Series_Hourly.png')"
      ],
      "execution_count": 1095,
      "outputs": [
        {
          "output_type": "display_data",
          "data": {
            "image/png": "[encoded data removed]",
            "text/plain": [
              "<Figure size 1440x864 with 1 Axes>"
            ]
          },
          "metadata": {
            "tags": [],
            "needs_background": "light"
          }
        }
      ]
    },
    {
      "cell_type": "code",
      "metadata": {
        "id": "ZHHP6I15Bm5s"
      },
      "source": [
        "#plt.savefig('Time_Series_Hourly.png')"
      ],
      "execution_count": 1096,
      "outputs": []
    },
    {
      "cell_type": "code",
      "metadata": {
        "id": "VhVZL1SK87ae"
      },
      "source": [
        "#sns.pairplot(bike_new)"
      ],
      "execution_count": 1097,
      "outputs": []
    },
    {
      "cell_type": "code",
      "metadata": {
        "id": "6acMtUIs95Ad",
        "colab": {
          "base_uri": "https://localhost:8080/"
        },
        "outputId": "500abf2d-bcf4-4ad5-b7be-3d29b070e81a"
      },
      "source": [
        "bike_new['Hours'] = bike_new['Hours'].astype(pd.np.int64)"
      ],
      "execution_count": 1098,
      "outputs": [
        {
          "output_type": "stream",
          "text": [
            "/usr/local/lib/python3.6/dist-packages/ipykernel_launcher.py:1: FutureWarning: The pandas.np module is deprecated and will be removed from pandas in a future version. Import numpy directly instead\n",
            "  \"\"\"Entry point for launching an IPython kernel.\n"
          ],
          "name": "stderr"
        }
      ]
    },
    {
      "cell_type": "code",
      "metadata": {
        "id": "w21imBrT8Jnb",
        "colab": {
          "base_uri": "https://localhost:8080/",
          "height": 296
        },
        "outputId": "dfac7390-ce1f-4945-ab14-bb61aa3bcd98"
      },
      "source": [
        "#Bike usage throughout the day\r\n",
        "\r\n",
        "sns.barplot(x=\"Hours\", y=\"Count\", data=bike_new)"
      ],
      "execution_count": 1099,
      "outputs": [
        {
          "output_type": "execute_result",
          "data": {
            "text/plain": [
              "<matplotlib.axes._subplots.AxesSubplot at 0x7fe69eb3feb8>"
            ]
          },
          "metadata": {
            "tags": []
          },
          "execution_count": 1099
        },
        {
          "output_type": "display_data",
          "data": {
            "image/png": "[encoded data removed]",
            "text/plain": [
              "<Figure size 432x288 with 1 Axes>"
            ]
          },
          "metadata": {
            "tags": [],
            "needs_background": "light"
          }
        }
      ]
    },
    {
      "cell_type": "code",
      "metadata": {
        "id": "zJ0GZahjAeOu",
        "colab": {
          "base_uri": "https://localhost:8080/",
          "height": 769
        },
        "outputId": "90a7914b-1668-44ec-e56f-bea8518c674c"
      },
      "source": [
        "#See correlation Matrix\r\n",
        "\r\n",
        "corrmat=bike_new.corr() \r\n",
        "top_corr_features=corrmat.index \r\n",
        "plt.figure(figsize=(12,12)) \r\n",
        "#plot heat map \r\n",
        "g=sns.heatmap(bike_new[top_corr_features].corr(),annot=True,cmap=\"RdYlGn\")\r\n",
        "#sns.heatmap(flight.corr(), annot = True)"
      ],
      "execution_count": 1100,
      "outputs": [
        {
          "output_type": "display_data",
          "data": {
            "image/png": "[encoded data removed]",
            "text/plain": [
              "<Figure size 864x864 with 2 Axes>"
            ]
          },
          "metadata": {
            "tags": [],
            "needs_background": "light"
          }
        }
      ]
    },
    {
      "cell_type": "markdown",
      "metadata": {
        "id": "FUMCB7-9BeQ8"
      },
      "source": [
        "##Split Data for trainig and testing the Model"
      ]
    },
    {
      "cell_type": "code",
      "metadata": {
        "id": "qjgvqd8QBpYQ",
        "colab": {
          "base_uri": "https://localhost:8080/",
          "height": 235
        },
        "outputId": "c28bafc7-e8e4-4981-9113-9b6f4712b32d"
      },
      "source": [
        "bike_new.head()"
      ],
      "execution_count": 1101,
      "outputs": [
        {
          "output_type": "execute_result",
          "data": {
            "text/html": [
              "<div>\n",
              "<style scoped>\n",
              "    .dataframe tbody tr th:only-of-type {\n",
              "        vertical-align: middle;\n",
              "    }\n",
              "\n",
              "    .dataframe tbody tr th {\n",
              "        vertical-align: top;\n",
              "    }\n",
              "\n",
              "    .dataframe thead th {\n",
              "        text-align: right;\n",
              "    }\n",
              "</style>\n",
              "<table border=\"1\" class=\"dataframe\">\n",
              "  <thead>\n",
              "    <tr style=\"text-align: right;\">\n",
              "      <th></th>\n",
              "      <th>Working_day</th>\n",
              "      <th>week_day</th>\n",
              "      <th>Hours</th>\n",
              "      <th>temp_celcius</th>\n",
              "      <th>dew_pt_celcius</th>\n",
              "      <th>rel_humidity</th>\n",
              "      <th>wind_dir</th>\n",
              "      <th>wind_speed</th>\n",
              "      <th>stn_press</th>\n",
              "      <th>Count</th>\n",
              "      <th>month</th>\n",
              "      <th>Years</th>\n",
              "    </tr>\n",
              "    <tr>\n",
              "      <th>start_date</th>\n",
              "      <th></th>\n",
              "      <th></th>\n",
              "      <th></th>\n",
              "      <th></th>\n",
              "      <th></th>\n",
              "      <th></th>\n",
              "      <th></th>\n",
              "      <th></th>\n",
              "      <th></th>\n",
              "      <th></th>\n",
              "      <th></th>\n",
              "      <th></th>\n",
              "    </tr>\n",
              "  </thead>\n",
              "  <tbody>\n",
              "    <tr>\n",
              "      <th>2017-04-15 00:00:00</th>\n",
              "      <td>0</td>\n",
              "      <td>6</td>\n",
              "      <td>0</td>\n",
              "      <td>11.4</td>\n",
              "      <td>-5.4</td>\n",
              "      <td>30</td>\n",
              "      <td>27</td>\n",
              "      <td>8</td>\n",
              "      <td>101.76</td>\n",
              "      <td>144</td>\n",
              "      <td>4</td>\n",
              "      <td>2017</td>\n",
              "    </tr>\n",
              "    <tr>\n",
              "      <th>2017-04-15 01:00:00</th>\n",
              "      <td>0</td>\n",
              "      <td>6</td>\n",
              "      <td>1</td>\n",
              "      <td>10.8</td>\n",
              "      <td>-6.2</td>\n",
              "      <td>30</td>\n",
              "      <td>27</td>\n",
              "      <td>9</td>\n",
              "      <td>101.70</td>\n",
              "      <td>76</td>\n",
              "      <td>4</td>\n",
              "      <td>2017</td>\n",
              "    </tr>\n",
              "    <tr>\n",
              "      <th>2017-04-15 02:00:00</th>\n",
              "      <td>0</td>\n",
              "      <td>6</td>\n",
              "      <td>2</td>\n",
              "      <td>10.9</td>\n",
              "      <td>-6.3</td>\n",
              "      <td>29</td>\n",
              "      <td>27</td>\n",
              "      <td>11</td>\n",
              "      <td>101.65</td>\n",
              "      <td>39</td>\n",
              "      <td>4</td>\n",
              "      <td>2017</td>\n",
              "    </tr>\n",
              "    <tr>\n",
              "      <th>2017-04-15 03:00:00</th>\n",
              "      <td>0</td>\n",
              "      <td>6</td>\n",
              "      <td>3</td>\n",
              "      <td>10.2</td>\n",
              "      <td>-6.0</td>\n",
              "      <td>31</td>\n",
              "      <td>27</td>\n",
              "      <td>9</td>\n",
              "      <td>101.61</td>\n",
              "      <td>40</td>\n",
              "      <td>4</td>\n",
              "      <td>2017</td>\n",
              "    </tr>\n",
              "    <tr>\n",
              "      <th>2017-04-15 04:00:00</th>\n",
              "      <td>0</td>\n",
              "      <td>6</td>\n",
              "      <td>4</td>\n",
              "      <td>8.4</td>\n",
              "      <td>-4.3</td>\n",
              "      <td>40</td>\n",
              "      <td>20</td>\n",
              "      <td>4</td>\n",
              "      <td>101.58</td>\n",
              "      <td>12</td>\n",
              "      <td>4</td>\n",
              "      <td>2017</td>\n",
              "    </tr>\n",
              "  </tbody>\n",
              "</table>\n",
              "</div>"
            ],
            "text/plain": [
              "                     Working_day  week_day  Hours  ...  Count  month  Years\n",
              "start_date                                         ...                     \n",
              "2017-04-15 00:00:00            0         6      0  ...    144      4   2017\n",
              "2017-04-15 01:00:00            0         6      1  ...     76      4   2017\n",
              "2017-04-15 02:00:00            0         6      2  ...     39      4   2017\n",
              "2017-04-15 03:00:00            0         6      3  ...     40      4   2017\n",
              "2017-04-15 04:00:00            0         6      4  ...     12      4   2017\n",
              "\n",
              "[5 rows x 12 columns]"
            ]
          },
          "metadata": {
            "tags": []
          },
          "execution_count": 1101
        }
      ]
    },
    {
      "cell_type": "code",
      "metadata": {
        "id": "0rUtO2sXHK5v",
        "colab": {
          "base_uri": "https://localhost:8080/"
        },
        "outputId": "9bddd8e8-5ccf-487e-a30d-e33159833331"
      },
      "source": [
        "#feature Engineering\r\n",
        "\r\n",
        "X = bike_new.drop(['Count'], axis=1)\r\n",
        "X.shape"
      ],
      "execution_count": 1102,
      "outputs": [
        {
          "output_type": "execute_result",
          "data": {
            "text/plain": [
              "(14954, 11)"
            ]
          },
          "metadata": {
            "tags": []
          },
          "execution_count": 1102
        }
      ]
    },
    {
      "cell_type": "code",
      "metadata": {
        "id": "nj4Fv29-HoHc"
      },
      "source": [
        "y=bike_new['Count']"
      ],
      "execution_count": 1103,
      "outputs": []
    },
    {
      "cell_type": "code",
      "metadata": {
        "id": "t8HowFzcHuyC",
        "colab": {
          "base_uri": "https://localhost:8080/"
        },
        "outputId": "3d4a0320-af02-475e-f573-cfd819cb5041"
      },
      "source": [
        "from sklearn.ensemble import ExtraTreesRegressor\r\n",
        "#import matplotlib.pyplot as plt\r\n",
        "model_h = ExtraTreesRegressor()\r\n",
        "model_h.fit(X,y)"
      ],
      "execution_count": 1104,
      "outputs": [
        {
          "output_type": "execute_result",
          "data": {
            "text/plain": [
              "ExtraTreesRegressor(bootstrap=False, ccp_alpha=0.0, criterion='mse',\n",
              "                    max_depth=None, max_features='auto', max_leaf_nodes=None,\n",
              "                    max_samples=None, min_impurity_decrease=0.0,\n",
              "                    min_impurity_split=None, min_samples_leaf=1,\n",
              "                    min_samples_split=2, min_weight_fraction_leaf=0.0,\n",
              "                    n_estimators=100, n_jobs=None, oob_score=False,\n",
              "                    random_state=None, verbose=0, warm_start=False)"
            ]
          },
          "metadata": {
            "tags": []
          },
          "execution_count": 1104
        }
      ]
    },
    {
      "cell_type": "code",
      "metadata": {
        "id": "oLjEOWlzH5f5",
        "colab": {
          "base_uri": "https://localhost:8080/"
        },
        "outputId": "490b4be9-01de-465a-bf5d-44eb90ee61c7"
      },
      "source": [
        "print(model_h.feature_importances_)"
      ],
      "execution_count": 1105,
      "outputs": [
        {
          "output_type": "stream",
          "text": [
            "[0.05791332 0.0188105  0.57268151 0.13716078 0.02153227 0.11979793\n",
            " 0.00814158 0.00785965 0.01045734 0.02600587 0.01963925]\n"
          ],
          "name": "stdout"
        }
      ]
    },
    {
      "cell_type": "code",
      "metadata": {
        "id": "GKWAKxZ6IA-k",
        "colab": {
          "base_uri": "https://localhost:8080/",
          "height": 265
        },
        "outputId": "fba45e7b-84de-4a12-f322-7079ed04ee30"
      },
      "source": [
        "#Features with most importance ('Hours' column is the most important feature in relation to the 'Count')\r\n",
        "\r\n",
        "feat_importance = pd.Series(model_h.feature_importances_, index=X.columns)\r\n",
        "feat_importance.nlargest(10).plot(kind='barh')\r\n",
        "plt.show()"
      ],
      "execution_count": 1106,
      "outputs": [
        {
          "output_type": "display_data",
          "data": {
            "image/png": "[encoded data removed]",
            "text/plain": [
              "<Figure size 432x288 with 1 Axes>"
            ]
          },
          "metadata": {
            "tags": [],
            "needs_background": "light"
          }
        }
      ]
    },
    {
      "cell_type": "code",
      "metadata": {
        "id": "rIRFt_buCMb-"
      },
      "source": [
        "# \r\n",
        "#Categorical features\r\n",
        "\r\n",
        "Xcat = bike_new[['Working_day', 'Hours', 'month','week_day']]\r\n",
        "#Xcat"
      ],
      "execution_count": 1107,
      "outputs": []
    },
    {
      "cell_type": "code",
      "metadata": {
        "id": "qVxsYKH-PN4t"
      },
      "source": [
        "Xynum = bike_new[['temp_celcius',\t'dew_pt_celcius',\t'rel_humidity', 'Years',\t'Count']]"
      ],
      "execution_count": 1108,
      "outputs": []
    },
    {
      "cell_type": "code",
      "metadata": {
        "id": "bDhpAhTvkVr3",
        "colab": {
          "base_uri": "https://localhost:8080/",
          "height": 450
        },
        "outputId": "a43d1b1e-72cb-4f76-fd19-ccbebb51b7e6"
      },
      "source": [
        "Xynum"
      ],
      "execution_count": 1109,
      "outputs": [
        {
          "output_type": "execute_result",
          "data": {
            "text/html": [
              "<div>\n",
              "<style scoped>\n",
              "    .dataframe tbody tr th:only-of-type {\n",
              "        vertical-align: middle;\n",
              "    }\n",
              "\n",
              "    .dataframe tbody tr th {\n",
              "        vertical-align: top;\n",
              "    }\n",
              "\n",
              "    .dataframe thead th {\n",
              "        text-align: right;\n",
              "    }\n",
              "</style>\n",
              "<table border=\"1\" class=\"dataframe\">\n",
              "  <thead>\n",
              "    <tr style=\"text-align: right;\">\n",
              "      <th></th>\n",
              "      <th>temp_celcius</th>\n",
              "      <th>dew_pt_celcius</th>\n",
              "      <th>rel_humidity</th>\n",
              "      <th>Years</th>\n",
              "      <th>Count</th>\n",
              "    </tr>\n",
              "    <tr>\n",
              "      <th>start_date</th>\n",
              "      <th></th>\n",
              "      <th></th>\n",
              "      <th></th>\n",
              "      <th></th>\n",
              "      <th></th>\n",
              "    </tr>\n",
              "  </thead>\n",
              "  <tbody>\n",
              "    <tr>\n",
              "      <th>2017-04-15 00:00:00</th>\n",
              "      <td>11.4</td>\n",
              "      <td>-5.4</td>\n",
              "      <td>30</td>\n",
              "      <td>2017</td>\n",
              "      <td>144</td>\n",
              "    </tr>\n",
              "    <tr>\n",
              "      <th>2017-04-15 01:00:00</th>\n",
              "      <td>10.8</td>\n",
              "      <td>-6.2</td>\n",
              "      <td>30</td>\n",
              "      <td>2017</td>\n",
              "      <td>76</td>\n",
              "    </tr>\n",
              "    <tr>\n",
              "      <th>2017-04-15 02:00:00</th>\n",
              "      <td>10.9</td>\n",
              "      <td>-6.3</td>\n",
              "      <td>29</td>\n",
              "      <td>2017</td>\n",
              "      <td>39</td>\n",
              "    </tr>\n",
              "    <tr>\n",
              "      <th>2017-04-15 03:00:00</th>\n",
              "      <td>10.2</td>\n",
              "      <td>-6.0</td>\n",
              "      <td>31</td>\n",
              "      <td>2017</td>\n",
              "      <td>40</td>\n",
              "    </tr>\n",
              "    <tr>\n",
              "      <th>2017-04-15 04:00:00</th>\n",
              "      <td>8.4</td>\n",
              "      <td>-4.3</td>\n",
              "      <td>40</td>\n",
              "      <td>2017</td>\n",
              "      <td>12</td>\n",
              "    </tr>\n",
              "    <tr>\n",
              "      <th>...</th>\n",
              "      <td>...</td>\n",
              "      <td>...</td>\n",
              "      <td>...</td>\n",
              "      <td>...</td>\n",
              "      <td>...</td>\n",
              "    </tr>\n",
              "    <tr>\n",
              "      <th>2019-10-31 19:00:00</th>\n",
              "      <td>12.3</td>\n",
              "      <td>11.9</td>\n",
              "      <td>97</td>\n",
              "      <td>2019</td>\n",
              "      <td>166</td>\n",
              "    </tr>\n",
              "    <tr>\n",
              "      <th>2019-10-31 20:00:00</th>\n",
              "      <td>10.3</td>\n",
              "      <td>9.8</td>\n",
              "      <td>97</td>\n",
              "      <td>2019</td>\n",
              "      <td>133</td>\n",
              "    </tr>\n",
              "    <tr>\n",
              "      <th>2019-10-31 21:00:00</th>\n",
              "      <td>9.2</td>\n",
              "      <td>8.7</td>\n",
              "      <td>97</td>\n",
              "      <td>2019</td>\n",
              "      <td>119</td>\n",
              "    </tr>\n",
              "    <tr>\n",
              "      <th>2019-10-31 22:00:00</th>\n",
              "      <td>8.5</td>\n",
              "      <td>7.9</td>\n",
              "      <td>96</td>\n",
              "      <td>2019</td>\n",
              "      <td>121</td>\n",
              "    </tr>\n",
              "    <tr>\n",
              "      <th>2019-10-31 23:00:00</th>\n",
              "      <td>8.2</td>\n",
              "      <td>7.7</td>\n",
              "      <td>97</td>\n",
              "      <td>2019</td>\n",
              "      <td>80</td>\n",
              "    </tr>\n",
              "  </tbody>\n",
              "</table>\n",
              "<p>14954 rows × 5 columns</p>\n",
              "</div>"
            ],
            "text/plain": [
              "                     temp_celcius  dew_pt_celcius  rel_humidity  Years  Count\n",
              "start_date                                                                   \n",
              "2017-04-15 00:00:00          11.4            -5.4            30   2017    144\n",
              "2017-04-15 01:00:00          10.8            -6.2            30   2017     76\n",
              "2017-04-15 02:00:00          10.9            -6.3            29   2017     39\n",
              "2017-04-15 03:00:00          10.2            -6.0            31   2017     40\n",
              "2017-04-15 04:00:00           8.4            -4.3            40   2017     12\n",
              "...                           ...             ...           ...    ...    ...\n",
              "2019-10-31 19:00:00          12.3            11.9            97   2019    166\n",
              "2019-10-31 20:00:00          10.3             9.8            97   2019    133\n",
              "2019-10-31 21:00:00           9.2             8.7            97   2019    119\n",
              "2019-10-31 22:00:00           8.5             7.9            96   2019    121\n",
              "2019-10-31 23:00:00           8.2             7.7            97   2019     80\n",
              "\n",
              "[14954 rows x 5 columns]"
            ]
          },
          "metadata": {
            "tags": []
          },
          "execution_count": 1109
        }
      ]
    },
    {
      "cell_type": "code",
      "metadata": {
        "id": "aYEOIHa5P8Sc",
        "colab": {
          "base_uri": "https://localhost:8080/"
        },
        "outputId": "fd783265-1575-4c58-ac30-a8d2d00bc9ff"
      },
      "source": [
        "#Onehotencode the categorical data\r\n",
        "from sklearn.preprocessing import OneHotEncoder\r\n",
        "onehotencoder = OneHotEncoder()\r\n",
        "Xcat = onehotencoder.fit_transform(Xcat).toarray()\r\n",
        "\r\n",
        "Xcat"
      ],
      "execution_count": 1110,
      "outputs": [
        {
          "output_type": "execute_result",
          "data": {
            "text/plain": [
              "array([[1., 0., 1., ..., 0., 1., 0.],\n",
              "       [1., 0., 0., ..., 0., 1., 0.],\n",
              "       [1., 0., 0., ..., 0., 1., 0.],\n",
              "       ...,\n",
              "       [0., 1., 0., ..., 0., 0., 0.],\n",
              "       [0., 1., 0., ..., 0., 0., 0.],\n",
              "       [0., 1., 0., ..., 0., 0., 0.]])"
            ]
          },
          "metadata": {
            "tags": []
          },
          "execution_count": 1110
        }
      ]
    },
    {
      "cell_type": "code",
      "metadata": {
        "id": "-ez_oO6nQmZl",
        "colab": {
          "base_uri": "https://localhost:8080/"
        },
        "outputId": "c5986ea0-3a09-49be-a175-9f81873bf590"
      },
      "source": [
        "Xcat.shape"
      ],
      "execution_count": 1111,
      "outputs": [
        {
          "output_type": "execute_result",
          "data": {
            "text/plain": [
              "(14954, 41)"
            ]
          },
          "metadata": {
            "tags": []
          },
          "execution_count": 1111
        }
      ]
    },
    {
      "cell_type": "code",
      "metadata": {
        "id": "kGw_ZpbKk5t4"
      },
      "source": [
        "Xynum = Xynum.reset_index()"
      ],
      "execution_count": 1112,
      "outputs": []
    },
    {
      "cell_type": "code",
      "metadata": {
        "id": "gEaMHHX0kGSU"
      },
      "source": [
        "Xcat = pd.DataFrame(Xcat)\r\n",
        "\r\n",
        "bike_all = pd.concat([Xcat, Xynum], axis=1)"
      ],
      "execution_count": 1113,
      "outputs": []
    },
    {
      "cell_type": "code",
      "metadata": {
        "id": "ed03iJw4ksiK",
        "colab": {
          "base_uri": "https://localhost:8080/",
          "height": 609
        },
        "outputId": "579207c8-9e74-4387-fc5d-08fc0139dd6a"
      },
      "source": [
        "bike_all"
      ],
      "execution_count": 1114,
      "outputs": [
        {
          "output_type": "execute_result",
          "data": {
            "text/html": [
              "<div>\n",
              "<style scoped>\n",
              "    .dataframe tbody tr th:only-of-type {\n",
              "        vertical-align: middle;\n",
              "    }\n",
              "\n",
              "    .dataframe tbody tr th {\n",
              "        vertical-align: top;\n",
              "    }\n",
              "\n",
              "    .dataframe thead th {\n",
              "        text-align: right;\n",
              "    }\n",
              "</style>\n",
              "<table border=\"1\" class=\"dataframe\">\n",
              "  <thead>\n",
              "    <tr style=\"text-align: right;\">\n",
              "      <th></th>\n",
              "      <th>0</th>\n",
              "      <th>1</th>\n",
              "      <th>2</th>\n",
              "      <th>3</th>\n",
              "      <th>4</th>\n",
              "      <th>5</th>\n",
              "      <th>6</th>\n",
              "      <th>7</th>\n",
              "      <th>8</th>\n",
              "      <th>9</th>\n",
              "      <th>10</th>\n",
              "      <th>11</th>\n",
              "      <th>12</th>\n",
              "      <th>13</th>\n",
              "      <th>14</th>\n",
              "      <th>15</th>\n",
              "      <th>16</th>\n",
              "      <th>17</th>\n",
              "      <th>18</th>\n",
              "      <th>19</th>\n",
              "      <th>20</th>\n",
              "      <th>21</th>\n",
              "      <th>22</th>\n",
              "      <th>23</th>\n",
              "      <th>24</th>\n",
              "      <th>25</th>\n",
              "      <th>26</th>\n",
              "      <th>27</th>\n",
              "      <th>28</th>\n",
              "      <th>29</th>\n",
              "      <th>30</th>\n",
              "      <th>31</th>\n",
              "      <th>32</th>\n",
              "      <th>33</th>\n",
              "      <th>34</th>\n",
              "      <th>35</th>\n",
              "      <th>36</th>\n",
              "      <th>37</th>\n",
              "      <th>38</th>\n",
              "      <th>39</th>\n",
              "      <th>40</th>\n",
              "      <th>start_date</th>\n",
              "      <th>temp_celcius</th>\n",
              "      <th>dew_pt_celcius</th>\n",
              "      <th>rel_humidity</th>\n",
              "      <th>Years</th>\n",
              "      <th>Count</th>\n",
              "    </tr>\n",
              "  </thead>\n",
              "  <tbody>\n",
              "    <tr>\n",
              "      <th>0</th>\n",
              "      <td>1.0</td>\n",
              "      <td>0.0</td>\n",
              "      <td>1.0</td>\n",
              "      <td>0.0</td>\n",
              "      <td>0.0</td>\n",
              "      <td>0.0</td>\n",
              "      <td>0.0</td>\n",
              "      <td>0.0</td>\n",
              "      <td>0.0</td>\n",
              "      <td>0.0</td>\n",
              "      <td>0.0</td>\n",
              "      <td>0.0</td>\n",
              "      <td>0.0</td>\n",
              "      <td>0.0</td>\n",
              "      <td>0.0</td>\n",
              "      <td>0.0</td>\n",
              "      <td>0.0</td>\n",
              "      <td>0.0</td>\n",
              "      <td>0.0</td>\n",
              "      <td>0.0</td>\n",
              "      <td>0.0</td>\n",
              "      <td>0.0</td>\n",
              "      <td>0.0</td>\n",
              "      <td>0.0</td>\n",
              "      <td>0.0</td>\n",
              "      <td>0.0</td>\n",
              "      <td>1.0</td>\n",
              "      <td>0.0</td>\n",
              "      <td>0.0</td>\n",
              "      <td>0.0</td>\n",
              "      <td>0.0</td>\n",
              "      <td>0.0</td>\n",
              "      <td>0.0</td>\n",
              "      <td>0.0</td>\n",
              "      <td>0.0</td>\n",
              "      <td>0.0</td>\n",
              "      <td>0.0</td>\n",
              "      <td>0.0</td>\n",
              "      <td>0.0</td>\n",
              "      <td>1.0</td>\n",
              "      <td>0.0</td>\n",
              "      <td>2017-04-15 00:00:00</td>\n",
              "      <td>11.4</td>\n",
              "      <td>-5.4</td>\n",
              "      <td>30</td>\n",
              "      <td>2017</td>\n",
              "      <td>144</td>\n",
              "    </tr>\n",
              "    <tr>\n",
              "      <th>1</th>\n",
              "      <td>1.0</td>\n",
              "      <td>0.0</td>\n",
              "      <td>0.0</td>\n",
              "      <td>1.0</td>\n",
              "      <td>0.0</td>\n",
              "      <td>0.0</td>\n",
              "      <td>0.0</td>\n",
              "      <td>0.0</td>\n",
              "      <td>0.0</td>\n",
              "      <td>0.0</td>\n",
              "      <td>0.0</td>\n",
              "      <td>0.0</td>\n",
              "      <td>0.0</td>\n",
              "      <td>0.0</td>\n",
              "      <td>0.0</td>\n",
              "      <td>0.0</td>\n",
              "      <td>0.0</td>\n",
              "      <td>0.0</td>\n",
              "      <td>0.0</td>\n",
              "      <td>0.0</td>\n",
              "      <td>0.0</td>\n",
              "      <td>0.0</td>\n",
              "      <td>0.0</td>\n",
              "      <td>0.0</td>\n",
              "      <td>0.0</td>\n",
              "      <td>0.0</td>\n",
              "      <td>1.0</td>\n",
              "      <td>0.0</td>\n",
              "      <td>0.0</td>\n",
              "      <td>0.0</td>\n",
              "      <td>0.0</td>\n",
              "      <td>0.0</td>\n",
              "      <td>0.0</td>\n",
              "      <td>0.0</td>\n",
              "      <td>0.0</td>\n",
              "      <td>0.0</td>\n",
              "      <td>0.0</td>\n",
              "      <td>0.0</td>\n",
              "      <td>0.0</td>\n",
              "      <td>1.0</td>\n",
              "      <td>0.0</td>\n",
              "      <td>2017-04-15 01:00:00</td>\n",
              "      <td>10.8</td>\n",
              "      <td>-6.2</td>\n",
              "      <td>30</td>\n",
              "      <td>2017</td>\n",
              "      <td>76</td>\n",
              "    </tr>\n",
              "    <tr>\n",
              "      <th>2</th>\n",
              "      <td>1.0</td>\n",
              "      <td>0.0</td>\n",
              "      <td>0.0</td>\n",
              "      <td>0.0</td>\n",
              "      <td>1.0</td>\n",
              "      <td>0.0</td>\n",
              "      <td>0.0</td>\n",
              "      <td>0.0</td>\n",
              "      <td>0.0</td>\n",
              "      <td>0.0</td>\n",
              "      <td>0.0</td>\n",
              "      <td>0.0</td>\n",
              "      <td>0.0</td>\n",
              "      <td>0.0</td>\n",
              "      <td>0.0</td>\n",
              "      <td>0.0</td>\n",
              "      <td>0.0</td>\n",
              "      <td>0.0</td>\n",
              "      <td>0.0</td>\n",
              "      <td>0.0</td>\n",
              "      <td>0.0</td>\n",
              "      <td>0.0</td>\n",
              "      <td>0.0</td>\n",
              "      <td>0.0</td>\n",
              "      <td>0.0</td>\n",
              "      <td>0.0</td>\n",
              "      <td>1.0</td>\n",
              "      <td>0.0</td>\n",
              "      <td>0.0</td>\n",
              "      <td>0.0</td>\n",
              "      <td>0.0</td>\n",
              "      <td>0.0</td>\n",
              "      <td>0.0</td>\n",
              "      <td>0.0</td>\n",
              "      <td>0.0</td>\n",
              "      <td>0.0</td>\n",
              "      <td>0.0</td>\n",
              "      <td>0.0</td>\n",
              "      <td>0.0</td>\n",
              "      <td>1.0</td>\n",
              "      <td>0.0</td>\n",
              "      <td>2017-04-15 02:00:00</td>\n",
              "      <td>10.9</td>\n",
              "      <td>-6.3</td>\n",
              "      <td>29</td>\n",
              "      <td>2017</td>\n",
              "      <td>39</td>\n",
              "    </tr>\n",
              "    <tr>\n",
              "      <th>3</th>\n",
              "      <td>1.0</td>\n",
              "      <td>0.0</td>\n",
              "      <td>0.0</td>\n",
              "      <td>0.0</td>\n",
              "      <td>0.0</td>\n",
              "      <td>1.0</td>\n",
              "      <td>0.0</td>\n",
              "      <td>0.0</td>\n",
              "      <td>0.0</td>\n",
              "      <td>0.0</td>\n",
              "      <td>0.0</td>\n",
              "      <td>0.0</td>\n",
              "      <td>0.0</td>\n",
              "      <td>0.0</td>\n",
              "      <td>0.0</td>\n",
              "      <td>0.0</td>\n",
              "      <td>0.0</td>\n",
              "      <td>0.0</td>\n",
              "      <td>0.0</td>\n",
              "      <td>0.0</td>\n",
              "      <td>0.0</td>\n",
              "      <td>0.0</td>\n",
              "      <td>0.0</td>\n",
              "      <td>0.0</td>\n",
              "      <td>0.0</td>\n",
              "      <td>0.0</td>\n",
              "      <td>1.0</td>\n",
              "      <td>0.0</td>\n",
              "      <td>0.0</td>\n",
              "      <td>0.0</td>\n",
              "      <td>0.0</td>\n",
              "      <td>0.0</td>\n",
              "      <td>0.0</td>\n",
              "      <td>0.0</td>\n",
              "      <td>0.0</td>\n",
              "      <td>0.0</td>\n",
              "      <td>0.0</td>\n",
              "      <td>0.0</td>\n",
              "      <td>0.0</td>\n",
              "      <td>1.0</td>\n",
              "      <td>0.0</td>\n",
              "      <td>2017-04-15 03:00:00</td>\n",
              "      <td>10.2</td>\n",
              "      <td>-6.0</td>\n",
              "      <td>31</td>\n",
              "      <td>2017</td>\n",
              "      <td>40</td>\n",
              "    </tr>\n",
              "    <tr>\n",
              "      <th>4</th>\n",
              "      <td>1.0</td>\n",
              "      <td>0.0</td>\n",
              "      <td>0.0</td>\n",
              "      <td>0.0</td>\n",
              "      <td>0.0</td>\n",
              "      <td>0.0</td>\n",
              "      <td>1.0</td>\n",
              "      <td>0.0</td>\n",
              "      <td>0.0</td>\n",
              "      <td>0.0</td>\n",
              "      <td>0.0</td>\n",
              "      <td>0.0</td>\n",
              "      <td>0.0</td>\n",
              "      <td>0.0</td>\n",
              "      <td>0.0</td>\n",
              "      <td>0.0</td>\n",
              "      <td>0.0</td>\n",
              "      <td>0.0</td>\n",
              "      <td>0.0</td>\n",
              "      <td>0.0</td>\n",
              "      <td>0.0</td>\n",
              "      <td>0.0</td>\n",
              "      <td>0.0</td>\n",
              "      <td>0.0</td>\n",
              "      <td>0.0</td>\n",
              "      <td>0.0</td>\n",
              "      <td>1.0</td>\n",
              "      <td>0.0</td>\n",
              "      <td>0.0</td>\n",
              "      <td>0.0</td>\n",
              "      <td>0.0</td>\n",
              "      <td>0.0</td>\n",
              "      <td>0.0</td>\n",
              "      <td>0.0</td>\n",
              "      <td>0.0</td>\n",
              "      <td>0.0</td>\n",
              "      <td>0.0</td>\n",
              "      <td>0.0</td>\n",
              "      <td>0.0</td>\n",
              "      <td>1.0</td>\n",
              "      <td>0.0</td>\n",
              "      <td>2017-04-15 04:00:00</td>\n",
              "      <td>8.4</td>\n",
              "      <td>-4.3</td>\n",
              "      <td>40</td>\n",
              "      <td>2017</td>\n",
              "      <td>12</td>\n",
              "    </tr>\n",
              "    <tr>\n",
              "      <th>...</th>\n",
              "      <td>...</td>\n",
              "      <td>...</td>\n",
              "      <td>...</td>\n",
              "      <td>...</td>\n",
              "      <td>...</td>\n",
              "      <td>...</td>\n",
              "      <td>...</td>\n",
              "      <td>...</td>\n",
              "      <td>...</td>\n",
              "      <td>...</td>\n",
              "      <td>...</td>\n",
              "      <td>...</td>\n",
              "      <td>...</td>\n",
              "      <td>...</td>\n",
              "      <td>...</td>\n",
              "      <td>...</td>\n",
              "      <td>...</td>\n",
              "      <td>...</td>\n",
              "      <td>...</td>\n",
              "      <td>...</td>\n",
              "      <td>...</td>\n",
              "      <td>...</td>\n",
              "      <td>...</td>\n",
              "      <td>...</td>\n",
              "      <td>...</td>\n",
              "      <td>...</td>\n",
              "      <td>...</td>\n",
              "      <td>...</td>\n",
              "      <td>...</td>\n",
              "      <td>...</td>\n",
              "      <td>...</td>\n",
              "      <td>...</td>\n",
              "      <td>...</td>\n",
              "      <td>...</td>\n",
              "      <td>...</td>\n",
              "      <td>...</td>\n",
              "      <td>...</td>\n",
              "      <td>...</td>\n",
              "      <td>...</td>\n",
              "      <td>...</td>\n",
              "      <td>...</td>\n",
              "      <td>...</td>\n",
              "      <td>...</td>\n",
              "      <td>...</td>\n",
              "      <td>...</td>\n",
              "      <td>...</td>\n",
              "      <td>...</td>\n",
              "    </tr>\n",
              "    <tr>\n",
              "      <th>14949</th>\n",
              "      <td>0.0</td>\n",
              "      <td>1.0</td>\n",
              "      <td>0.0</td>\n",
              "      <td>0.0</td>\n",
              "      <td>0.0</td>\n",
              "      <td>0.0</td>\n",
              "      <td>0.0</td>\n",
              "      <td>0.0</td>\n",
              "      <td>0.0</td>\n",
              "      <td>0.0</td>\n",
              "      <td>0.0</td>\n",
              "      <td>0.0</td>\n",
              "      <td>0.0</td>\n",
              "      <td>0.0</td>\n",
              "      <td>0.0</td>\n",
              "      <td>0.0</td>\n",
              "      <td>0.0</td>\n",
              "      <td>0.0</td>\n",
              "      <td>0.0</td>\n",
              "      <td>0.0</td>\n",
              "      <td>0.0</td>\n",
              "      <td>1.0</td>\n",
              "      <td>0.0</td>\n",
              "      <td>0.0</td>\n",
              "      <td>0.0</td>\n",
              "      <td>0.0</td>\n",
              "      <td>0.0</td>\n",
              "      <td>0.0</td>\n",
              "      <td>0.0</td>\n",
              "      <td>0.0</td>\n",
              "      <td>0.0</td>\n",
              "      <td>0.0</td>\n",
              "      <td>1.0</td>\n",
              "      <td>0.0</td>\n",
              "      <td>0.0</td>\n",
              "      <td>0.0</td>\n",
              "      <td>0.0</td>\n",
              "      <td>1.0</td>\n",
              "      <td>0.0</td>\n",
              "      <td>0.0</td>\n",
              "      <td>0.0</td>\n",
              "      <td>2019-10-31 19:00:00</td>\n",
              "      <td>12.3</td>\n",
              "      <td>11.9</td>\n",
              "      <td>97</td>\n",
              "      <td>2019</td>\n",
              "      <td>166</td>\n",
              "    </tr>\n",
              "    <tr>\n",
              "      <th>14950</th>\n",
              "      <td>0.0</td>\n",
              "      <td>1.0</td>\n",
              "      <td>0.0</td>\n",
              "      <td>0.0</td>\n",
              "      <td>0.0</td>\n",
              "      <td>0.0</td>\n",
              "      <td>0.0</td>\n",
              "      <td>0.0</td>\n",
              "      <td>0.0</td>\n",
              "      <td>0.0</td>\n",
              "      <td>0.0</td>\n",
              "      <td>0.0</td>\n",
              "      <td>0.0</td>\n",
              "      <td>0.0</td>\n",
              "      <td>0.0</td>\n",
              "      <td>0.0</td>\n",
              "      <td>0.0</td>\n",
              "      <td>0.0</td>\n",
              "      <td>0.0</td>\n",
              "      <td>0.0</td>\n",
              "      <td>0.0</td>\n",
              "      <td>0.0</td>\n",
              "      <td>1.0</td>\n",
              "      <td>0.0</td>\n",
              "      <td>0.0</td>\n",
              "      <td>0.0</td>\n",
              "      <td>0.0</td>\n",
              "      <td>0.0</td>\n",
              "      <td>0.0</td>\n",
              "      <td>0.0</td>\n",
              "      <td>0.0</td>\n",
              "      <td>0.0</td>\n",
              "      <td>1.0</td>\n",
              "      <td>0.0</td>\n",
              "      <td>0.0</td>\n",
              "      <td>0.0</td>\n",
              "      <td>0.0</td>\n",
              "      <td>1.0</td>\n",
              "      <td>0.0</td>\n",
              "      <td>0.0</td>\n",
              "      <td>0.0</td>\n",
              "      <td>2019-10-31 20:00:00</td>\n",
              "      <td>10.3</td>\n",
              "      <td>9.8</td>\n",
              "      <td>97</td>\n",
              "      <td>2019</td>\n",
              "      <td>133</td>\n",
              "    </tr>\n",
              "    <tr>\n",
              "      <th>14951</th>\n",
              "      <td>0.0</td>\n",
              "      <td>1.0</td>\n",
              "      <td>0.0</td>\n",
              "      <td>0.0</td>\n",
              "      <td>0.0</td>\n",
              "      <td>0.0</td>\n",
              "      <td>0.0</td>\n",
              "      <td>0.0</td>\n",
              "      <td>0.0</td>\n",
              "      <td>0.0</td>\n",
              "      <td>0.0</td>\n",
              "      <td>0.0</td>\n",
              "      <td>0.0</td>\n",
              "      <td>0.0</td>\n",
              "      <td>0.0</td>\n",
              "      <td>0.0</td>\n",
              "      <td>0.0</td>\n",
              "      <td>0.0</td>\n",
              "      <td>0.0</td>\n",
              "      <td>0.0</td>\n",
              "      <td>0.0</td>\n",
              "      <td>0.0</td>\n",
              "      <td>0.0</td>\n",
              "      <td>1.0</td>\n",
              "      <td>0.0</td>\n",
              "      <td>0.0</td>\n",
              "      <td>0.0</td>\n",
              "      <td>0.0</td>\n",
              "      <td>0.0</td>\n",
              "      <td>0.0</td>\n",
              "      <td>0.0</td>\n",
              "      <td>0.0</td>\n",
              "      <td>1.0</td>\n",
              "      <td>0.0</td>\n",
              "      <td>0.0</td>\n",
              "      <td>0.0</td>\n",
              "      <td>0.0</td>\n",
              "      <td>1.0</td>\n",
              "      <td>0.0</td>\n",
              "      <td>0.0</td>\n",
              "      <td>0.0</td>\n",
              "      <td>2019-10-31 21:00:00</td>\n",
              "      <td>9.2</td>\n",
              "      <td>8.7</td>\n",
              "      <td>97</td>\n",
              "      <td>2019</td>\n",
              "      <td>119</td>\n",
              "    </tr>\n",
              "    <tr>\n",
              "      <th>14952</th>\n",
              "      <td>0.0</td>\n",
              "      <td>1.0</td>\n",
              "      <td>0.0</td>\n",
              "      <td>0.0</td>\n",
              "      <td>0.0</td>\n",
              "      <td>0.0</td>\n",
              "      <td>0.0</td>\n",
              "      <td>0.0</td>\n",
              "      <td>0.0</td>\n",
              "      <td>0.0</td>\n",
              "      <td>0.0</td>\n",
              "      <td>0.0</td>\n",
              "      <td>0.0</td>\n",
              "      <td>0.0</td>\n",
              "      <td>0.0</td>\n",
              "      <td>0.0</td>\n",
              "      <td>0.0</td>\n",
              "      <td>0.0</td>\n",
              "      <td>0.0</td>\n",
              "      <td>0.0</td>\n",
              "      <td>0.0</td>\n",
              "      <td>0.0</td>\n",
              "      <td>0.0</td>\n",
              "      <td>0.0</td>\n",
              "      <td>1.0</td>\n",
              "      <td>0.0</td>\n",
              "      <td>0.0</td>\n",
              "      <td>0.0</td>\n",
              "      <td>0.0</td>\n",
              "      <td>0.0</td>\n",
              "      <td>0.0</td>\n",
              "      <td>0.0</td>\n",
              "      <td>1.0</td>\n",
              "      <td>0.0</td>\n",
              "      <td>0.0</td>\n",
              "      <td>0.0</td>\n",
              "      <td>0.0</td>\n",
              "      <td>1.0</td>\n",
              "      <td>0.0</td>\n",
              "      <td>0.0</td>\n",
              "      <td>0.0</td>\n",
              "      <td>2019-10-31 22:00:00</td>\n",
              "      <td>8.5</td>\n",
              "      <td>7.9</td>\n",
              "      <td>96</td>\n",
              "      <td>2019</td>\n",
              "      <td>121</td>\n",
              "    </tr>\n",
              "    <tr>\n",
              "      <th>14953</th>\n",
              "      <td>0.0</td>\n",
              "      <td>1.0</td>\n",
              "      <td>0.0</td>\n",
              "      <td>0.0</td>\n",
              "      <td>0.0</td>\n",
              "      <td>0.0</td>\n",
              "      <td>0.0</td>\n",
              "      <td>0.0</td>\n",
              "      <td>0.0</td>\n",
              "      <td>0.0</td>\n",
              "      <td>0.0</td>\n",
              "      <td>0.0</td>\n",
              "      <td>0.0</td>\n",
              "      <td>0.0</td>\n",
              "      <td>0.0</td>\n",
              "      <td>0.0</td>\n",
              "      <td>0.0</td>\n",
              "      <td>0.0</td>\n",
              "      <td>0.0</td>\n",
              "      <td>0.0</td>\n",
              "      <td>0.0</td>\n",
              "      <td>0.0</td>\n",
              "      <td>0.0</td>\n",
              "      <td>0.0</td>\n",
              "      <td>0.0</td>\n",
              "      <td>1.0</td>\n",
              "      <td>0.0</td>\n",
              "      <td>0.0</td>\n",
              "      <td>0.0</td>\n",
              "      <td>0.0</td>\n",
              "      <td>0.0</td>\n",
              "      <td>0.0</td>\n",
              "      <td>1.0</td>\n",
              "      <td>0.0</td>\n",
              "      <td>0.0</td>\n",
              "      <td>0.0</td>\n",
              "      <td>0.0</td>\n",
              "      <td>1.0</td>\n",
              "      <td>0.0</td>\n",
              "      <td>0.0</td>\n",
              "      <td>0.0</td>\n",
              "      <td>2019-10-31 23:00:00</td>\n",
              "      <td>8.2</td>\n",
              "      <td>7.7</td>\n",
              "      <td>97</td>\n",
              "      <td>2019</td>\n",
              "      <td>80</td>\n",
              "    </tr>\n",
              "  </tbody>\n",
              "</table>\n",
              "<p>14954 rows × 47 columns</p>\n",
              "</div>"
            ],
            "text/plain": [
              "         0    1    2    3  ...  dew_pt_celcius  rel_humidity  Years  Count\n",
              "0      1.0  0.0  1.0  0.0  ...            -5.4            30   2017    144\n",
              "1      1.0  0.0  0.0  1.0  ...            -6.2            30   2017     76\n",
              "2      1.0  0.0  0.0  0.0  ...            -6.3            29   2017     39\n",
              "3      1.0  0.0  0.0  0.0  ...            -6.0            31   2017     40\n",
              "4      1.0  0.0  0.0  0.0  ...            -4.3            40   2017     12\n",
              "...    ...  ...  ...  ...  ...             ...           ...    ...    ...\n",
              "14949  0.0  1.0  0.0  0.0  ...            11.9            97   2019    166\n",
              "14950  0.0  1.0  0.0  0.0  ...             9.8            97   2019    133\n",
              "14951  0.0  1.0  0.0  0.0  ...             8.7            97   2019    119\n",
              "14952  0.0  1.0  0.0  0.0  ...             7.9            96   2019    121\n",
              "14953  0.0  1.0  0.0  0.0  ...             7.7            97   2019     80\n",
              "\n",
              "[14954 rows x 47 columns]"
            ]
          },
          "metadata": {
            "tags": []
          },
          "execution_count": 1114
        }
      ]
    },
    {
      "cell_type": "code",
      "metadata": {
        "id": "7YhvuA47mDBs"
      },
      "source": [
        "bike_all = bike_all.drop(['start_date'], axis = 1)"
      ],
      "execution_count": 1115,
      "outputs": []
    },
    {
      "cell_type": "code",
      "metadata": {
        "id": "GBRrJxlymRlv",
        "colab": {
          "base_uri": "https://localhost:8080/",
          "height": 439
        },
        "outputId": "7acb1902-80ad-45bc-df81-5b57084cd175"
      },
      "source": [
        "bike_all"
      ],
      "execution_count": 1116,
      "outputs": [
        {
          "output_type": "execute_result",
          "data": {
            "text/html": [
              "<div>\n",
              "<style scoped>\n",
              "    .dataframe tbody tr th:only-of-type {\n",
              "        vertical-align: middle;\n",
              "    }\n",
              "\n",
              "    .dataframe tbody tr th {\n",
              "        vertical-align: top;\n",
              "    }\n",
              "\n",
              "    .dataframe thead th {\n",
              "        text-align: right;\n",
              "    }\n",
              "</style>\n",
              "<table border=\"1\" class=\"dataframe\">\n",
              "  <thead>\n",
              "    <tr style=\"text-align: right;\">\n",
              "      <th></th>\n",
              "      <th>0</th>\n",
              "      <th>1</th>\n",
              "      <th>2</th>\n",
              "      <th>3</th>\n",
              "      <th>4</th>\n",
              "      <th>5</th>\n",
              "      <th>6</th>\n",
              "      <th>7</th>\n",
              "      <th>8</th>\n",
              "      <th>9</th>\n",
              "      <th>10</th>\n",
              "      <th>11</th>\n",
              "      <th>12</th>\n",
              "      <th>13</th>\n",
              "      <th>14</th>\n",
              "      <th>15</th>\n",
              "      <th>16</th>\n",
              "      <th>17</th>\n",
              "      <th>18</th>\n",
              "      <th>19</th>\n",
              "      <th>20</th>\n",
              "      <th>21</th>\n",
              "      <th>22</th>\n",
              "      <th>23</th>\n",
              "      <th>24</th>\n",
              "      <th>25</th>\n",
              "      <th>26</th>\n",
              "      <th>27</th>\n",
              "      <th>28</th>\n",
              "      <th>29</th>\n",
              "      <th>30</th>\n",
              "      <th>31</th>\n",
              "      <th>32</th>\n",
              "      <th>33</th>\n",
              "      <th>34</th>\n",
              "      <th>35</th>\n",
              "      <th>36</th>\n",
              "      <th>37</th>\n",
              "      <th>38</th>\n",
              "      <th>39</th>\n",
              "      <th>40</th>\n",
              "      <th>temp_celcius</th>\n",
              "      <th>dew_pt_celcius</th>\n",
              "      <th>rel_humidity</th>\n",
              "      <th>Years</th>\n",
              "      <th>Count</th>\n",
              "    </tr>\n",
              "  </thead>\n",
              "  <tbody>\n",
              "    <tr>\n",
              "      <th>0</th>\n",
              "      <td>1.0</td>\n",
              "      <td>0.0</td>\n",
              "      <td>1.0</td>\n",
              "      <td>0.0</td>\n",
              "      <td>0.0</td>\n",
              "      <td>0.0</td>\n",
              "      <td>0.0</td>\n",
              "      <td>0.0</td>\n",
              "      <td>0.0</td>\n",
              "      <td>0.0</td>\n",
              "      <td>0.0</td>\n",
              "      <td>0.0</td>\n",
              "      <td>0.0</td>\n",
              "      <td>0.0</td>\n",
              "      <td>0.0</td>\n",
              "      <td>0.0</td>\n",
              "      <td>0.0</td>\n",
              "      <td>0.0</td>\n",
              "      <td>0.0</td>\n",
              "      <td>0.0</td>\n",
              "      <td>0.0</td>\n",
              "      <td>0.0</td>\n",
              "      <td>0.0</td>\n",
              "      <td>0.0</td>\n",
              "      <td>0.0</td>\n",
              "      <td>0.0</td>\n",
              "      <td>1.0</td>\n",
              "      <td>0.0</td>\n",
              "      <td>0.0</td>\n",
              "      <td>0.0</td>\n",
              "      <td>0.0</td>\n",
              "      <td>0.0</td>\n",
              "      <td>0.0</td>\n",
              "      <td>0.0</td>\n",
              "      <td>0.0</td>\n",
              "      <td>0.0</td>\n",
              "      <td>0.0</td>\n",
              "      <td>0.0</td>\n",
              "      <td>0.0</td>\n",
              "      <td>1.0</td>\n",
              "      <td>0.0</td>\n",
              "      <td>11.4</td>\n",
              "      <td>-5.4</td>\n",
              "      <td>30</td>\n",
              "      <td>2017</td>\n",
              "      <td>144</td>\n",
              "    </tr>\n",
              "    <tr>\n",
              "      <th>1</th>\n",
              "      <td>1.0</td>\n",
              "      <td>0.0</td>\n",
              "      <td>0.0</td>\n",
              "      <td>1.0</td>\n",
              "      <td>0.0</td>\n",
              "      <td>0.0</td>\n",
              "      <td>0.0</td>\n",
              "      <td>0.0</td>\n",
              "      <td>0.0</td>\n",
              "      <td>0.0</td>\n",
              "      <td>0.0</td>\n",
              "      <td>0.0</td>\n",
              "      <td>0.0</td>\n",
              "      <td>0.0</td>\n",
              "      <td>0.0</td>\n",
              "      <td>0.0</td>\n",
              "      <td>0.0</td>\n",
              "      <td>0.0</td>\n",
              "      <td>0.0</td>\n",
              "      <td>0.0</td>\n",
              "      <td>0.0</td>\n",
              "      <td>0.0</td>\n",
              "      <td>0.0</td>\n",
              "      <td>0.0</td>\n",
              "      <td>0.0</td>\n",
              "      <td>0.0</td>\n",
              "      <td>1.0</td>\n",
              "      <td>0.0</td>\n",
              "      <td>0.0</td>\n",
              "      <td>0.0</td>\n",
              "      <td>0.0</td>\n",
              "      <td>0.0</td>\n",
              "      <td>0.0</td>\n",
              "      <td>0.0</td>\n",
              "      <td>0.0</td>\n",
              "      <td>0.0</td>\n",
              "      <td>0.0</td>\n",
              "      <td>0.0</td>\n",
              "      <td>0.0</td>\n",
              "      <td>1.0</td>\n",
              "      <td>0.0</td>\n",
              "      <td>10.8</td>\n",
              "      <td>-6.2</td>\n",
              "      <td>30</td>\n",
              "      <td>2017</td>\n",
              "      <td>76</td>\n",
              "    </tr>\n",
              "    <tr>\n",
              "      <th>2</th>\n",
              "      <td>1.0</td>\n",
              "      <td>0.0</td>\n",
              "      <td>0.0</td>\n",
              "      <td>0.0</td>\n",
              "      <td>1.0</td>\n",
              "      <td>0.0</td>\n",
              "      <td>0.0</td>\n",
              "      <td>0.0</td>\n",
              "      <td>0.0</td>\n",
              "      <td>0.0</td>\n",
              "      <td>0.0</td>\n",
              "      <td>0.0</td>\n",
              "      <td>0.0</td>\n",
              "      <td>0.0</td>\n",
              "      <td>0.0</td>\n",
              "      <td>0.0</td>\n",
              "      <td>0.0</td>\n",
              "      <td>0.0</td>\n",
              "      <td>0.0</td>\n",
              "      <td>0.0</td>\n",
              "      <td>0.0</td>\n",
              "      <td>0.0</td>\n",
              "      <td>0.0</td>\n",
              "      <td>0.0</td>\n",
              "      <td>0.0</td>\n",
              "      <td>0.0</td>\n",
              "      <td>1.0</td>\n",
              "      <td>0.0</td>\n",
              "      <td>0.0</td>\n",
              "      <td>0.0</td>\n",
              "      <td>0.0</td>\n",
              "      <td>0.0</td>\n",
              "      <td>0.0</td>\n",
              "      <td>0.0</td>\n",
              "      <td>0.0</td>\n",
              "      <td>0.0</td>\n",
              "      <td>0.0</td>\n",
              "      <td>0.0</td>\n",
              "      <td>0.0</td>\n",
              "      <td>1.0</td>\n",
              "      <td>0.0</td>\n",
              "      <td>10.9</td>\n",
              "      <td>-6.3</td>\n",
              "      <td>29</td>\n",
              "      <td>2017</td>\n",
              "      <td>39</td>\n",
              "    </tr>\n",
              "    <tr>\n",
              "      <th>3</th>\n",
              "      <td>1.0</td>\n",
              "      <td>0.0</td>\n",
              "      <td>0.0</td>\n",
              "      <td>0.0</td>\n",
              "      <td>0.0</td>\n",
              "      <td>1.0</td>\n",
              "      <td>0.0</td>\n",
              "      <td>0.0</td>\n",
              "      <td>0.0</td>\n",
              "      <td>0.0</td>\n",
              "      <td>0.0</td>\n",
              "      <td>0.0</td>\n",
              "      <td>0.0</td>\n",
              "      <td>0.0</td>\n",
              "      <td>0.0</td>\n",
              "      <td>0.0</td>\n",
              "      <td>0.0</td>\n",
              "      <td>0.0</td>\n",
              "      <td>0.0</td>\n",
              "      <td>0.0</td>\n",
              "      <td>0.0</td>\n",
              "      <td>0.0</td>\n",
              "      <td>0.0</td>\n",
              "      <td>0.0</td>\n",
              "      <td>0.0</td>\n",
              "      <td>0.0</td>\n",
              "      <td>1.0</td>\n",
              "      <td>0.0</td>\n",
              "      <td>0.0</td>\n",
              "      <td>0.0</td>\n",
              "      <td>0.0</td>\n",
              "      <td>0.0</td>\n",
              "      <td>0.0</td>\n",
              "      <td>0.0</td>\n",
              "      <td>0.0</td>\n",
              "      <td>0.0</td>\n",
              "      <td>0.0</td>\n",
              "      <td>0.0</td>\n",
              "      <td>0.0</td>\n",
              "      <td>1.0</td>\n",
              "      <td>0.0</td>\n",
              "      <td>10.2</td>\n",
              "      <td>-6.0</td>\n",
              "      <td>31</td>\n",
              "      <td>2017</td>\n",
              "      <td>40</td>\n",
              "    </tr>\n",
              "    <tr>\n",
              "      <th>4</th>\n",
              "      <td>1.0</td>\n",
              "      <td>0.0</td>\n",
              "      <td>0.0</td>\n",
              "      <td>0.0</td>\n",
              "      <td>0.0</td>\n",
              "      <td>0.0</td>\n",
              "      <td>1.0</td>\n",
              "      <td>0.0</td>\n",
              "      <td>0.0</td>\n",
              "      <td>0.0</td>\n",
              "      <td>0.0</td>\n",
              "      <td>0.0</td>\n",
              "      <td>0.0</td>\n",
              "      <td>0.0</td>\n",
              "      <td>0.0</td>\n",
              "      <td>0.0</td>\n",
              "      <td>0.0</td>\n",
              "      <td>0.0</td>\n",
              "      <td>0.0</td>\n",
              "      <td>0.0</td>\n",
              "      <td>0.0</td>\n",
              "      <td>0.0</td>\n",
              "      <td>0.0</td>\n",
              "      <td>0.0</td>\n",
              "      <td>0.0</td>\n",
              "      <td>0.0</td>\n",
              "      <td>1.0</td>\n",
              "      <td>0.0</td>\n",
              "      <td>0.0</td>\n",
              "      <td>0.0</td>\n",
              "      <td>0.0</td>\n",
              "      <td>0.0</td>\n",
              "      <td>0.0</td>\n",
              "      <td>0.0</td>\n",
              "      <td>0.0</td>\n",
              "      <td>0.0</td>\n",
              "      <td>0.0</td>\n",
              "      <td>0.0</td>\n",
              "      <td>0.0</td>\n",
              "      <td>1.0</td>\n",
              "      <td>0.0</td>\n",
              "      <td>8.4</td>\n",
              "      <td>-4.3</td>\n",
              "      <td>40</td>\n",
              "      <td>2017</td>\n",
              "      <td>12</td>\n",
              "    </tr>\n",
              "    <tr>\n",
              "      <th>...</th>\n",
              "      <td>...</td>\n",
              "      <td>...</td>\n",
              "      <td>...</td>\n",
              "      <td>...</td>\n",
              "      <td>...</td>\n",
              "      <td>...</td>\n",
              "      <td>...</td>\n",
              "      <td>...</td>\n",
              "      <td>...</td>\n",
              "      <td>...</td>\n",
              "      <td>...</td>\n",
              "      <td>...</td>\n",
              "      <td>...</td>\n",
              "      <td>...</td>\n",
              "      <td>...</td>\n",
              "      <td>...</td>\n",
              "      <td>...</td>\n",
              "      <td>...</td>\n",
              "      <td>...</td>\n",
              "      <td>...</td>\n",
              "      <td>...</td>\n",
              "      <td>...</td>\n",
              "      <td>...</td>\n",
              "      <td>...</td>\n",
              "      <td>...</td>\n",
              "      <td>...</td>\n",
              "      <td>...</td>\n",
              "      <td>...</td>\n",
              "      <td>...</td>\n",
              "      <td>...</td>\n",
              "      <td>...</td>\n",
              "      <td>...</td>\n",
              "      <td>...</td>\n",
              "      <td>...</td>\n",
              "      <td>...</td>\n",
              "      <td>...</td>\n",
              "      <td>...</td>\n",
              "      <td>...</td>\n",
              "      <td>...</td>\n",
              "      <td>...</td>\n",
              "      <td>...</td>\n",
              "      <td>...</td>\n",
              "      <td>...</td>\n",
              "      <td>...</td>\n",
              "      <td>...</td>\n",
              "      <td>...</td>\n",
              "    </tr>\n",
              "    <tr>\n",
              "      <th>14949</th>\n",
              "      <td>0.0</td>\n",
              "      <td>1.0</td>\n",
              "      <td>0.0</td>\n",
              "      <td>0.0</td>\n",
              "      <td>0.0</td>\n",
              "      <td>0.0</td>\n",
              "      <td>0.0</td>\n",
              "      <td>0.0</td>\n",
              "      <td>0.0</td>\n",
              "      <td>0.0</td>\n",
              "      <td>0.0</td>\n",
              "      <td>0.0</td>\n",
              "      <td>0.0</td>\n",
              "      <td>0.0</td>\n",
              "      <td>0.0</td>\n",
              "      <td>0.0</td>\n",
              "      <td>0.0</td>\n",
              "      <td>0.0</td>\n",
              "      <td>0.0</td>\n",
              "      <td>0.0</td>\n",
              "      <td>0.0</td>\n",
              "      <td>1.0</td>\n",
              "      <td>0.0</td>\n",
              "      <td>0.0</td>\n",
              "      <td>0.0</td>\n",
              "      <td>0.0</td>\n",
              "      <td>0.0</td>\n",
              "      <td>0.0</td>\n",
              "      <td>0.0</td>\n",
              "      <td>0.0</td>\n",
              "      <td>0.0</td>\n",
              "      <td>0.0</td>\n",
              "      <td>1.0</td>\n",
              "      <td>0.0</td>\n",
              "      <td>0.0</td>\n",
              "      <td>0.0</td>\n",
              "      <td>0.0</td>\n",
              "      <td>1.0</td>\n",
              "      <td>0.0</td>\n",
              "      <td>0.0</td>\n",
              "      <td>0.0</td>\n",
              "      <td>12.3</td>\n",
              "      <td>11.9</td>\n",
              "      <td>97</td>\n",
              "      <td>2019</td>\n",
              "      <td>166</td>\n",
              "    </tr>\n",
              "    <tr>\n",
              "      <th>14950</th>\n",
              "      <td>0.0</td>\n",
              "      <td>1.0</td>\n",
              "      <td>0.0</td>\n",
              "      <td>0.0</td>\n",
              "      <td>0.0</td>\n",
              "      <td>0.0</td>\n",
              "      <td>0.0</td>\n",
              "      <td>0.0</td>\n",
              "      <td>0.0</td>\n",
              "      <td>0.0</td>\n",
              "      <td>0.0</td>\n",
              "      <td>0.0</td>\n",
              "      <td>0.0</td>\n",
              "      <td>0.0</td>\n",
              "      <td>0.0</td>\n",
              "      <td>0.0</td>\n",
              "      <td>0.0</td>\n",
              "      <td>0.0</td>\n",
              "      <td>0.0</td>\n",
              "      <td>0.0</td>\n",
              "      <td>0.0</td>\n",
              "      <td>0.0</td>\n",
              "      <td>1.0</td>\n",
              "      <td>0.0</td>\n",
              "      <td>0.0</td>\n",
              "      <td>0.0</td>\n",
              "      <td>0.0</td>\n",
              "      <td>0.0</td>\n",
              "      <td>0.0</td>\n",
              "      <td>0.0</td>\n",
              "      <td>0.0</td>\n",
              "      <td>0.0</td>\n",
              "      <td>1.0</td>\n",
              "      <td>0.0</td>\n",
              "      <td>0.0</td>\n",
              "      <td>0.0</td>\n",
              "      <td>0.0</td>\n",
              "      <td>1.0</td>\n",
              "      <td>0.0</td>\n",
              "      <td>0.0</td>\n",
              "      <td>0.0</td>\n",
              "      <td>10.3</td>\n",
              "      <td>9.8</td>\n",
              "      <td>97</td>\n",
              "      <td>2019</td>\n",
              "      <td>133</td>\n",
              "    </tr>\n",
              "    <tr>\n",
              "      <th>14951</th>\n",
              "      <td>0.0</td>\n",
              "      <td>1.0</td>\n",
              "      <td>0.0</td>\n",
              "      <td>0.0</td>\n",
              "      <td>0.0</td>\n",
              "      <td>0.0</td>\n",
              "      <td>0.0</td>\n",
              "      <td>0.0</td>\n",
              "      <td>0.0</td>\n",
              "      <td>0.0</td>\n",
              "      <td>0.0</td>\n",
              "      <td>0.0</td>\n",
              "      <td>0.0</td>\n",
              "      <td>0.0</td>\n",
              "      <td>0.0</td>\n",
              "      <td>0.0</td>\n",
              "      <td>0.0</td>\n",
              "      <td>0.0</td>\n",
              "      <td>0.0</td>\n",
              "      <td>0.0</td>\n",
              "      <td>0.0</td>\n",
              "      <td>0.0</td>\n",
              "      <td>0.0</td>\n",
              "      <td>1.0</td>\n",
              "      <td>0.0</td>\n",
              "      <td>0.0</td>\n",
              "      <td>0.0</td>\n",
              "      <td>0.0</td>\n",
              "      <td>0.0</td>\n",
              "      <td>0.0</td>\n",
              "      <td>0.0</td>\n",
              "      <td>0.0</td>\n",
              "      <td>1.0</td>\n",
              "      <td>0.0</td>\n",
              "      <td>0.0</td>\n",
              "      <td>0.0</td>\n",
              "      <td>0.0</td>\n",
              "      <td>1.0</td>\n",
              "      <td>0.0</td>\n",
              "      <td>0.0</td>\n",
              "      <td>0.0</td>\n",
              "      <td>9.2</td>\n",
              "      <td>8.7</td>\n",
              "      <td>97</td>\n",
              "      <td>2019</td>\n",
              "      <td>119</td>\n",
              "    </tr>\n",
              "    <tr>\n",
              "      <th>14952</th>\n",
              "      <td>0.0</td>\n",
              "      <td>1.0</td>\n",
              "      <td>0.0</td>\n",
              "      <td>0.0</td>\n",
              "      <td>0.0</td>\n",
              "      <td>0.0</td>\n",
              "      <td>0.0</td>\n",
              "      <td>0.0</td>\n",
              "      <td>0.0</td>\n",
              "      <td>0.0</td>\n",
              "      <td>0.0</td>\n",
              "      <td>0.0</td>\n",
              "      <td>0.0</td>\n",
              "      <td>0.0</td>\n",
              "      <td>0.0</td>\n",
              "      <td>0.0</td>\n",
              "      <td>0.0</td>\n",
              "      <td>0.0</td>\n",
              "      <td>0.0</td>\n",
              "      <td>0.0</td>\n",
              "      <td>0.0</td>\n",
              "      <td>0.0</td>\n",
              "      <td>0.0</td>\n",
              "      <td>0.0</td>\n",
              "      <td>1.0</td>\n",
              "      <td>0.0</td>\n",
              "      <td>0.0</td>\n",
              "      <td>0.0</td>\n",
              "      <td>0.0</td>\n",
              "      <td>0.0</td>\n",
              "      <td>0.0</td>\n",
              "      <td>0.0</td>\n",
              "      <td>1.0</td>\n",
              "      <td>0.0</td>\n",
              "      <td>0.0</td>\n",
              "      <td>0.0</td>\n",
              "      <td>0.0</td>\n",
              "      <td>1.0</td>\n",
              "      <td>0.0</td>\n",
              "      <td>0.0</td>\n",
              "      <td>0.0</td>\n",
              "      <td>8.5</td>\n",
              "      <td>7.9</td>\n",
              "      <td>96</td>\n",
              "      <td>2019</td>\n",
              "      <td>121</td>\n",
              "    </tr>\n",
              "    <tr>\n",
              "      <th>14953</th>\n",
              "      <td>0.0</td>\n",
              "      <td>1.0</td>\n",
              "      <td>0.0</td>\n",
              "      <td>0.0</td>\n",
              "      <td>0.0</td>\n",
              "      <td>0.0</td>\n",
              "      <td>0.0</td>\n",
              "      <td>0.0</td>\n",
              "      <td>0.0</td>\n",
              "      <td>0.0</td>\n",
              "      <td>0.0</td>\n",
              "      <td>0.0</td>\n",
              "      <td>0.0</td>\n",
              "      <td>0.0</td>\n",
              "      <td>0.0</td>\n",
              "      <td>0.0</td>\n",
              "      <td>0.0</td>\n",
              "      <td>0.0</td>\n",
              "      <td>0.0</td>\n",
              "      <td>0.0</td>\n",
              "      <td>0.0</td>\n",
              "      <td>0.0</td>\n",
              "      <td>0.0</td>\n",
              "      <td>0.0</td>\n",
              "      <td>0.0</td>\n",
              "      <td>1.0</td>\n",
              "      <td>0.0</td>\n",
              "      <td>0.0</td>\n",
              "      <td>0.0</td>\n",
              "      <td>0.0</td>\n",
              "      <td>0.0</td>\n",
              "      <td>0.0</td>\n",
              "      <td>1.0</td>\n",
              "      <td>0.0</td>\n",
              "      <td>0.0</td>\n",
              "      <td>0.0</td>\n",
              "      <td>0.0</td>\n",
              "      <td>1.0</td>\n",
              "      <td>0.0</td>\n",
              "      <td>0.0</td>\n",
              "      <td>0.0</td>\n",
              "      <td>8.2</td>\n",
              "      <td>7.7</td>\n",
              "      <td>97</td>\n",
              "      <td>2019</td>\n",
              "      <td>80</td>\n",
              "    </tr>\n",
              "  </tbody>\n",
              "</table>\n",
              "<p>14954 rows × 46 columns</p>\n",
              "</div>"
            ],
            "text/plain": [
              "         0    1    2    3  ...  dew_pt_celcius  rel_humidity  Years  Count\n",
              "0      1.0  0.0  1.0  0.0  ...            -5.4            30   2017    144\n",
              "1      1.0  0.0  0.0  1.0  ...            -6.2            30   2017     76\n",
              "2      1.0  0.0  0.0  0.0  ...            -6.3            29   2017     39\n",
              "3      1.0  0.0  0.0  0.0  ...            -6.0            31   2017     40\n",
              "4      1.0  0.0  0.0  0.0  ...            -4.3            40   2017     12\n",
              "...    ...  ...  ...  ...  ...             ...           ...    ...    ...\n",
              "14949  0.0  1.0  0.0  0.0  ...            11.9            97   2019    166\n",
              "14950  0.0  1.0  0.0  0.0  ...             9.8            97   2019    133\n",
              "14951  0.0  1.0  0.0  0.0  ...             8.7            97   2019    119\n",
              "14952  0.0  1.0  0.0  0.0  ...             7.9            96   2019    121\n",
              "14953  0.0  1.0  0.0  0.0  ...             7.7            97   2019     80\n",
              "\n",
              "[14954 rows x 46 columns]"
            ]
          },
          "metadata": {
            "tags": []
          },
          "execution_count": 1116
        }
      ]
    },
    {
      "cell_type": "code",
      "metadata": {
        "id": "ybfEiraYmVTf"
      },
      "source": [
        "#Split the data before normalising and re-joining the features"
      ],
      "execution_count": 1117,
      "outputs": []
    },
    {
      "cell_type": "code",
      "metadata": {
        "id": "7Yb37RJcmc3F"
      },
      "source": [
        "X_set = bike_all.iloc[:, :-1].values\r\n",
        "Y_set = bike_all.iloc[:, -1:].values"
      ],
      "execution_count": 1118,
      "outputs": []
    },
    {
      "cell_type": "code",
      "metadata": {
        "id": "jmEcm9zrnBu1"
      },
      "source": [
        "from sklearn.model_selection import train_test_split\r\n",
        "X_train, X_test, Y_train, Y_test = train_test_split(X_set, Y_set, test_size = 0.2)"
      ],
      "execution_count": 1119,
      "outputs": []
    },
    {
      "cell_type": "code",
      "metadata": {
        "id": "gPZMazihnfM5",
        "colab": {
          "base_uri": "https://localhost:8080/"
        },
        "outputId": "fee845df-56a7-4a5e-9cec-971fad3badd5"
      },
      "source": [
        "X_train.shape, X_test.shape, Y_train.shape, Y_test.shape"
      ],
      "execution_count": 1120,
      "outputs": [
        {
          "output_type": "execute_result",
          "data": {
            "text/plain": [
              "((11963, 45), (2991, 45), (11963, 1), (2991, 1))"
            ]
          },
          "metadata": {
            "tags": []
          },
          "execution_count": 1120
        }
      ]
    },
    {
      "cell_type": "code",
      "metadata": {
        "id": "JCwki9YWpVsB",
        "colab": {
          "base_uri": "https://localhost:8080/"
        },
        "outputId": "9f79d3df-d9a5-45fa-9cde-a3689e1c44f6"
      },
      "source": [
        "X_train"
      ],
      "execution_count": 1121,
      "outputs": [
        {
          "output_type": "execute_result",
          "data": {
            "text/plain": [
              "array([[ 0.000e+00,  1.000e+00,  0.000e+00, ...,  3.700e+00,  4.900e+01,\n",
              "         2.019e+03],\n",
              "       [ 1.000e+00,  0.000e+00,  0.000e+00, ...,  1.310e+01,  4.900e+01,\n",
              "         2.017e+03],\n",
              "       [ 0.000e+00,  1.000e+00,  0.000e+00, ...,  8.500e+00,  8.400e+01,\n",
              "         2.018e+03],\n",
              "       ...,\n",
              "       [ 1.000e+00,  0.000e+00,  0.000e+00, ..., -9.400e+00,  6.000e+01,\n",
              "         2.018e+03],\n",
              "       [ 0.000e+00,  1.000e+00,  0.000e+00, ...,  1.570e+01,  6.000e+01,\n",
              "         2.018e+03],\n",
              "       [ 1.000e+00,  0.000e+00,  0.000e+00, ...,  4.400e+00,  9.300e+01,\n",
              "         2.018e+03]])"
            ]
          },
          "metadata": {
            "tags": []
          },
          "execution_count": 1121
        }
      ]
    },
    {
      "cell_type": "code",
      "metadata": {
        "id": "GPXBNBl9n9PC"
      },
      "source": [
        "X_trainN = X_train[:, -4:]\r\n"
      ],
      "execution_count": 1122,
      "outputs": []
    },
    {
      "cell_type": "code",
      "metadata": {
        "id": "Br7Aypl0pt4q"
      },
      "source": [
        "X_testN = X_test[:, -4:]"
      ],
      "execution_count": 1123,
      "outputs": []
    },
    {
      "cell_type": "code",
      "metadata": {
        "id": "0pWUbSfwo0pu",
        "colab": {
          "base_uri": "https://localhost:8080/"
        },
        "outputId": "0bbf2d57-16ed-4725-f2ed-43d98ce1dc9b"
      },
      "source": [
        "X_testN"
      ],
      "execution_count": 1124,
      "outputs": [
        {
          "output_type": "execute_result",
          "data": {
            "text/plain": [
              "array([[  26.6,   14.6,   48. , 2019. ],\n",
              "       [  13.5,    5.6,   59. , 2019. ],\n",
              "       [  12.3,    4. ,   57. , 2019. ],\n",
              "       ...,\n",
              "       [  27.3,   17.4,   55. , 2017. ],\n",
              "       [  21.5,   14.7,   65. , 2017. ],\n",
              "       [  19.3,   16.2,   82. , 2017. ]])"
            ]
          },
          "metadata": {
            "tags": []
          },
          "execution_count": 1124
        }
      ]
    },
    {
      "cell_type": "code",
      "metadata": {
        "id": "OUxNUaE0qHFX"
      },
      "source": [
        "#Normalize 'X features' yet to be normalised (X_trainN, X_testN) as well as the target feature 'Y'\r\n",
        "from sklearn.preprocessing import MinMaxScaler\r\n",
        "scaler = MinMaxScaler()\r\n",
        "X_trainN = scaler.fit_transform(X_trainN)\r\n",
        "X_testN = scaler.fit_transform(X_testN)\r\n",
        "Y_train = scaler.fit_transform(Y_train)\r\n",
        "Y_test = scaler.fit_transform(Y_test)"
      ],
      "execution_count": 1125,
      "outputs": []
    },
    {
      "cell_type": "code",
      "metadata": {
        "id": "vtR3syqaqxHp"
      },
      "source": [
        "#Replace Normalised features in the train set\r\n",
        "\r\n",
        "X_train = np.delete(X_train, np.s_[-4:], 1)\r\n",
        "X_train = np.concatenate((X_train, X_trainN), axis=1)\r\n",
        "\r\n",
        "X_test = np.delete(X_test, np.s_[-4:], 1)\r\n",
        "X_test = np.concatenate((X_test, X_testN), axis=1)"
      ],
      "execution_count": 1126,
      "outputs": []
    },
    {
      "cell_type": "code",
      "metadata": {
        "id": "GqIx1mPWtZua",
        "colab": {
          "base_uri": "https://localhost:8080/"
        },
        "outputId": "0e2ebff3-bb2f-45b9-8630-2d6fba734ca2"
      },
      "source": [
        "X_train.shape, X_test.shape"
      ],
      "execution_count": 1127,
      "outputs": [
        {
          "output_type": "execute_result",
          "data": {
            "text/plain": [
              "((11963, 45), (2991, 45))"
            ]
          },
          "metadata": {
            "tags": []
          },
          "execution_count": 1127
        }
      ]
    },
    {
      "cell_type": "code",
      "metadata": {
        "id": "0CiHYJ19thG0",
        "colab": {
          "base_uri": "https://localhost:8080/"
        },
        "outputId": "a5ef77bf-cfda-40a6-f6b3-f8a8b23f31dc"
      },
      "source": [
        "X_train"
      ],
      "execution_count": 1128,
      "outputs": [
        {
          "output_type": "execute_result",
          "data": {
            "text/plain": [
              "array([[0.        , 1.        , 0.        , ..., 0.52314815, 0.40697674,\n",
              "        1.        ],\n",
              "       [1.        , 0.        , 0.        , ..., 0.74074074, 0.40697674,\n",
              "        0.        ],\n",
              "       [0.        , 1.        , 0.        , ..., 0.63425926, 0.81395349,\n",
              "        0.5       ],\n",
              "       ...,\n",
              "       [1.        , 0.        , 0.        , ..., 0.21990741, 0.53488372,\n",
              "        0.5       ],\n",
              "       [0.        , 1.        , 0.        , ..., 0.80092593, 0.53488372,\n",
              "        0.5       ],\n",
              "       [1.        , 0.        , 0.        , ..., 0.53935185, 0.91860465,\n",
              "        0.5       ]])"
            ]
          },
          "metadata": {
            "tags": []
          },
          "execution_count": 1128
        }
      ]
    },
    {
      "cell_type": "code",
      "metadata": {
        "id": "v1uCF_f3uCaV",
        "colab": {
          "base_uri": "https://localhost:8080/"
        },
        "outputId": "d981de5c-ad50-4658-8f31-a000dab33c4a"
      },
      "source": [
        "X_test"
      ],
      "execution_count": 1129,
      "outputs": [
        {
          "output_type": "execute_result",
          "data": {
            "text/plain": [
              "array([[0.        , 1.        , 0.        , ..., 0.78110599, 0.36585366,\n",
              "        1.        ],\n",
              "       [0.        , 1.        , 0.        , ..., 0.57373272, 0.5       ,\n",
              "        1.        ],\n",
              "       [1.        , 0.        , 0.        , ..., 0.53686636, 0.47560976,\n",
              "        1.        ],\n",
              "       ...,\n",
              "       [0.        , 1.        , 0.        , ..., 0.84562212, 0.45121951,\n",
              "        0.        ],\n",
              "       [1.        , 0.        , 0.        , ..., 0.78341014, 0.57317073,\n",
              "        0.        ],\n",
              "       [0.        , 1.        , 0.        , ..., 0.81797235, 0.7804878 ,\n",
              "        0.        ]])"
            ]
          },
          "metadata": {
            "tags": []
          },
          "execution_count": 1129
        }
      ]
    },
    {
      "cell_type": "markdown",
      "metadata": {
        "id": "uc17lORKunU9"
      },
      "source": [
        "###**Summary of what been done so far:**\r\n",
        "- Obtained Data\r\n",
        "- Group data into hourly records (shrunk to 5220 instances)\r\n",
        "- Visualised data to identify correlations and important features\r\n",
        "- Clean and split data for model training\r\n",
        "- Onehotencoding for categorical features \r\n",
        "- Normalise some of the features that needs to be normalised from the numerical features\r\n",
        "- Join all the preprocessed features together ready for training\r\n"
      ]
    },
    {
      "cell_type": "markdown",
      "metadata": {
        "id": "5JBE-xrXuY5Z"
      },
      "source": [
        "##Build the NN Model"
      ]
    },
    {
      "cell_type": "code",
      "metadata": {
        "id": "YqVF8oHAuc7z"
      },
      "source": [
        "model = tf.keras.models.Sequential()\r\n",
        "model.add(tf.keras.layers.Dense(units=1000, activation='relu', input_shape=(45, )))\r\n",
        "model.add(tf.keras.layers.Dense(units=1000, activation='relu'))\r\n",
        "model.add(tf.keras.layers.Dense(units=800, activation='relu'))\r\n",
        "model.add(tf.keras.layers.Dense(units=400, activation='relu'))\r\n",
        "model.add(tf.keras.layers.Dense(units=200, activation='relu'))\r\n",
        "model.add(tf.keras.layers.Dense(units=200, activation='relu'))\r\n",
        "model.add(tf.keras.layers.Dropout(.1))\r\n",
        "model.add(tf.keras.layers.Dense(units=50, activation='relu'))\r\n",
        "model.add(tf.keras.layers.Dense(units=10, activation='relu'))\r\n",
        "model.add(tf.keras.layers.Dense(units=1, activation='linear'))"
      ],
      "execution_count": 1130,
      "outputs": []
    },
    {
      "cell_type": "code",
      "metadata": {
        "id": "RFIGX8dGwFHD",
        "colab": {
          "base_uri": "https://localhost:8080/"
        },
        "outputId": "7d5c67a6-82e9-498e-ea5f-f367f3bdee5b"
      },
      "source": [
        "model.summary()"
      ],
      "execution_count": 1131,
      "outputs": [
        {
          "output_type": "stream",
          "text": [
            "Model: \"sequential_39\"\n",
            "_________________________________________________________________\n",
            "Layer (type)                 Output Shape              Param #   \n",
            "=================================================================\n",
            "dense_292 (Dense)            (None, 1000)              46000     \n",
            "_________________________________________________________________\n",
            "dense_293 (Dense)            (None, 1000)              1001000   \n",
            "_________________________________________________________________\n",
            "dense_294 (Dense)            (None, 800)               800800    \n",
            "_________________________________________________________________\n",
            "dense_295 (Dense)            (None, 400)               320400    \n",
            "_________________________________________________________________\n",
            "dense_296 (Dense)            (None, 200)               80200     \n",
            "_________________________________________________________________\n",
            "dense_297 (Dense)            (None, 200)               40200     \n",
            "_________________________________________________________________\n",
            "dropout_20 (Dropout)         (None, 200)               0         \n",
            "_________________________________________________________________\n",
            "dense_298 (Dense)            (None, 50)                10050     \n",
            "_________________________________________________________________\n",
            "dense_299 (Dense)            (None, 10)                510       \n",
            "_________________________________________________________________\n",
            "dense_300 (Dense)            (None, 1)                 11        \n",
            "=================================================================\n",
            "Total params: 2,299,171\n",
            "Trainable params: 2,299,171\n",
            "Non-trainable params: 0\n",
            "_________________________________________________________________\n"
          ],
          "name": "stdout"
        }
      ]
    },
    {
      "cell_type": "code",
      "metadata": {
        "id": "UbyT94WQwKE3",
        "colab": {
          "base_uri": "https://localhost:8080/"
        },
        "outputId": "08d009a4-c616-489a-adfe-9219031703ee"
      },
      "source": [
        "from tensorflow import keras\r\n",
        "from tensorflow.keras import layers\r\n",
        "\r\n",
        "opt = keras.optimizers.Adam(learning_rate=0.001)\r\n",
        "\r\n",
        "model.compile(optimizer= opt, loss='mean_squared_error', metrics='mae')\r\n",
        "\r\n",
        "history = model.fit(X_train, Y_train, epochs = 35, validation_split=0.2, batch_size=20)\r\n"
      ],
      "execution_count": 1132,
      "outputs": [
        {
          "output_type": "stream",
          "text": [
            "Epoch 1/35\n",
            "479/479 [==============================] - 2s 3ms/step - loss: 0.0194 - mae: 0.0880 - val_loss: 0.0029 - val_mae: 0.0345\n",
            "Epoch 2/35\n",
            "479/479 [==============================] - 1s 3ms/step - loss: 0.0034 - mae: 0.0383 - val_loss: 0.0028 - val_mae: 0.0343\n",
            "Epoch 3/35\n",
            "479/479 [==============================] - 1s 3ms/step - loss: 0.0029 - mae: 0.0348 - val_loss: 0.0024 - val_mae: 0.0314\n",
            "Epoch 4/35\n",
            "479/479 [==============================] - 1s 3ms/step - loss: 0.0026 - mae: 0.0324 - val_loss: 0.0025 - val_mae: 0.0315\n",
            "Epoch 5/35\n",
            "479/479 [==============================] - 1s 3ms/step - loss: 0.0025 - mae: 0.0323 - val_loss: 0.0024 - val_mae: 0.0308\n",
            "Epoch 6/35\n",
            "479/479 [==============================] - 1s 3ms/step - loss: 0.0024 - mae: 0.0309 - val_loss: 0.0027 - val_mae: 0.0335\n",
            "Epoch 7/35\n",
            "479/479 [==============================] - 1s 3ms/step - loss: 0.0026 - mae: 0.0321 - val_loss: 0.0024 - val_mae: 0.0302\n",
            "Epoch 8/35\n",
            "479/479 [==============================] - 1s 3ms/step - loss: 0.0021 - mae: 0.0288 - val_loss: 0.0021 - val_mae: 0.0281\n",
            "Epoch 9/35\n",
            "479/479 [==============================] - 1s 3ms/step - loss: 0.0022 - mae: 0.0289 - val_loss: 0.0026 - val_mae: 0.0305\n",
            "Epoch 10/35\n",
            "479/479 [==============================] - 1s 3ms/step - loss: 0.0023 - mae: 0.0293 - val_loss: 0.0021 - val_mae: 0.0278\n",
            "Epoch 11/35\n",
            "479/479 [==============================] - 1s 3ms/step - loss: 0.0019 - mae: 0.0266 - val_loss: 0.0021 - val_mae: 0.0287\n",
            "Epoch 12/35\n",
            "479/479 [==============================] - 1s 3ms/step - loss: 0.0019 - mae: 0.0276 - val_loss: 0.0020 - val_mae: 0.0279\n",
            "Epoch 13/35\n",
            "479/479 [==============================] - 1s 3ms/step - loss: 0.0016 - mae: 0.0251 - val_loss: 0.0024 - val_mae: 0.0313\n",
            "Epoch 14/35\n",
            "479/479 [==============================] - 1s 3ms/step - loss: 0.0017 - mae: 0.0258 - val_loss: 0.0020 - val_mae: 0.0274\n",
            "Epoch 15/35\n",
            "479/479 [==============================] - 1s 3ms/step - loss: 0.0018 - mae: 0.0260 - val_loss: 0.0022 - val_mae: 0.0295\n",
            "Epoch 16/35\n",
            "479/479 [==============================] - 1s 3ms/step - loss: 0.0016 - mae: 0.0250 - val_loss: 0.0021 - val_mae: 0.0283\n",
            "Epoch 17/35\n",
            "479/479 [==============================] - 1s 3ms/step - loss: 0.0017 - mae: 0.0257 - val_loss: 0.0021 - val_mae: 0.0293\n",
            "Epoch 18/35\n",
            "479/479 [==============================] - 1s 3ms/step - loss: 0.0014 - mae: 0.0236 - val_loss: 0.0021 - val_mae: 0.0270\n",
            "Epoch 19/35\n",
            "479/479 [==============================] - 1s 3ms/step - loss: 0.0015 - mae: 0.0236 - val_loss: 0.0024 - val_mae: 0.0290\n",
            "Epoch 20/35\n",
            "479/479 [==============================] - 1s 3ms/step - loss: 0.0015 - mae: 0.0239 - val_loss: 0.0021 - val_mae: 0.0274\n",
            "Epoch 21/35\n",
            "479/479 [==============================] - 1s 3ms/step - loss: 0.0014 - mae: 0.0232 - val_loss: 0.0021 - val_mae: 0.0290\n",
            "Epoch 22/35\n",
            "479/479 [==============================] - 1s 3ms/step - loss: 0.0013 - mae: 0.0231 - val_loss: 0.0022 - val_mae: 0.0304\n",
            "Epoch 23/35\n",
            "479/479 [==============================] - 1s 3ms/step - loss: 0.0013 - mae: 0.0222 - val_loss: 0.0022 - val_mae: 0.0284\n",
            "Epoch 24/35\n",
            "479/479 [==============================] - 1s 3ms/step - loss: 0.0014 - mae: 0.0228 - val_loss: 0.0025 - val_mae: 0.0304\n",
            "Epoch 25/35\n",
            "479/479 [==============================] - 2s 4ms/step - loss: 0.0013 - mae: 0.0220 - val_loss: 0.0024 - val_mae: 0.0303\n",
            "Epoch 26/35\n",
            "479/479 [==============================] - 1s 3ms/step - loss: 0.0012 - mae: 0.0214 - val_loss: 0.0020 - val_mae: 0.0278\n",
            "Epoch 27/35\n",
            "479/479 [==============================] - 1s 3ms/step - loss: 0.0013 - mae: 0.0212 - val_loss: 0.0021 - val_mae: 0.0274\n",
            "Epoch 28/35\n",
            "479/479 [==============================] - 1s 3ms/step - loss: 0.0012 - mae: 0.0213 - val_loss: 0.0021 - val_mae: 0.0276\n",
            "Epoch 29/35\n",
            "479/479 [==============================] - 1s 3ms/step - loss: 0.0011 - mae: 0.0210 - val_loss: 0.0023 - val_mae: 0.0288\n",
            "Epoch 30/35\n",
            "479/479 [==============================] - 1s 3ms/step - loss: 0.0012 - mae: 0.0210 - val_loss: 0.0021 - val_mae: 0.0273\n",
            "Epoch 31/35\n",
            "479/479 [==============================] - 1s 3ms/step - loss: 0.0011 - mae: 0.0195 - val_loss: 0.0022 - val_mae: 0.0281\n",
            "Epoch 32/35\n",
            "479/479 [==============================] - 1s 3ms/step - loss: 0.0011 - mae: 0.0197 - val_loss: 0.0023 - val_mae: 0.0273\n",
            "Epoch 33/35\n",
            "479/479 [==============================] - 1s 3ms/step - loss: 0.0012 - mae: 0.0199 - val_loss: 0.0023 - val_mae: 0.0279\n",
            "Epoch 34/35\n",
            "479/479 [==============================] - 1s 3ms/step - loss: 0.0011 - mae: 0.0200 - val_loss: 0.0024 - val_mae: 0.0280\n",
            "Epoch 35/35\n",
            "479/479 [==============================] - 1s 3ms/step - loss: 0.0010 - mae: 0.0191 - val_loss: 0.0022 - val_mae: 0.0279\n"
          ],
          "name": "stdout"
        }
      ]
    },
    {
      "cell_type": "code",
      "metadata": {
        "id": "6Ezl3hC0xgAo",
        "colab": {
          "base_uri": "https://localhost:8080/",
          "height": 312
        },
        "outputId": "4711a730-bd6d-41c8-e38a-49e404f23555"
      },
      "source": [
        "plt.plot(history.history['loss'])\r\n",
        "plt.plot(history.history['val_loss'])\r\n",
        "\r\n",
        "plt.title('Model loss Progress During Training')\r\n",
        "plt.xlabel('Epochs')\r\n",
        "plt.ylabel('Training and Validation Loss ')"
      ],
      "execution_count": 1133,
      "outputs": [
        {
          "output_type": "execute_result",
          "data": {
            "text/plain": [
              "Text(0, 0.5, 'Training and Validation Loss ')"
            ]
          },
          "metadata": {
            "tags": []
          },
          "execution_count": 1133
        },
        {
          "output_type": "display_data",
          "data": {
            "image/png": "[encoded data removed]",
            "text/plain": [
              "<Figure size 432x288 with 1 Axes>"
            ]
          },
          "metadata": {
            "tags": [],
            "needs_background": "light"
          }
        }
      ]
    },
    {
      "cell_type": "code",
      "metadata": {
        "id": "NMQIqD4_3JFv",
        "colab": {
          "base_uri": "https://localhost:8080/",
          "height": 296
        },
        "outputId": "6d970cee-6c7c-4444-afda-023b846ff4c2"
      },
      "source": [
        "#Predict based on trained model\r\n",
        "Y_predict = model.predict(X_test)\r\n",
        "plt.plot(Y_test, Y_predict, 'o', color='r')\r\n",
        "plt.xlabel('Model Predictions')\r\n",
        "plt.ylabel('True Values')"
      ],
      "execution_count": 1134,
      "outputs": [
        {
          "output_type": "execute_result",
          "data": {
            "text/plain": [
              "Text(0, 0.5, 'True Values')"
            ]
          },
          "metadata": {
            "tags": []
          },
          "execution_count": 1134
        },
        {
          "output_type": "display_data",
          "data": {
            "image/png": "[encoded data removed]",
            "text/plain": [
              "<Figure size 432x288 with 1 Axes>"
            ]
          },
          "metadata": {
            "tags": [],
            "needs_background": "light"
          }
        }
      ]
    },
    {
      "cell_type": "code",
      "metadata": {
        "id": "J_Iphot95g96"
      },
      "source": [
        "Y_predict_orig = scaler.inverse_transform(Y_predict)"
      ],
      "execution_count": 1135,
      "outputs": []
    },
    {
      "cell_type": "code",
      "metadata": {
        "id": "4-8YQ8v851WD"
      },
      "source": [
        "Y_test_orig = scaler.inverse_transform(Y_test)"
      ],
      "execution_count": 1136,
      "outputs": []
    },
    {
      "cell_type": "code",
      "metadata": {
        "id": "hymrDCwv555N",
        "colab": {
          "base_uri": "https://localhost:8080/",
          "height": 296
        },
        "outputId": "fea11cc2-bb1c-4fee-b05b-b167dfe1ca2b"
      },
      "source": [
        "plt.plot(Y_test_orig, Y_predict_orig, '^', color='r')\r\n",
        "plt.xlabel('Model Predictions')\r\n",
        "plt.ylabel('True Values')"
      ],
      "execution_count": 1137,
      "outputs": [
        {
          "output_type": "execute_result",
          "data": {
            "text/plain": [
              "Text(0, 0.5, 'True Values')"
            ]
          },
          "metadata": {
            "tags": []
          },
          "execution_count": 1137
        },
        {
          "output_type": "display_data",
          "data": {
            "image/png": "[encoded data removed]",
            "text/plain": [
              "<Figure size 432x288 with 1 Axes>"
            ]
          },
          "metadata": {
            "tags": [],
            "needs_background": "light"
          }
        }
      ]
    },
    {
      "cell_type": "code",
      "metadata": {
        "id": "Hd5_hyjU6AGt",
        "colab": {
          "base_uri": "https://localhost:8080/"
        },
        "outputId": "3fa54a5a-76d7-4b87-da40-effc3e2ab012"
      },
      "source": [
        "n = len(X_test)\r\n",
        "n"
      ],
      "execution_count": 1138,
      "outputs": [
        {
          "output_type": "execute_result",
          "data": {
            "text/plain": [
              "2991"
            ]
          },
          "metadata": {
            "tags": []
          },
          "execution_count": 1138
        }
      ]
    },
    {
      "cell_type": "code",
      "metadata": {
        "id": "JwOb0zcL6FOf",
        "colab": {
          "base_uri": "https://localhost:8080/"
        },
        "outputId": "7cb962ce-405c-4931-a414-649988d6434e"
      },
      "source": [
        "K = X_test.shape[1]\r\n",
        "K"
      ],
      "execution_count": 1139,
      "outputs": [
        {
          "output_type": "execute_result",
          "data": {
            "text/plain": [
              "45"
            ]
          },
          "metadata": {
            "tags": []
          },
          "execution_count": 1139
        }
      ]
    },
    {
      "cell_type": "code",
      "metadata": {
        "id": "dn2W0Ebs6KHG",
        "colab": {
          "base_uri": "https://localhost:8080/"
        },
        "outputId": "d040deaa-c41b-408e-c310-bac69e48b418"
      },
      "source": [
        "from sklearn.metrics import r2_score, mean_squared_error, mean_absolute_error\r\n",
        "from math import sqrt\r\n",
        "\r\n",
        "RMSE = float(format(np.sqrt(mean_squared_error(Y_test_orig, Y_predict_orig)), '0.3f'))\r\n",
        "RMSE"
      ],
      "execution_count": 1140,
      "outputs": [
        {
          "output_type": "execute_result",
          "data": {
            "text/plain": [
              "206.206"
            ]
          },
          "metadata": {
            "tags": []
          },
          "execution_count": 1140
        }
      ]
    },
    {
      "cell_type": "code",
      "metadata": {
        "id": "Zm_4hFRG6OGA"
      },
      "source": [
        "MSE = mean_squared_error(Y_test_orig, Y_predict_orig)\r\n",
        "MAE = mean_absolute_error(Y_test_orig, Y_predict_orig)\r\n",
        "r2= r2_score(Y_test_orig, Y_predict_orig)\r\n",
        "adj_r2 = 1-(1-r2)*(n-1)/(n-K-1)"
      ],
      "execution_count": 1141,
      "outputs": []
    },
    {
      "cell_type": "code",
      "metadata": {
        "id": "x2-2A8QO6UY3",
        "colab": {
          "base_uri": "https://localhost:8080/"
        },
        "outputId": "bfc7c397-93c2-4611-8b04-2e64949073a9"
      },
      "source": [
        "print('RMSE =', RMSE, '\\nMSE =', MSE, '\\nMAE =',  MAE, '\\nr2 = ', r2, '\\nAdjusted r2 =', adj_r2)"
      ],
      "execution_count": 1142,
      "outputs": [
        {
          "output_type": "stream",
          "text": [
            "RMSE = 206.206 \n",
            "MSE = 42521.08470767817 \n",
            "MAE = 125.12729650114102 \n",
            "r2 =  0.9470882271878892 \n",
            "Adjusted r2 = 0.9462797281126617\n"
          ],
          "name": "stdout"
        }
      ]
    },
    {
      "cell_type": "code",
      "metadata": {
        "id": "hkpY6xWmG_pu",
        "colab": {
          "base_uri": "https://localhost:8080/"
        },
        "outputId": "cf8f953c-cd7d-4840-fb6f-823103892b6d"
      },
      "source": [
        "model.evaluate(X_test, Y_test, verbose=1,)"
      ],
      "execution_count": 1143,
      "outputs": [
        {
          "output_type": "stream",
          "text": [
            "94/94 [==============================] - 0s 2ms/step - loss: 0.0019 - mae: 0.0263\n"
          ],
          "name": "stdout"
        },
        {
          "output_type": "execute_result",
          "data": {
            "text/plain": [
              "[0.00187825842294842, 0.026298297569155693]"
            ]
          },
          "metadata": {
            "tags": []
          },
          "execution_count": 1143
        }
      ]
    },
    {
      "cell_type": "code",
      "metadata": {
        "id": "dowXRtuU78Wh"
      },
      "source": [
        "model.save('Dnn_bike.h5')"
      ],
      "execution_count": 1144,
      "outputs": []
    }
  ]
}