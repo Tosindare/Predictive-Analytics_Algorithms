{
  "nbformat": 4,
  "nbformat_minor": 0,
  "metadata": {
    "colab": {
      "name": "Random_Forest_Rental_Services prediction.ipynb",
      "provenance": [],
      "collapsed_sections": [],
      "toc_visible": true
    },
    "kernelspec": {
      "name": "python3",
      "display_name": "Python 3"
    },
    "accelerator": "GPU"
  },
  "cells": [
    {
      "cell_type": "markdown",
      "metadata": {
        "id": "uXvOuZhtrnUw"
      },
      "source": [
        "# Step #1: Import Datasets"
      ]
    },
    {
      "cell_type": "code",
      "metadata": {
        "id": "7Lz2BYYWx4T3"
      },
      "source": [
        "import tensorflow as tf\r\n",
        "import pandas as pd\r\n",
        "import numpy as np\r\n",
        "import seaborn as sns\r\n",
        "import matplotlib.pyplot as plt\r\n",
        "from tensorflow import keras"
      ],
      "execution_count": 2,
      "outputs": []
    },
    {
      "cell_type": "code",
      "metadata": {
        "colab": {
          "base_uri": "https://localhost:8080/"
        },
        "id": "zipDI-zMzwF4",
        "outputId": "090b7fb5-97da-4a0c-cf76-410f5d0c0ad7"
      },
      "source": [
        "from google.colab import drive\r\n",
        "drive.mount('/content/drive') "
      ],
      "execution_count": 3,
      "outputs": [
        {
          "output_type": "stream",
          "text": [
            "Mounted at /content/drive\n"
          ],
          "name": "stdout"
        }
      ]
    },
    {
      "cell_type": "code",
      "metadata": {
        "colab": {
          "base_uri": "https://localhost:8080/",
          "height": 419
        },
        "id": "UfJvBh8gz3QB",
        "outputId": "4c9c456d-7fe7-45c0-be1c-55fdff090820"
      },
      "source": [
        "bike_df = pd.read_csv('/content/drive/MyDrive/Colab Notebooks/Datasets/3yrs_Bike_data.csv')\r\n",
        "bike_df"
      ],
      "execution_count": 4,
      "outputs": [
        {
          "output_type": "execute_result",
          "data": {
            "text/html": [
              "<div>\n",
              "<style scoped>\n",
              "    .dataframe tbody tr th:only-of-type {\n",
              "        vertical-align: middle;\n",
              "    }\n",
              "\n",
              "    .dataframe tbody tr th {\n",
              "        vertical-align: top;\n",
              "    }\n",
              "\n",
              "    .dataframe thead th {\n",
              "        text-align: right;\n",
              "    }\n",
              "</style>\n",
              "<table border=\"1\" class=\"dataframe\">\n",
              "  <thead>\n",
              "    <tr style=\"text-align: right;\">\n",
              "      <th></th>\n",
              "      <th>New_time_format_BIXI</th>\n",
              "      <th>Working_day</th>\n",
              "      <th>week_day</th>\n",
              "      <th>Hours</th>\n",
              "      <th>temp_celcius</th>\n",
              "      <th>dew_pt_celcius</th>\n",
              "      <th>rel_humidity</th>\n",
              "      <th>wind_dir</th>\n",
              "      <th>wind_speed</th>\n",
              "      <th>stn_press</th>\n",
              "      <th>Count</th>\n",
              "      <th>month</th>\n",
              "      <th>Years</th>\n",
              "    </tr>\n",
              "  </thead>\n",
              "  <tbody>\n",
              "    <tr>\n",
              "      <th>0</th>\n",
              "      <td>2017-04-15 00</td>\n",
              "      <td>0</td>\n",
              "      <td>6</td>\n",
              "      <td>0</td>\n",
              "      <td>11.4</td>\n",
              "      <td>-5.4</td>\n",
              "      <td>30</td>\n",
              "      <td>27</td>\n",
              "      <td>8</td>\n",
              "      <td>101.76</td>\n",
              "      <td>144</td>\n",
              "      <td>4</td>\n",
              "      <td>2017</td>\n",
              "    </tr>\n",
              "    <tr>\n",
              "      <th>1</th>\n",
              "      <td>2017-04-15 01</td>\n",
              "      <td>0</td>\n",
              "      <td>6</td>\n",
              "      <td>1</td>\n",
              "      <td>10.8</td>\n",
              "      <td>-6.2</td>\n",
              "      <td>30</td>\n",
              "      <td>27</td>\n",
              "      <td>9</td>\n",
              "      <td>101.70</td>\n",
              "      <td>76</td>\n",
              "      <td>4</td>\n",
              "      <td>2017</td>\n",
              "    </tr>\n",
              "    <tr>\n",
              "      <th>2</th>\n",
              "      <td>2017-04-15 02</td>\n",
              "      <td>0</td>\n",
              "      <td>6</td>\n",
              "      <td>2</td>\n",
              "      <td>10.9</td>\n",
              "      <td>-6.3</td>\n",
              "      <td>29</td>\n",
              "      <td>27</td>\n",
              "      <td>11</td>\n",
              "      <td>101.65</td>\n",
              "      <td>39</td>\n",
              "      <td>4</td>\n",
              "      <td>2017</td>\n",
              "    </tr>\n",
              "    <tr>\n",
              "      <th>3</th>\n",
              "      <td>2017-04-15 03</td>\n",
              "      <td>0</td>\n",
              "      <td>6</td>\n",
              "      <td>3</td>\n",
              "      <td>10.2</td>\n",
              "      <td>-6.0</td>\n",
              "      <td>31</td>\n",
              "      <td>27</td>\n",
              "      <td>9</td>\n",
              "      <td>101.61</td>\n",
              "      <td>40</td>\n",
              "      <td>4</td>\n",
              "      <td>2017</td>\n",
              "    </tr>\n",
              "    <tr>\n",
              "      <th>4</th>\n",
              "      <td>2017-04-15 04</td>\n",
              "      <td>0</td>\n",
              "      <td>6</td>\n",
              "      <td>4</td>\n",
              "      <td>8.4</td>\n",
              "      <td>-4.3</td>\n",
              "      <td>40</td>\n",
              "      <td>20</td>\n",
              "      <td>4</td>\n",
              "      <td>101.58</td>\n",
              "      <td>12</td>\n",
              "      <td>4</td>\n",
              "      <td>2017</td>\n",
              "    </tr>\n",
              "    <tr>\n",
              "      <th>...</th>\n",
              "      <td>...</td>\n",
              "      <td>...</td>\n",
              "      <td>...</td>\n",
              "      <td>...</td>\n",
              "      <td>...</td>\n",
              "      <td>...</td>\n",
              "      <td>...</td>\n",
              "      <td>...</td>\n",
              "      <td>...</td>\n",
              "      <td>...</td>\n",
              "      <td>...</td>\n",
              "      <td>...</td>\n",
              "      <td>...</td>\n",
              "    </tr>\n",
              "    <tr>\n",
              "      <th>14949</th>\n",
              "      <td>2019-10-31 19</td>\n",
              "      <td>1</td>\n",
              "      <td>4</td>\n",
              "      <td>19</td>\n",
              "      <td>12.3</td>\n",
              "      <td>11.9</td>\n",
              "      <td>97</td>\n",
              "      <td>1</td>\n",
              "      <td>12</td>\n",
              "      <td>98.66</td>\n",
              "      <td>166</td>\n",
              "      <td>10</td>\n",
              "      <td>2019</td>\n",
              "    </tr>\n",
              "    <tr>\n",
              "      <th>14950</th>\n",
              "      <td>2019-10-31 20</td>\n",
              "      <td>1</td>\n",
              "      <td>4</td>\n",
              "      <td>20</td>\n",
              "      <td>10.3</td>\n",
              "      <td>9.8</td>\n",
              "      <td>97</td>\n",
              "      <td>1</td>\n",
              "      <td>13</td>\n",
              "      <td>98.60</td>\n",
              "      <td>133</td>\n",
              "      <td>10</td>\n",
              "      <td>2019</td>\n",
              "    </tr>\n",
              "    <tr>\n",
              "      <th>14951</th>\n",
              "      <td>2019-10-31 21</td>\n",
              "      <td>1</td>\n",
              "      <td>4</td>\n",
              "      <td>21</td>\n",
              "      <td>9.2</td>\n",
              "      <td>8.7</td>\n",
              "      <td>97</td>\n",
              "      <td>3</td>\n",
              "      <td>15</td>\n",
              "      <td>98.60</td>\n",
              "      <td>119</td>\n",
              "      <td>10</td>\n",
              "      <td>2019</td>\n",
              "    </tr>\n",
              "    <tr>\n",
              "      <th>14952</th>\n",
              "      <td>2019-10-31 22</td>\n",
              "      <td>1</td>\n",
              "      <td>4</td>\n",
              "      <td>22</td>\n",
              "      <td>8.5</td>\n",
              "      <td>7.9</td>\n",
              "      <td>96</td>\n",
              "      <td>2</td>\n",
              "      <td>11</td>\n",
              "      <td>98.47</td>\n",
              "      <td>121</td>\n",
              "      <td>10</td>\n",
              "      <td>2019</td>\n",
              "    </tr>\n",
              "    <tr>\n",
              "      <th>14953</th>\n",
              "      <td>2019-10-31 23</td>\n",
              "      <td>1</td>\n",
              "      <td>4</td>\n",
              "      <td>23</td>\n",
              "      <td>8.2</td>\n",
              "      <td>7.7</td>\n",
              "      <td>97</td>\n",
              "      <td>1</td>\n",
              "      <td>5</td>\n",
              "      <td>98.35</td>\n",
              "      <td>80</td>\n",
              "      <td>10</td>\n",
              "      <td>2019</td>\n",
              "    </tr>\n",
              "  </tbody>\n",
              "</table>\n",
              "<p>14954 rows × 13 columns</p>\n",
              "</div>"
            ],
            "text/plain": [
              "      New_time_format_BIXI  Working_day  week_day  ...  Count  month  Years\n",
              "0            2017-04-15 00            0         6  ...    144      4   2017\n",
              "1            2017-04-15 01            0         6  ...     76      4   2017\n",
              "2            2017-04-15 02            0         6  ...     39      4   2017\n",
              "3            2017-04-15 03            0         6  ...     40      4   2017\n",
              "4            2017-04-15 04            0         6  ...     12      4   2017\n",
              "...                    ...          ...       ...  ...    ...    ...    ...\n",
              "14949        2019-10-31 19            1         4  ...    166     10   2019\n",
              "14950        2019-10-31 20            1         4  ...    133     10   2019\n",
              "14951        2019-10-31 21            1         4  ...    119     10   2019\n",
              "14952        2019-10-31 22            1         4  ...    121     10   2019\n",
              "14953        2019-10-31 23            1         4  ...     80     10   2019\n",
              "\n",
              "[14954 rows x 13 columns]"
            ]
          },
          "metadata": {
            "tags": []
          },
          "execution_count": 4
        }
      ]
    },
    {
      "cell_type": "code",
      "metadata": {
        "colab": {
          "base_uri": "https://localhost:8080/",
          "height": 297
        },
        "id": "eltaeE9M3BX1",
        "outputId": "0496861a-2eec-4581-e1e7-e840af7c121b"
      },
      "source": [
        "bike_df.describe()"
      ],
      "execution_count": 5,
      "outputs": [
        {
          "output_type": "execute_result",
          "data": {
            "text/html": [
              "<div>\n",
              "<style scoped>\n",
              "    .dataframe tbody tr th:only-of-type {\n",
              "        vertical-align: middle;\n",
              "    }\n",
              "\n",
              "    .dataframe tbody tr th {\n",
              "        vertical-align: top;\n",
              "    }\n",
              "\n",
              "    .dataframe thead th {\n",
              "        text-align: right;\n",
              "    }\n",
              "</style>\n",
              "<table border=\"1\" class=\"dataframe\">\n",
              "  <thead>\n",
              "    <tr style=\"text-align: right;\">\n",
              "      <th></th>\n",
              "      <th>Working_day</th>\n",
              "      <th>week_day</th>\n",
              "      <th>Hours</th>\n",
              "      <th>temp_celcius</th>\n",
              "      <th>dew_pt_celcius</th>\n",
              "      <th>rel_humidity</th>\n",
              "      <th>wind_dir</th>\n",
              "      <th>wind_speed</th>\n",
              "      <th>stn_press</th>\n",
              "      <th>Count</th>\n",
              "      <th>month</th>\n",
              "      <th>Years</th>\n",
              "    </tr>\n",
              "  </thead>\n",
              "  <tbody>\n",
              "    <tr>\n",
              "      <th>count</th>\n",
              "      <td>14954.000000</td>\n",
              "      <td>14954.000000</td>\n",
              "      <td>14954.000000</td>\n",
              "      <td>14954.000000</td>\n",
              "      <td>14954.000000</td>\n",
              "      <td>14954.000000</td>\n",
              "      <td>14954.000000</td>\n",
              "      <td>14954.000000</td>\n",
              "      <td>14954.000000</td>\n",
              "      <td>14954.000000</td>\n",
              "      <td>14954.000000</td>\n",
              "      <td>14954.000000</td>\n",
              "    </tr>\n",
              "    <tr>\n",
              "      <th>mean</th>\n",
              "      <td>0.714391</td>\n",
              "      <td>3.990772</td>\n",
              "      <td>11.503879</td>\n",
              "      <td>16.067875</td>\n",
              "      <td>8.966464</td>\n",
              "      <td>65.646783</td>\n",
              "      <td>18.775512</td>\n",
              "      <td>6.182493</td>\n",
              "      <td>100.626652</td>\n",
              "      <td>1022.998729</td>\n",
              "      <td>7.343253</td>\n",
              "      <td>2017.964892</td>\n",
              "    </tr>\n",
              "    <tr>\n",
              "      <th>std</th>\n",
              "      <td>0.451719</td>\n",
              "      <td>2.002919</td>\n",
              "      <td>6.926563</td>\n",
              "      <td>7.405918</td>\n",
              "      <td>7.383633</td>\n",
              "      <td>18.602370</td>\n",
              "      <td>10.299778</td>\n",
              "      <td>2.907672</td>\n",
              "      <td>0.724800</td>\n",
              "      <td>893.835045</td>\n",
              "      <td>2.032786</td>\n",
              "      <td>0.804030</td>\n",
              "    </tr>\n",
              "    <tr>\n",
              "      <th>min</th>\n",
              "      <td>0.000000</td>\n",
              "      <td>1.000000</td>\n",
              "      <td>0.000000</td>\n",
              "      <td>-10.700000</td>\n",
              "      <td>-19.300000</td>\n",
              "      <td>14.000000</td>\n",
              "      <td>0.000000</td>\n",
              "      <td>1.000000</td>\n",
              "      <td>96.820000</td>\n",
              "      <td>3.000000</td>\n",
              "      <td>4.000000</td>\n",
              "      <td>2017.000000</td>\n",
              "    </tr>\n",
              "    <tr>\n",
              "      <th>25%</th>\n",
              "      <td>0.000000</td>\n",
              "      <td>2.000000</td>\n",
              "      <td>5.000000</td>\n",
              "      <td>10.900000</td>\n",
              "      <td>4.200000</td>\n",
              "      <td>52.000000</td>\n",
              "      <td>13.000000</td>\n",
              "      <td>4.000000</td>\n",
              "      <td>100.160000</td>\n",
              "      <td>262.000000</td>\n",
              "      <td>6.000000</td>\n",
              "      <td>2017.000000</td>\n",
              "    </tr>\n",
              "    <tr>\n",
              "      <th>50%</th>\n",
              "      <td>1.000000</td>\n",
              "      <td>4.000000</td>\n",
              "      <td>12.000000</td>\n",
              "      <td>16.800000</td>\n",
              "      <td>9.600000</td>\n",
              "      <td>66.000000</td>\n",
              "      <td>20.000000</td>\n",
              "      <td>6.000000</td>\n",
              "      <td>100.600000</td>\n",
              "      <td>833.500000</td>\n",
              "      <td>7.000000</td>\n",
              "      <td>2018.000000</td>\n",
              "    </tr>\n",
              "    <tr>\n",
              "      <th>75%</th>\n",
              "      <td>1.000000</td>\n",
              "      <td>6.000000</td>\n",
              "      <td>18.000000</td>\n",
              "      <td>21.700000</td>\n",
              "      <td>14.600000</td>\n",
              "      <td>81.000000</td>\n",
              "      <td>26.000000</td>\n",
              "      <td>8.000000</td>\n",
              "      <td>101.080000</td>\n",
              "      <td>1527.000000</td>\n",
              "      <td>9.000000</td>\n",
              "      <td>2019.000000</td>\n",
              "    </tr>\n",
              "    <tr>\n",
              "      <th>max</th>\n",
              "      <td>1.000000</td>\n",
              "      <td>7.000000</td>\n",
              "      <td>23.000000</td>\n",
              "      <td>35.800000</td>\n",
              "      <td>24.300000</td>\n",
              "      <td>100.000000</td>\n",
              "      <td>36.000000</td>\n",
              "      <td>25.000000</td>\n",
              "      <td>102.830000</td>\n",
              "      <td>4921.000000</td>\n",
              "      <td>11.000000</td>\n",
              "      <td>2019.000000</td>\n",
              "    </tr>\n",
              "  </tbody>\n",
              "</table>\n",
              "</div>"
            ],
            "text/plain": [
              "        Working_day      week_day  ...         month         Years\n",
              "count  14954.000000  14954.000000  ...  14954.000000  14954.000000\n",
              "mean       0.714391      3.990772  ...      7.343253   2017.964892\n",
              "std        0.451719      2.002919  ...      2.032786      0.804030\n",
              "min        0.000000      1.000000  ...      4.000000   2017.000000\n",
              "25%        0.000000      2.000000  ...      6.000000   2017.000000\n",
              "50%        1.000000      4.000000  ...      7.000000   2018.000000\n",
              "75%        1.000000      6.000000  ...      9.000000   2019.000000\n",
              "max        1.000000      7.000000  ...     11.000000   2019.000000\n",
              "\n",
              "[8 rows x 12 columns]"
            ]
          },
          "metadata": {
            "tags": []
          },
          "execution_count": 5
        }
      ]
    },
    {
      "cell_type": "code",
      "metadata": {
        "colab": {
          "base_uri": "https://localhost:8080/"
        },
        "id": "9PzaUXWO3hRQ",
        "outputId": "e2e8f33e-2e85-4898-ebed-b4d6e297e1fd"
      },
      "source": [
        "bike_df.info()"
      ],
      "execution_count": 6,
      "outputs": [
        {
          "output_type": "stream",
          "text": [
            "<class 'pandas.core.frame.DataFrame'>\n",
            "RangeIndex: 14954 entries, 0 to 14953\n",
            "Data columns (total 13 columns):\n",
            " #   Column                Non-Null Count  Dtype  \n",
            "---  ------                --------------  -----  \n",
            " 0   New_time_format_BIXI  14954 non-null  object \n",
            " 1   Working_day           14954 non-null  int64  \n",
            " 2   week_day              14954 non-null  int64  \n",
            " 3   Hours                 14954 non-null  int64  \n",
            " 4   temp_celcius          14954 non-null  float64\n",
            " 5   dew_pt_celcius        14954 non-null  float64\n",
            " 6   rel_humidity          14954 non-null  int64  \n",
            " 7   wind_dir              14954 non-null  int64  \n",
            " 8   wind_speed            14954 non-null  int64  \n",
            " 9   stn_press             14954 non-null  float64\n",
            " 10  Count                 14954 non-null  int64  \n",
            " 11  month                 14954 non-null  int64  \n",
            " 12  Years                 14954 non-null  int64  \n",
            "dtypes: float64(3), int64(9), object(1)\n",
            "memory usage: 1.5+ MB\n"
          ],
          "name": "stdout"
        }
      ]
    },
    {
      "cell_type": "markdown",
      "metadata": {
        "id": "q0glVpd8r1z4"
      },
      "source": [
        "# Step #2: Clean up dataset"
      ]
    },
    {
      "cell_type": "code",
      "metadata": {
        "colab": {
          "base_uri": "https://localhost:8080/",
          "height": 388
        },
        "id": "FJAZOAs13k6g",
        "outputId": "50f2cdef-5365-499c-ecfc-181da0527c31"
      },
      "source": [
        "sns.heatmap(bike_df.isnull())"
      ],
      "execution_count": 7,
      "outputs": [
        {
          "output_type": "execute_result",
          "data": {
            "text/plain": [
              "<matplotlib.axes._subplots.AxesSubplot at 0x7fa33cb8b978>"
            ]
          },
          "metadata": {
            "tags": []
          },
          "execution_count": 7
        },
        {
          "output_type": "display_data",
          "data": {
            "image/png": "[encoded data removed]",
            "text/plain": [
              "<Figure size 432x288 with 2 Axes>"
            ]
          },
          "metadata": {
            "tags": [],
            "needs_background": "light"
          }
        }
      ]
    },
    {
      "cell_type": "code",
      "metadata": {
        "colab": {
          "base_uri": "https://localhost:8080/",
          "height": 1000
        },
        "id": "F7ftcu8P4fhC",
        "outputId": "cc68122a-30b6-4878-f495-dc9c2e641df2"
      },
      "source": [
        "corrmat=bike_df.corr() \r\n",
        "top_corr_features=corrmat.index \r\n",
        "plt.figure(figsize=(20,20)) \r\n",
        "#plot heat map \r\n",
        "g=sns.heatmap(bike_df[top_corr_features].corr(),annot=True,cmap=\"RdYlGn\")\r\n",
        "#sns.heatmap(flight.corr(), annot = True)"
      ],
      "execution_count": 8,
      "outputs": [
        {
          "output_type": "display_data",
          "data": {
            "image/png": "[encoded data removed]",
            "text/plain": [
              "<Figure size 1440x1440 with 2 Axes>"
            ]
          },
          "metadata": {
            "tags": [],
            "needs_background": "light"
          }
        }
      ]
    },
    {
      "cell_type": "code",
      "metadata": {
        "id": "UEn4r3FH5WHm"
      },
      "source": [
        "#bike_df.describe(include='all').loc['unique', :]"
      ],
      "execution_count": 9,
      "outputs": []
    },
    {
      "cell_type": "code",
      "metadata": {
        "id": "mhi0OVzT5rVc"
      },
      "source": [
        "#bike_df.stn_press.nunique()"
      ],
      "execution_count": 10,
      "outputs": []
    },
    {
      "cell_type": "code",
      "metadata": {
        "id": "g4c_1uJh9MeA"
      },
      "source": [
        "bike_df = bike_df.rename(columns={'New_time_format_BIXI': 'start_date'})"
      ],
      "execution_count": 11,
      "outputs": []
    },
    {
      "cell_type": "code",
      "metadata": {
        "id": "5KdnBmAw8waD"
      },
      "source": [
        "bike_df.start_date = pd.to_datetime(bike_df.start_date) #format='%I,%m/%d/%Y')\r\n",
        "bike_df.index = pd.DatetimeIndex(bike_df.start_date)"
      ],
      "execution_count": 12,
      "outputs": []
    },
    {
      "cell_type": "code",
      "metadata": {
        "colab": {
          "base_uri": "https://localhost:8080/"
        },
        "id": "Nk5K3jNgjCth",
        "outputId": "771fc0fb-cd85-49ee-b84f-d51b193608f1"
      },
      "source": [
        "bike_df.info()"
      ],
      "execution_count": 13,
      "outputs": [
        {
          "output_type": "stream",
          "text": [
            "<class 'pandas.core.frame.DataFrame'>\n",
            "DatetimeIndex: 14954 entries, 2017-04-15 00:00:00 to 2019-10-31 23:00:00\n",
            "Data columns (total 13 columns):\n",
            " #   Column          Non-Null Count  Dtype         \n",
            "---  ------          --------------  -----         \n",
            " 0   start_date      14954 non-null  datetime64[ns]\n",
            " 1   Working_day     14954 non-null  int64         \n",
            " 2   week_day        14954 non-null  int64         \n",
            " 3   Hours           14954 non-null  int64         \n",
            " 4   temp_celcius    14954 non-null  float64       \n",
            " 5   dew_pt_celcius  14954 non-null  float64       \n",
            " 6   rel_humidity    14954 non-null  int64         \n",
            " 7   wind_dir        14954 non-null  int64         \n",
            " 8   wind_speed      14954 non-null  int64         \n",
            " 9   stn_press       14954 non-null  float64       \n",
            " 10  Count           14954 non-null  int64         \n",
            " 11  month           14954 non-null  int64         \n",
            " 12  Years           14954 non-null  int64         \n",
            "dtypes: datetime64[ns](1), float64(3), int64(9)\n",
            "memory usage: 1.6 MB\n"
          ],
          "name": "stdout"
        }
      ]
    },
    {
      "cell_type": "code",
      "metadata": {
        "colab": {
          "base_uri": "https://localhost:8080/",
          "height": 450
        },
        "id": "g3AGxG9u9gQq",
        "outputId": "c3870642-2331-4f11-d4f4-3b91953f16f4"
      },
      "source": [
        "bike_df"
      ],
      "execution_count": 14,
      "outputs": [
        {
          "output_type": "execute_result",
          "data": {
            "text/html": [
              "<div>\n",
              "<style scoped>\n",
              "    .dataframe tbody tr th:only-of-type {\n",
              "        vertical-align: middle;\n",
              "    }\n",
              "\n",
              "    .dataframe tbody tr th {\n",
              "        vertical-align: top;\n",
              "    }\n",
              "\n",
              "    .dataframe thead th {\n",
              "        text-align: right;\n",
              "    }\n",
              "</style>\n",
              "<table border=\"1\" class=\"dataframe\">\n",
              "  <thead>\n",
              "    <tr style=\"text-align: right;\">\n",
              "      <th></th>\n",
              "      <th>start_date</th>\n",
              "      <th>Working_day</th>\n",
              "      <th>week_day</th>\n",
              "      <th>Hours</th>\n",
              "      <th>temp_celcius</th>\n",
              "      <th>dew_pt_celcius</th>\n",
              "      <th>rel_humidity</th>\n",
              "      <th>wind_dir</th>\n",
              "      <th>wind_speed</th>\n",
              "      <th>stn_press</th>\n",
              "      <th>Count</th>\n",
              "      <th>month</th>\n",
              "      <th>Years</th>\n",
              "    </tr>\n",
              "    <tr>\n",
              "      <th>start_date</th>\n",
              "      <th></th>\n",
              "      <th></th>\n",
              "      <th></th>\n",
              "      <th></th>\n",
              "      <th></th>\n",
              "      <th></th>\n",
              "      <th></th>\n",
              "      <th></th>\n",
              "      <th></th>\n",
              "      <th></th>\n",
              "      <th></th>\n",
              "      <th></th>\n",
              "      <th></th>\n",
              "    </tr>\n",
              "  </thead>\n",
              "  <tbody>\n",
              "    <tr>\n",
              "      <th>2017-04-15 00:00:00</th>\n",
              "      <td>2017-04-15 00:00:00</td>\n",
              "      <td>0</td>\n",
              "      <td>6</td>\n",
              "      <td>0</td>\n",
              "      <td>11.4</td>\n",
              "      <td>-5.4</td>\n",
              "      <td>30</td>\n",
              "      <td>27</td>\n",
              "      <td>8</td>\n",
              "      <td>101.76</td>\n",
              "      <td>144</td>\n",
              "      <td>4</td>\n",
              "      <td>2017</td>\n",
              "    </tr>\n",
              "    <tr>\n",
              "      <th>2017-04-15 01:00:00</th>\n",
              "      <td>2017-04-15 01:00:00</td>\n",
              "      <td>0</td>\n",
              "      <td>6</td>\n",
              "      <td>1</td>\n",
              "      <td>10.8</td>\n",
              "      <td>-6.2</td>\n",
              "      <td>30</td>\n",
              "      <td>27</td>\n",
              "      <td>9</td>\n",
              "      <td>101.70</td>\n",
              "      <td>76</td>\n",
              "      <td>4</td>\n",
              "      <td>2017</td>\n",
              "    </tr>\n",
              "    <tr>\n",
              "      <th>2017-04-15 02:00:00</th>\n",
              "      <td>2017-04-15 02:00:00</td>\n",
              "      <td>0</td>\n",
              "      <td>6</td>\n",
              "      <td>2</td>\n",
              "      <td>10.9</td>\n",
              "      <td>-6.3</td>\n",
              "      <td>29</td>\n",
              "      <td>27</td>\n",
              "      <td>11</td>\n",
              "      <td>101.65</td>\n",
              "      <td>39</td>\n",
              "      <td>4</td>\n",
              "      <td>2017</td>\n",
              "    </tr>\n",
              "    <tr>\n",
              "      <th>2017-04-15 03:00:00</th>\n",
              "      <td>2017-04-15 03:00:00</td>\n",
              "      <td>0</td>\n",
              "      <td>6</td>\n",
              "      <td>3</td>\n",
              "      <td>10.2</td>\n",
              "      <td>-6.0</td>\n",
              "      <td>31</td>\n",
              "      <td>27</td>\n",
              "      <td>9</td>\n",
              "      <td>101.61</td>\n",
              "      <td>40</td>\n",
              "      <td>4</td>\n",
              "      <td>2017</td>\n",
              "    </tr>\n",
              "    <tr>\n",
              "      <th>2017-04-15 04:00:00</th>\n",
              "      <td>2017-04-15 04:00:00</td>\n",
              "      <td>0</td>\n",
              "      <td>6</td>\n",
              "      <td>4</td>\n",
              "      <td>8.4</td>\n",
              "      <td>-4.3</td>\n",
              "      <td>40</td>\n",
              "      <td>20</td>\n",
              "      <td>4</td>\n",
              "      <td>101.58</td>\n",
              "      <td>12</td>\n",
              "      <td>4</td>\n",
              "      <td>2017</td>\n",
              "    </tr>\n",
              "    <tr>\n",
              "      <th>...</th>\n",
              "      <td>...</td>\n",
              "      <td>...</td>\n",
              "      <td>...</td>\n",
              "      <td>...</td>\n",
              "      <td>...</td>\n",
              "      <td>...</td>\n",
              "      <td>...</td>\n",
              "      <td>...</td>\n",
              "      <td>...</td>\n",
              "      <td>...</td>\n",
              "      <td>...</td>\n",
              "      <td>...</td>\n",
              "      <td>...</td>\n",
              "    </tr>\n",
              "    <tr>\n",
              "      <th>2019-10-31 19:00:00</th>\n",
              "      <td>2019-10-31 19:00:00</td>\n",
              "      <td>1</td>\n",
              "      <td>4</td>\n",
              "      <td>19</td>\n",
              "      <td>12.3</td>\n",
              "      <td>11.9</td>\n",
              "      <td>97</td>\n",
              "      <td>1</td>\n",
              "      <td>12</td>\n",
              "      <td>98.66</td>\n",
              "      <td>166</td>\n",
              "      <td>10</td>\n",
              "      <td>2019</td>\n",
              "    </tr>\n",
              "    <tr>\n",
              "      <th>2019-10-31 20:00:00</th>\n",
              "      <td>2019-10-31 20:00:00</td>\n",
              "      <td>1</td>\n",
              "      <td>4</td>\n",
              "      <td>20</td>\n",
              "      <td>10.3</td>\n",
              "      <td>9.8</td>\n",
              "      <td>97</td>\n",
              "      <td>1</td>\n",
              "      <td>13</td>\n",
              "      <td>98.60</td>\n",
              "      <td>133</td>\n",
              "      <td>10</td>\n",
              "      <td>2019</td>\n",
              "    </tr>\n",
              "    <tr>\n",
              "      <th>2019-10-31 21:00:00</th>\n",
              "      <td>2019-10-31 21:00:00</td>\n",
              "      <td>1</td>\n",
              "      <td>4</td>\n",
              "      <td>21</td>\n",
              "      <td>9.2</td>\n",
              "      <td>8.7</td>\n",
              "      <td>97</td>\n",
              "      <td>3</td>\n",
              "      <td>15</td>\n",
              "      <td>98.60</td>\n",
              "      <td>119</td>\n",
              "      <td>10</td>\n",
              "      <td>2019</td>\n",
              "    </tr>\n",
              "    <tr>\n",
              "      <th>2019-10-31 22:00:00</th>\n",
              "      <td>2019-10-31 22:00:00</td>\n",
              "      <td>1</td>\n",
              "      <td>4</td>\n",
              "      <td>22</td>\n",
              "      <td>8.5</td>\n",
              "      <td>7.9</td>\n",
              "      <td>96</td>\n",
              "      <td>2</td>\n",
              "      <td>11</td>\n",
              "      <td>98.47</td>\n",
              "      <td>121</td>\n",
              "      <td>10</td>\n",
              "      <td>2019</td>\n",
              "    </tr>\n",
              "    <tr>\n",
              "      <th>2019-10-31 23:00:00</th>\n",
              "      <td>2019-10-31 23:00:00</td>\n",
              "      <td>1</td>\n",
              "      <td>4</td>\n",
              "      <td>23</td>\n",
              "      <td>8.2</td>\n",
              "      <td>7.7</td>\n",
              "      <td>97</td>\n",
              "      <td>1</td>\n",
              "      <td>5</td>\n",
              "      <td>98.35</td>\n",
              "      <td>80</td>\n",
              "      <td>10</td>\n",
              "      <td>2019</td>\n",
              "    </tr>\n",
              "  </tbody>\n",
              "</table>\n",
              "<p>14954 rows × 13 columns</p>\n",
              "</div>"
            ],
            "text/plain": [
              "                             start_date  Working_day  ...  month  Years\n",
              "start_date                                            ...              \n",
              "2017-04-15 00:00:00 2017-04-15 00:00:00            0  ...      4   2017\n",
              "2017-04-15 01:00:00 2017-04-15 01:00:00            0  ...      4   2017\n",
              "2017-04-15 02:00:00 2017-04-15 02:00:00            0  ...      4   2017\n",
              "2017-04-15 03:00:00 2017-04-15 03:00:00            0  ...      4   2017\n",
              "2017-04-15 04:00:00 2017-04-15 04:00:00            0  ...      4   2017\n",
              "...                                 ...          ...  ...    ...    ...\n",
              "2019-10-31 19:00:00 2019-10-31 19:00:00            1  ...     10   2019\n",
              "2019-10-31 20:00:00 2019-10-31 20:00:00            1  ...     10   2019\n",
              "2019-10-31 21:00:00 2019-10-31 21:00:00            1  ...     10   2019\n",
              "2019-10-31 22:00:00 2019-10-31 22:00:00            1  ...     10   2019\n",
              "2019-10-31 23:00:00 2019-10-31 23:00:00            1  ...     10   2019\n",
              "\n",
              "[14954 rows x 13 columns]"
            ]
          },
          "metadata": {
            "tags": []
          },
          "execution_count": 14
        }
      ]
    },
    {
      "cell_type": "code",
      "metadata": {
        "id": "YMtOzTRs-MxE"
      },
      "source": [
        "bike_df = bike_df.drop(labels = ['start_date'], axis=1)"
      ],
      "execution_count": 15,
      "outputs": []
    },
    {
      "cell_type": "markdown",
      "metadata": {
        "id": "8k8h63xvsF3F"
      },
      "source": [
        "# Step #3: Visualize Dataset"
      ]
    },
    {
      "cell_type": "code",
      "metadata": {
        "colab": {
          "base_uri": "https://localhost:8080/",
          "height": 324
        },
        "id": "jjLHhakC-bEl",
        "outputId": "5d51b72d-0c70-4319-838c-0a837934010e"
      },
      "source": [
        "bike_df['Count'].asfreq('H').plot(linewidth= 3)\r\n",
        "plt.title('Bike Usage Per Hour')\r\n",
        "plt.xlabel('Week')\r\n",
        "plt.ylabel('Bike Rental')"
      ],
      "execution_count": 16,
      "outputs": [
        {
          "output_type": "execute_result",
          "data": {
            "text/plain": [
              "Text(0, 0.5, 'Bike Rental')"
            ]
          },
          "metadata": {
            "tags": []
          },
          "execution_count": 16
        },
        {
          "output_type": "display_data",
          "data": {
            "image/png": "[encoded data removed]",
            "text/plain": [
              "<Figure size 432x288 with 1 Axes>"
            ]
          },
          "metadata": {
            "tags": [],
            "needs_background": "light"
          }
        }
      ]
    },
    {
      "cell_type": "code",
      "metadata": {
        "colab": {
          "base_uri": "https://localhost:8080/",
          "height": 324
        },
        "id": "S0iNUJoRAWju",
        "outputId": "b1837967-3c50-4656-c5c9-d548e50f8170"
      },
      "source": [
        "bike_df['Count'].asfreq('D').plot(linewidth= 3)\r\n",
        "plt.title('Bike Usage Per Day')\r\n",
        "plt.xlabel('Week')\r\n",
        "plt.ylabel('Bike Rental')"
      ],
      "execution_count": 17,
      "outputs": [
        {
          "output_type": "execute_result",
          "data": {
            "text/plain": [
              "Text(0, 0.5, 'Bike Rental')"
            ]
          },
          "metadata": {
            "tags": []
          },
          "execution_count": 17
        },
        {
          "output_type": "display_data",
          "data": {
            "image/png": "[encoded data removed]",
            "text/plain": [
              "<Figure size 432x288 with 1 Axes>"
            ]
          },
          "metadata": {
            "tags": [],
            "needs_background": "light"
          }
        }
      ]
    },
    {
      "cell_type": "code",
      "metadata": {
        "colab": {
          "base_uri": "https://localhost:8080/",
          "height": 324
        },
        "id": "BqxyuVMn-bAo",
        "outputId": "e076b60c-9935-4e96-ace4-ec62d4541cba"
      },
      "source": [
        "bike_df['Count'].asfreq('W').plot(linewidth= 3)\r\n",
        "plt.title('Bike Usage Per Week')\r\n",
        "plt.xlabel('Week')\r\n",
        "plt.ylabel('Bike Rental')"
      ],
      "execution_count": 18,
      "outputs": [
        {
          "output_type": "execute_result",
          "data": {
            "text/plain": [
              "Text(0, 0.5, 'Bike Rental')"
            ]
          },
          "metadata": {
            "tags": []
          },
          "execution_count": 18
        },
        {
          "output_type": "display_data",
          "data": {
            "image/png": "[encoded data removed]",
            "text/plain": [
              "<Figure size 432x288 with 1 Axes>"
            ]
          },
          "metadata": {
            "tags": [],
            "needs_background": "light"
          }
        }
      ]
    },
    {
      "cell_type": "code",
      "metadata": {
        "id": "iShgjCcd-ayh"
      },
      "source": [
        "#group data into hourly records using mean and modes\r\n",
        "\r\n",
        "#start_date        291692\r\n",
        "#Working_day          NaN\r\n",
        "#week_day             NaN\r\n",
        "#Hours                NaN\r\n",
        "#temp_celcius         NaN\r\n",
        "#dew_pt_celcius       NaN\r\n",
        "#rel_humidity         NaN\r\n",
        "#wind_dir             NaN\r\n",
        "#wind_speed           NaN\r\n",
        "#stn_press            NaN\r\n",
        "#Count                NaN\r\n",
        "#month                NaN\r\n",
        "#is_member   \r\n",
        "\r\n",
        " \r\n",
        "def grp(x):\r\n",
        "    d = {}\r\n",
        "    d['Working_day'] = x['Working_day'].agg(lambda x:x.value_counts().index[0])\r\n",
        "    d['week_day'] = x['week_day'].agg(lambda x:x.value_counts().index[0])\r\n",
        "    d['Hours'] = x['Hours'].agg(lambda x:x.value_counts().index[0])\r\n",
        "    d['temp_celcius'] = x['temp_celcius'].mean()\r\n",
        "    d['dew_pt_celcius'] = x['dew_pt_celcius'].mean()\r\n",
        "    d['rel_humidity'] = x['rel_humidity'].mean()\r\n",
        "    d['wind_dir'] = x['wind_dir'].agg(lambda x:x.value_counts().index[0])\r\n",
        "    d['wind_speed'] = x['wind_speed'].agg(lambda x:x.value_counts().index[0])\r\n",
        "    d['stn_press'] = x['stn_press'].agg(lambda x:x.value_counts().index[0])\r\n",
        "    d['Count'] = x['Count'].sum()\r\n",
        "    d['month'] = x['month'].agg(lambda x:x.value_counts().index[0])\r\n",
        "    d['is_member'] = x['is_member'].agg(lambda x:x.value_counts().index[0])\r\n",
        "    return pd.Series(d, index=['Working_day', 'week_day','Hours',  'temp_celcius',\r\n",
        "    'dew_pt_celcius','rel_humidity', 'wind_dir', 'wind_speed', 'month', 'is_member', 'stn_press','Count'])\r\n",
        "\r\n"
      ],
      "execution_count": 19,
      "outputs": []
    },
    {
      "cell_type": "code",
      "metadata": {
        "colab": {
          "base_uri": "https://localhost:8080/",
          "height": 235
        },
        "id": "NkUnh5Q3io8r",
        "outputId": "a5c40372-c014-4dd7-eb8e-bc86102425d5"
      },
      "source": [
        "bike_df.head()"
      ],
      "execution_count": 20,
      "outputs": [
        {
          "output_type": "execute_result",
          "data": {
            "text/html": [
              "<div>\n",
              "<style scoped>\n",
              "    .dataframe tbody tr th:only-of-type {\n",
              "        vertical-align: middle;\n",
              "    }\n",
              "\n",
              "    .dataframe tbody tr th {\n",
              "        vertical-align: top;\n",
              "    }\n",
              "\n",
              "    .dataframe thead th {\n",
              "        text-align: right;\n",
              "    }\n",
              "</style>\n",
              "<table border=\"1\" class=\"dataframe\">\n",
              "  <thead>\n",
              "    <tr style=\"text-align: right;\">\n",
              "      <th></th>\n",
              "      <th>Working_day</th>\n",
              "      <th>week_day</th>\n",
              "      <th>Hours</th>\n",
              "      <th>temp_celcius</th>\n",
              "      <th>dew_pt_celcius</th>\n",
              "      <th>rel_humidity</th>\n",
              "      <th>wind_dir</th>\n",
              "      <th>wind_speed</th>\n",
              "      <th>stn_press</th>\n",
              "      <th>Count</th>\n",
              "      <th>month</th>\n",
              "      <th>Years</th>\n",
              "    </tr>\n",
              "    <tr>\n",
              "      <th>start_date</th>\n",
              "      <th></th>\n",
              "      <th></th>\n",
              "      <th></th>\n",
              "      <th></th>\n",
              "      <th></th>\n",
              "      <th></th>\n",
              "      <th></th>\n",
              "      <th></th>\n",
              "      <th></th>\n",
              "      <th></th>\n",
              "      <th></th>\n",
              "      <th></th>\n",
              "    </tr>\n",
              "  </thead>\n",
              "  <tbody>\n",
              "    <tr>\n",
              "      <th>2017-04-15 00:00:00</th>\n",
              "      <td>0</td>\n",
              "      <td>6</td>\n",
              "      <td>0</td>\n",
              "      <td>11.4</td>\n",
              "      <td>-5.4</td>\n",
              "      <td>30</td>\n",
              "      <td>27</td>\n",
              "      <td>8</td>\n",
              "      <td>101.76</td>\n",
              "      <td>144</td>\n",
              "      <td>4</td>\n",
              "      <td>2017</td>\n",
              "    </tr>\n",
              "    <tr>\n",
              "      <th>2017-04-15 01:00:00</th>\n",
              "      <td>0</td>\n",
              "      <td>6</td>\n",
              "      <td>1</td>\n",
              "      <td>10.8</td>\n",
              "      <td>-6.2</td>\n",
              "      <td>30</td>\n",
              "      <td>27</td>\n",
              "      <td>9</td>\n",
              "      <td>101.70</td>\n",
              "      <td>76</td>\n",
              "      <td>4</td>\n",
              "      <td>2017</td>\n",
              "    </tr>\n",
              "    <tr>\n",
              "      <th>2017-04-15 02:00:00</th>\n",
              "      <td>0</td>\n",
              "      <td>6</td>\n",
              "      <td>2</td>\n",
              "      <td>10.9</td>\n",
              "      <td>-6.3</td>\n",
              "      <td>29</td>\n",
              "      <td>27</td>\n",
              "      <td>11</td>\n",
              "      <td>101.65</td>\n",
              "      <td>39</td>\n",
              "      <td>4</td>\n",
              "      <td>2017</td>\n",
              "    </tr>\n",
              "    <tr>\n",
              "      <th>2017-04-15 03:00:00</th>\n",
              "      <td>0</td>\n",
              "      <td>6</td>\n",
              "      <td>3</td>\n",
              "      <td>10.2</td>\n",
              "      <td>-6.0</td>\n",
              "      <td>31</td>\n",
              "      <td>27</td>\n",
              "      <td>9</td>\n",
              "      <td>101.61</td>\n",
              "      <td>40</td>\n",
              "      <td>4</td>\n",
              "      <td>2017</td>\n",
              "    </tr>\n",
              "    <tr>\n",
              "      <th>2017-04-15 04:00:00</th>\n",
              "      <td>0</td>\n",
              "      <td>6</td>\n",
              "      <td>4</td>\n",
              "      <td>8.4</td>\n",
              "      <td>-4.3</td>\n",
              "      <td>40</td>\n",
              "      <td>20</td>\n",
              "      <td>4</td>\n",
              "      <td>101.58</td>\n",
              "      <td>12</td>\n",
              "      <td>4</td>\n",
              "      <td>2017</td>\n",
              "    </tr>\n",
              "  </tbody>\n",
              "</table>\n",
              "</div>"
            ],
            "text/plain": [
              "                     Working_day  week_day  Hours  ...  Count  month  Years\n",
              "start_date                                         ...                     \n",
              "2017-04-15 00:00:00            0         6      0  ...    144      4   2017\n",
              "2017-04-15 01:00:00            0         6      1  ...     76      4   2017\n",
              "2017-04-15 02:00:00            0         6      2  ...     39      4   2017\n",
              "2017-04-15 03:00:00            0         6      3  ...     40      4   2017\n",
              "2017-04-15 04:00:00            0         6      4  ...     12      4   2017\n",
              "\n",
              "[5 rows x 12 columns]"
            ]
          },
          "metadata": {
            "tags": []
          },
          "execution_count": 20
        }
      ]
    },
    {
      "cell_type": "code",
      "metadata": {
        "id": "gXiqlK4twUIf"
      },
      "source": [
        "#bike_df.reset_index(inplace=True)"
      ],
      "execution_count": 21,
      "outputs": []
    },
    {
      "cell_type": "code",
      "metadata": {
        "id": "LEpL4E_2v0Ec"
      },
      "source": [
        "#bike_df['start_date'] = bike_df['start_date'].dt.floor('h')"
      ],
      "execution_count": 22,
      "outputs": []
    },
    {
      "cell_type": "code",
      "metadata": {
        "id": "vot7rWeIQWVi"
      },
      "source": [
        "#bike_new = bike_df.groupby(['start_date']).apply(grp)"
      ],
      "execution_count": 23,
      "outputs": []
    },
    {
      "cell_type": "code",
      "metadata": {
        "id": "YEw670rqwX71"
      },
      "source": [
        "bike_new = bike_df"
      ],
      "execution_count": 24,
      "outputs": []
    },
    {
      "cell_type": "code",
      "metadata": {
        "colab": {
          "base_uri": "https://localhost:8080/",
          "height": 235
        },
        "id": "cWoiKkjjO4Ua",
        "outputId": "2dc35f26-c2ce-475e-b2ba-fd3c46bff96b"
      },
      "source": [
        "bike_new.tail()"
      ],
      "execution_count": 25,
      "outputs": [
        {
          "output_type": "execute_result",
          "data": {
            "text/html": [
              "<div>\n",
              "<style scoped>\n",
              "    .dataframe tbody tr th:only-of-type {\n",
              "        vertical-align: middle;\n",
              "    }\n",
              "\n",
              "    .dataframe tbody tr th {\n",
              "        vertical-align: top;\n",
              "    }\n",
              "\n",
              "    .dataframe thead th {\n",
              "        text-align: right;\n",
              "    }\n",
              "</style>\n",
              "<table border=\"1\" class=\"dataframe\">\n",
              "  <thead>\n",
              "    <tr style=\"text-align: right;\">\n",
              "      <th></th>\n",
              "      <th>Working_day</th>\n",
              "      <th>week_day</th>\n",
              "      <th>Hours</th>\n",
              "      <th>temp_celcius</th>\n",
              "      <th>dew_pt_celcius</th>\n",
              "      <th>rel_humidity</th>\n",
              "      <th>wind_dir</th>\n",
              "      <th>wind_speed</th>\n",
              "      <th>stn_press</th>\n",
              "      <th>Count</th>\n",
              "      <th>month</th>\n",
              "      <th>Years</th>\n",
              "    </tr>\n",
              "    <tr>\n",
              "      <th>start_date</th>\n",
              "      <th></th>\n",
              "      <th></th>\n",
              "      <th></th>\n",
              "      <th></th>\n",
              "      <th></th>\n",
              "      <th></th>\n",
              "      <th></th>\n",
              "      <th></th>\n",
              "      <th></th>\n",
              "      <th></th>\n",
              "      <th></th>\n",
              "      <th></th>\n",
              "    </tr>\n",
              "  </thead>\n",
              "  <tbody>\n",
              "    <tr>\n",
              "      <th>2019-10-31 19:00:00</th>\n",
              "      <td>1</td>\n",
              "      <td>4</td>\n",
              "      <td>19</td>\n",
              "      <td>12.3</td>\n",
              "      <td>11.9</td>\n",
              "      <td>97</td>\n",
              "      <td>1</td>\n",
              "      <td>12</td>\n",
              "      <td>98.66</td>\n",
              "      <td>166</td>\n",
              "      <td>10</td>\n",
              "      <td>2019</td>\n",
              "    </tr>\n",
              "    <tr>\n",
              "      <th>2019-10-31 20:00:00</th>\n",
              "      <td>1</td>\n",
              "      <td>4</td>\n",
              "      <td>20</td>\n",
              "      <td>10.3</td>\n",
              "      <td>9.8</td>\n",
              "      <td>97</td>\n",
              "      <td>1</td>\n",
              "      <td>13</td>\n",
              "      <td>98.60</td>\n",
              "      <td>133</td>\n",
              "      <td>10</td>\n",
              "      <td>2019</td>\n",
              "    </tr>\n",
              "    <tr>\n",
              "      <th>2019-10-31 21:00:00</th>\n",
              "      <td>1</td>\n",
              "      <td>4</td>\n",
              "      <td>21</td>\n",
              "      <td>9.2</td>\n",
              "      <td>8.7</td>\n",
              "      <td>97</td>\n",
              "      <td>3</td>\n",
              "      <td>15</td>\n",
              "      <td>98.60</td>\n",
              "      <td>119</td>\n",
              "      <td>10</td>\n",
              "      <td>2019</td>\n",
              "    </tr>\n",
              "    <tr>\n",
              "      <th>2019-10-31 22:00:00</th>\n",
              "      <td>1</td>\n",
              "      <td>4</td>\n",
              "      <td>22</td>\n",
              "      <td>8.5</td>\n",
              "      <td>7.9</td>\n",
              "      <td>96</td>\n",
              "      <td>2</td>\n",
              "      <td>11</td>\n",
              "      <td>98.47</td>\n",
              "      <td>121</td>\n",
              "      <td>10</td>\n",
              "      <td>2019</td>\n",
              "    </tr>\n",
              "    <tr>\n",
              "      <th>2019-10-31 23:00:00</th>\n",
              "      <td>1</td>\n",
              "      <td>4</td>\n",
              "      <td>23</td>\n",
              "      <td>8.2</td>\n",
              "      <td>7.7</td>\n",
              "      <td>97</td>\n",
              "      <td>1</td>\n",
              "      <td>5</td>\n",
              "      <td>98.35</td>\n",
              "      <td>80</td>\n",
              "      <td>10</td>\n",
              "      <td>2019</td>\n",
              "    </tr>\n",
              "  </tbody>\n",
              "</table>\n",
              "</div>"
            ],
            "text/plain": [
              "                     Working_day  week_day  Hours  ...  Count  month  Years\n",
              "start_date                                         ...                     \n",
              "2019-10-31 19:00:00            1         4     19  ...    166     10   2019\n",
              "2019-10-31 20:00:00            1         4     20  ...    133     10   2019\n",
              "2019-10-31 21:00:00            1         4     21  ...    119     10   2019\n",
              "2019-10-31 22:00:00            1         4     22  ...    121     10   2019\n",
              "2019-10-31 23:00:00            1         4     23  ...     80     10   2019\n",
              "\n",
              "[5 rows x 12 columns]"
            ]
          },
          "metadata": {
            "tags": []
          },
          "execution_count": 25
        }
      ]
    },
    {
      "cell_type": "code",
      "metadata": {
        "colab": {
          "base_uri": "https://localhost:8080/"
        },
        "id": "oskvnusZVk73",
        "outputId": "2193abf8-63f7-4576-abc4-a6f12bef049f"
      },
      "source": [
        "bike_new.info()"
      ],
      "execution_count": 26,
      "outputs": [
        {
          "output_type": "stream",
          "text": [
            "<class 'pandas.core.frame.DataFrame'>\n",
            "DatetimeIndex: 14954 entries, 2017-04-15 00:00:00 to 2019-10-31 23:00:00\n",
            "Data columns (total 12 columns):\n",
            " #   Column          Non-Null Count  Dtype  \n",
            "---  ------          --------------  -----  \n",
            " 0   Working_day     14954 non-null  int64  \n",
            " 1   week_day        14954 non-null  int64  \n",
            " 2   Hours           14954 non-null  int64  \n",
            " 3   temp_celcius    14954 non-null  float64\n",
            " 4   dew_pt_celcius  14954 non-null  float64\n",
            " 5   rel_humidity    14954 non-null  int64  \n",
            " 6   wind_dir        14954 non-null  int64  \n",
            " 7   wind_speed      14954 non-null  int64  \n",
            " 8   stn_press       14954 non-null  float64\n",
            " 9   Count           14954 non-null  int64  \n",
            " 10  month           14954 non-null  int64  \n",
            " 11  Years           14954 non-null  int64  \n",
            "dtypes: float64(3), int64(9)\n",
            "memory usage: 2.1 MB\n"
          ],
          "name": "stdout"
        }
      ]
    },
    {
      "cell_type": "code",
      "metadata": {
        "colab": {
          "base_uri": "https://localhost:8080/",
          "height": 297
        },
        "id": "SKj1E-es6UC4",
        "outputId": "159fe14e-bc65-4b9b-a29d-942b4a40f676"
      },
      "source": [
        "bike_new.describe()"
      ],
      "execution_count": 27,
      "outputs": [
        {
          "output_type": "execute_result",
          "data": {
            "text/html": [
              "<div>\n",
              "<style scoped>\n",
              "    .dataframe tbody tr th:only-of-type {\n",
              "        vertical-align: middle;\n",
              "    }\n",
              "\n",
              "    .dataframe tbody tr th {\n",
              "        vertical-align: top;\n",
              "    }\n",
              "\n",
              "    .dataframe thead th {\n",
              "        text-align: right;\n",
              "    }\n",
              "</style>\n",
              "<table border=\"1\" class=\"dataframe\">\n",
              "  <thead>\n",
              "    <tr style=\"text-align: right;\">\n",
              "      <th></th>\n",
              "      <th>Working_day</th>\n",
              "      <th>week_day</th>\n",
              "      <th>Hours</th>\n",
              "      <th>temp_celcius</th>\n",
              "      <th>dew_pt_celcius</th>\n",
              "      <th>rel_humidity</th>\n",
              "      <th>wind_dir</th>\n",
              "      <th>wind_speed</th>\n",
              "      <th>stn_press</th>\n",
              "      <th>Count</th>\n",
              "      <th>month</th>\n",
              "      <th>Years</th>\n",
              "    </tr>\n",
              "  </thead>\n",
              "  <tbody>\n",
              "    <tr>\n",
              "      <th>count</th>\n",
              "      <td>14954.000000</td>\n",
              "      <td>14954.000000</td>\n",
              "      <td>14954.000000</td>\n",
              "      <td>14954.000000</td>\n",
              "      <td>14954.000000</td>\n",
              "      <td>14954.000000</td>\n",
              "      <td>14954.000000</td>\n",
              "      <td>14954.000000</td>\n",
              "      <td>14954.000000</td>\n",
              "      <td>14954.000000</td>\n",
              "      <td>14954.000000</td>\n",
              "      <td>14954.000000</td>\n",
              "    </tr>\n",
              "    <tr>\n",
              "      <th>mean</th>\n",
              "      <td>0.714391</td>\n",
              "      <td>3.990772</td>\n",
              "      <td>11.503879</td>\n",
              "      <td>16.067875</td>\n",
              "      <td>8.966464</td>\n",
              "      <td>65.646783</td>\n",
              "      <td>18.775512</td>\n",
              "      <td>6.182493</td>\n",
              "      <td>100.626652</td>\n",
              "      <td>1022.998729</td>\n",
              "      <td>7.343253</td>\n",
              "      <td>2017.964892</td>\n",
              "    </tr>\n",
              "    <tr>\n",
              "      <th>std</th>\n",
              "      <td>0.451719</td>\n",
              "      <td>2.002919</td>\n",
              "      <td>6.926563</td>\n",
              "      <td>7.405918</td>\n",
              "      <td>7.383633</td>\n",
              "      <td>18.602370</td>\n",
              "      <td>10.299778</td>\n",
              "      <td>2.907672</td>\n",
              "      <td>0.724800</td>\n",
              "      <td>893.835045</td>\n",
              "      <td>2.032786</td>\n",
              "      <td>0.804030</td>\n",
              "    </tr>\n",
              "    <tr>\n",
              "      <th>min</th>\n",
              "      <td>0.000000</td>\n",
              "      <td>1.000000</td>\n",
              "      <td>0.000000</td>\n",
              "      <td>-10.700000</td>\n",
              "      <td>-19.300000</td>\n",
              "      <td>14.000000</td>\n",
              "      <td>0.000000</td>\n",
              "      <td>1.000000</td>\n",
              "      <td>96.820000</td>\n",
              "      <td>3.000000</td>\n",
              "      <td>4.000000</td>\n",
              "      <td>2017.000000</td>\n",
              "    </tr>\n",
              "    <tr>\n",
              "      <th>25%</th>\n",
              "      <td>0.000000</td>\n",
              "      <td>2.000000</td>\n",
              "      <td>5.000000</td>\n",
              "      <td>10.900000</td>\n",
              "      <td>4.200000</td>\n",
              "      <td>52.000000</td>\n",
              "      <td>13.000000</td>\n",
              "      <td>4.000000</td>\n",
              "      <td>100.160000</td>\n",
              "      <td>262.000000</td>\n",
              "      <td>6.000000</td>\n",
              "      <td>2017.000000</td>\n",
              "    </tr>\n",
              "    <tr>\n",
              "      <th>50%</th>\n",
              "      <td>1.000000</td>\n",
              "      <td>4.000000</td>\n",
              "      <td>12.000000</td>\n",
              "      <td>16.800000</td>\n",
              "      <td>9.600000</td>\n",
              "      <td>66.000000</td>\n",
              "      <td>20.000000</td>\n",
              "      <td>6.000000</td>\n",
              "      <td>100.600000</td>\n",
              "      <td>833.500000</td>\n",
              "      <td>7.000000</td>\n",
              "      <td>2018.000000</td>\n",
              "    </tr>\n",
              "    <tr>\n",
              "      <th>75%</th>\n",
              "      <td>1.000000</td>\n",
              "      <td>6.000000</td>\n",
              "      <td>18.000000</td>\n",
              "      <td>21.700000</td>\n",
              "      <td>14.600000</td>\n",
              "      <td>81.000000</td>\n",
              "      <td>26.000000</td>\n",
              "      <td>8.000000</td>\n",
              "      <td>101.080000</td>\n",
              "      <td>1527.000000</td>\n",
              "      <td>9.000000</td>\n",
              "      <td>2019.000000</td>\n",
              "    </tr>\n",
              "    <tr>\n",
              "      <th>max</th>\n",
              "      <td>1.000000</td>\n",
              "      <td>7.000000</td>\n",
              "      <td>23.000000</td>\n",
              "      <td>35.800000</td>\n",
              "      <td>24.300000</td>\n",
              "      <td>100.000000</td>\n",
              "      <td>36.000000</td>\n",
              "      <td>25.000000</td>\n",
              "      <td>102.830000</td>\n",
              "      <td>4921.000000</td>\n",
              "      <td>11.000000</td>\n",
              "      <td>2019.000000</td>\n",
              "    </tr>\n",
              "  </tbody>\n",
              "</table>\n",
              "</div>"
            ],
            "text/plain": [
              "        Working_day      week_day  ...         month         Years\n",
              "count  14954.000000  14954.000000  ...  14954.000000  14954.000000\n",
              "mean       0.714391      3.990772  ...      7.343253   2017.964892\n",
              "std        0.451719      2.002919  ...      2.032786      0.804030\n",
              "min        0.000000      1.000000  ...      4.000000   2017.000000\n",
              "25%        0.000000      2.000000  ...      6.000000   2017.000000\n",
              "50%        1.000000      4.000000  ...      7.000000   2018.000000\n",
              "75%        1.000000      6.000000  ...      9.000000   2019.000000\n",
              "max        1.000000      7.000000  ...     11.000000   2019.000000\n",
              "\n",
              "[8 rows x 12 columns]"
            ]
          },
          "metadata": {
            "tags": []
          },
          "execution_count": 27
        }
      ]
    },
    {
      "cell_type": "code",
      "metadata": {
        "id": "yirDy2mn60Xb"
      },
      "source": [
        "#Use Time Series on the Count \r\n",
        "time_step = bike_new.index\r\n",
        "count = bike_new.values[:, -3]\r\n",
        "\r\n",
        "series = pd.Series(data = count, index=time_step)\r\n",
        "series = series[~series.index.duplicated(keep='first')]\r\n",
        "time = np.array(time_step)\r\n"
      ],
      "execution_count": 28,
      "outputs": []
    },
    {
      "cell_type": "code",
      "metadata": {
        "colab": {
          "base_uri": "https://localhost:8080/",
          "height": 714
        },
        "id": "pjIuzd4X8Q5z",
        "outputId": "8f43b51e-48b4-48c9-c1cb-b90d0450a151"
      },
      "source": [
        "def plot_series(time, series, format=\"-\", start=0, end=None):\r\n",
        "    plt.plot(time[start:end], series[start:end], format)\r\n",
        "    plt.xlabel(\"Time\")\r\n",
        "    plt.ylabel(\"Value\")\r\n",
        "    plt.grid(True)\r\n",
        "\r\n",
        "plt.figure(figsize=(20, 12))\r\n",
        "plot_series(time, series)\r\n",
        "plt.savefig('Time_Series_Hourly.png')"
      ],
      "execution_count": 29,
      "outputs": [
        {
          "output_type": "display_data",
          "data": {
            "image/png": "[encoded data removed]",
            "text/plain": [
              "<Figure size 1440x864 with 1 Axes>"
            ]
          },
          "metadata": {
            "tags": [],
            "needs_background": "light"
          }
        }
      ]
    },
    {
      "cell_type": "code",
      "metadata": {
        "id": "ZHHP6I15Bm5s"
      },
      "source": [
        "#plt.savefig('Time_Series_Hourly.png')"
      ],
      "execution_count": 30,
      "outputs": []
    },
    {
      "cell_type": "code",
      "metadata": {
        "id": "VhVZL1SK87ae"
      },
      "source": [
        "#sns.pairplot(bike_new)"
      ],
      "execution_count": 31,
      "outputs": []
    },
    {
      "cell_type": "code",
      "metadata": {
        "colab": {
          "base_uri": "https://localhost:8080/"
        },
        "id": "6acMtUIs95Ad",
        "outputId": "4f062c03-ebd9-4fee-913e-368a23b6f4a7"
      },
      "source": [
        "bike_new['Hours'] = bike_new['Hours'].astype(pd.np.int64)"
      ],
      "execution_count": 32,
      "outputs": [
        {
          "output_type": "stream",
          "text": [
            "/usr/local/lib/python3.6/dist-packages/ipykernel_launcher.py:1: FutureWarning: The pandas.np module is deprecated and will be removed from pandas in a future version. Import numpy directly instead\n",
            "  \"\"\"Entry point for launching an IPython kernel.\n"
          ],
          "name": "stderr"
        }
      ]
    },
    {
      "cell_type": "code",
      "metadata": {
        "colab": {
          "base_uri": "https://localhost:8080/",
          "height": 296
        },
        "id": "w21imBrT8Jnb",
        "outputId": "7a9f6479-3013-4d17-cd8f-d79e9edac697"
      },
      "source": [
        "#Bike usage throughout the day\r\n",
        "\r\n",
        "sns.barplot(x=\"Hours\", y=\"Count\", data=bike_new)"
      ],
      "execution_count": 33,
      "outputs": [
        {
          "output_type": "execute_result",
          "data": {
            "text/plain": [
              "<matplotlib.axes._subplots.AxesSubplot at 0x7fa336c37748>"
            ]
          },
          "metadata": {
            "tags": []
          },
          "execution_count": 33
        },
        {
          "output_type": "display_data",
          "data": {
            "image/png": "[encoded data removed]",
            "text/plain": [
              "<Figure size 432x288 with 1 Axes>"
            ]
          },
          "metadata": {
            "tags": [],
            "needs_background": "light"
          }
        }
      ]
    },
    {
      "cell_type": "code",
      "metadata": {
        "colab": {
          "base_uri": "https://localhost:8080/",
          "height": 297
        },
        "id": "8M0zMCBnWwIE",
        "outputId": "650cc2cc-dc6a-46b6-b688-ad255ef687f5"
      },
      "source": [
        "#Bike usage throughout the week\r\n",
        "sns.barplot(x=\"week_day\", y=\"Count\", data=bike_new)"
      ],
      "execution_count": 34,
      "outputs": [
        {
          "output_type": "execute_result",
          "data": {
            "text/plain": [
              "<matplotlib.axes._subplots.AxesSubplot at 0x7fa336cacba8>"
            ]
          },
          "metadata": {
            "tags": []
          },
          "execution_count": 34
        },
        {
          "output_type": "display_data",
          "data": {
            "image/png": "[encoded data removed]",
            "text/plain": [
              "<Figure size 432x288 with 1 Axes>"
            ]
          },
          "metadata": {
            "tags": [],
            "needs_background": "light"
          }
        }
      ]
    },
    {
      "cell_type": "code",
      "metadata": {
        "colab": {
          "base_uri": "https://localhost:8080/",
          "height": 298
        },
        "id": "KD78M_fCXAii",
        "outputId": "732f5179-c4d3-486f-a68d-fdf059e8be6c"
      },
      "source": [
        "#Bike usage throughout the week\r\n",
        "sns.barplot(x=\"month\", y=\"Count\", data=bike_new)"
      ],
      "execution_count": 35,
      "outputs": [
        {
          "output_type": "execute_result",
          "data": {
            "text/plain": [
              "<matplotlib.axes._subplots.AxesSubplot at 0x7fa339d12470>"
            ]
          },
          "metadata": {
            "tags": []
          },
          "execution_count": 35
        },
        {
          "output_type": "display_data",
          "data": {
            "image/png": "[encoded data removed]",
            "text/plain": [
              "<Figure size 432x288 with 1 Axes>"
            ]
          },
          "metadata": {
            "tags": [],
            "needs_background": "light"
          }
        }
      ]
    },
    {
      "cell_type": "code",
      "metadata": {
        "colab": {
          "base_uri": "https://localhost:8080/",
          "height": 769
        },
        "id": "zJ0GZahjAeOu",
        "outputId": "c272049f-8b39-40a0-bc91-acb3f8e65613"
      },
      "source": [
        "#See correlation Matrix\r\n",
        "\r\n",
        "corrmat=bike_new.corr() \r\n",
        "top_corr_features=corrmat.index \r\n",
        "plt.figure(figsize=(12,12)) \r\n",
        "#plot heat map \r\n",
        "g=sns.heatmap(bike_new[top_corr_features].corr(),annot=True,cmap=\"RdYlGn\")\r\n",
        "#sns.heatmap(flight.corr(), annot = True)"
      ],
      "execution_count": 36,
      "outputs": [
        {
          "output_type": "display_data",
          "data": {
            "image/png": "[encoded data removed]",
            "text/plain": [
              "<Figure size 864x864 with 2 Axes>"
            ]
          },
          "metadata": {
            "tags": [],
            "needs_background": "light"
          }
        }
      ]
    },
    {
      "cell_type": "code",
      "metadata": {
        "colab": {
          "base_uri": "https://localhost:8080/",
          "height": 235
        },
        "id": "qjgvqd8QBpYQ",
        "outputId": "df482bc0-fa1b-4879-a38e-4e6105515502"
      },
      "source": [
        "bike_new.head()"
      ],
      "execution_count": 37,
      "outputs": [
        {
          "output_type": "execute_result",
          "data": {
            "text/html": [
              "<div>\n",
              "<style scoped>\n",
              "    .dataframe tbody tr th:only-of-type {\n",
              "        vertical-align: middle;\n",
              "    }\n",
              "\n",
              "    .dataframe tbody tr th {\n",
              "        vertical-align: top;\n",
              "    }\n",
              "\n",
              "    .dataframe thead th {\n",
              "        text-align: right;\n",
              "    }\n",
              "</style>\n",
              "<table border=\"1\" class=\"dataframe\">\n",
              "  <thead>\n",
              "    <tr style=\"text-align: right;\">\n",
              "      <th></th>\n",
              "      <th>Working_day</th>\n",
              "      <th>week_day</th>\n",
              "      <th>Hours</th>\n",
              "      <th>temp_celcius</th>\n",
              "      <th>dew_pt_celcius</th>\n",
              "      <th>rel_humidity</th>\n",
              "      <th>wind_dir</th>\n",
              "      <th>wind_speed</th>\n",
              "      <th>stn_press</th>\n",
              "      <th>Count</th>\n",
              "      <th>month</th>\n",
              "      <th>Years</th>\n",
              "    </tr>\n",
              "    <tr>\n",
              "      <th>start_date</th>\n",
              "      <th></th>\n",
              "      <th></th>\n",
              "      <th></th>\n",
              "      <th></th>\n",
              "      <th></th>\n",
              "      <th></th>\n",
              "      <th></th>\n",
              "      <th></th>\n",
              "      <th></th>\n",
              "      <th></th>\n",
              "      <th></th>\n",
              "      <th></th>\n",
              "    </tr>\n",
              "  </thead>\n",
              "  <tbody>\n",
              "    <tr>\n",
              "      <th>2017-04-15 00:00:00</th>\n",
              "      <td>0</td>\n",
              "      <td>6</td>\n",
              "      <td>0</td>\n",
              "      <td>11.4</td>\n",
              "      <td>-5.4</td>\n",
              "      <td>30</td>\n",
              "      <td>27</td>\n",
              "      <td>8</td>\n",
              "      <td>101.76</td>\n",
              "      <td>144</td>\n",
              "      <td>4</td>\n",
              "      <td>2017</td>\n",
              "    </tr>\n",
              "    <tr>\n",
              "      <th>2017-04-15 01:00:00</th>\n",
              "      <td>0</td>\n",
              "      <td>6</td>\n",
              "      <td>1</td>\n",
              "      <td>10.8</td>\n",
              "      <td>-6.2</td>\n",
              "      <td>30</td>\n",
              "      <td>27</td>\n",
              "      <td>9</td>\n",
              "      <td>101.70</td>\n",
              "      <td>76</td>\n",
              "      <td>4</td>\n",
              "      <td>2017</td>\n",
              "    </tr>\n",
              "    <tr>\n",
              "      <th>2017-04-15 02:00:00</th>\n",
              "      <td>0</td>\n",
              "      <td>6</td>\n",
              "      <td>2</td>\n",
              "      <td>10.9</td>\n",
              "      <td>-6.3</td>\n",
              "      <td>29</td>\n",
              "      <td>27</td>\n",
              "      <td>11</td>\n",
              "      <td>101.65</td>\n",
              "      <td>39</td>\n",
              "      <td>4</td>\n",
              "      <td>2017</td>\n",
              "    </tr>\n",
              "    <tr>\n",
              "      <th>2017-04-15 03:00:00</th>\n",
              "      <td>0</td>\n",
              "      <td>6</td>\n",
              "      <td>3</td>\n",
              "      <td>10.2</td>\n",
              "      <td>-6.0</td>\n",
              "      <td>31</td>\n",
              "      <td>27</td>\n",
              "      <td>9</td>\n",
              "      <td>101.61</td>\n",
              "      <td>40</td>\n",
              "      <td>4</td>\n",
              "      <td>2017</td>\n",
              "    </tr>\n",
              "    <tr>\n",
              "      <th>2017-04-15 04:00:00</th>\n",
              "      <td>0</td>\n",
              "      <td>6</td>\n",
              "      <td>4</td>\n",
              "      <td>8.4</td>\n",
              "      <td>-4.3</td>\n",
              "      <td>40</td>\n",
              "      <td>20</td>\n",
              "      <td>4</td>\n",
              "      <td>101.58</td>\n",
              "      <td>12</td>\n",
              "      <td>4</td>\n",
              "      <td>2017</td>\n",
              "    </tr>\n",
              "  </tbody>\n",
              "</table>\n",
              "</div>"
            ],
            "text/plain": [
              "                     Working_day  week_day  Hours  ...  Count  month  Years\n",
              "start_date                                         ...                     \n",
              "2017-04-15 00:00:00            0         6      0  ...    144      4   2017\n",
              "2017-04-15 01:00:00            0         6      1  ...     76      4   2017\n",
              "2017-04-15 02:00:00            0         6      2  ...     39      4   2017\n",
              "2017-04-15 03:00:00            0         6      3  ...     40      4   2017\n",
              "2017-04-15 04:00:00            0         6      4  ...     12      4   2017\n",
              "\n",
              "[5 rows x 12 columns]"
            ]
          },
          "metadata": {
            "tags": []
          },
          "execution_count": 37
        }
      ]
    },
    {
      "cell_type": "code",
      "metadata": {
        "colab": {
          "base_uri": "https://localhost:8080/"
        },
        "id": "0rUtO2sXHK5v",
        "outputId": "f1ff2375-13c2-4e0d-a2f5-925917a8e5e3"
      },
      "source": [
        "#feature Engineering\r\n",
        "\r\n",
        "X = bike_new.drop(['Count'], axis=1)\r\n",
        "X.shape"
      ],
      "execution_count": 38,
      "outputs": [
        {
          "output_type": "execute_result",
          "data": {
            "text/plain": [
              "(14954, 11)"
            ]
          },
          "metadata": {
            "tags": []
          },
          "execution_count": 38
        }
      ]
    },
    {
      "cell_type": "code",
      "metadata": {
        "id": "nj4Fv29-HoHc"
      },
      "source": [
        "y=bike_new['Count']"
      ],
      "execution_count": 39,
      "outputs": []
    },
    {
      "cell_type": "code",
      "metadata": {
        "colab": {
          "base_uri": "https://localhost:8080/"
        },
        "id": "t8HowFzcHuyC",
        "outputId": "3a12e94a-3692-4585-ddaa-6405a6df4a6a"
      },
      "source": [
        "from sklearn.ensemble import ExtraTreesRegressor\r\n",
        "#import matplotlib.pyplot as plt\r\n",
        "model_h = ExtraTreesRegressor()\r\n",
        "model_h.fit(X,y)"
      ],
      "execution_count": 40,
      "outputs": [
        {
          "output_type": "execute_result",
          "data": {
            "text/plain": [
              "ExtraTreesRegressor(bootstrap=False, ccp_alpha=0.0, criterion='mse',\n",
              "                    max_depth=None, max_features='auto', max_leaf_nodes=None,\n",
              "                    max_samples=None, min_impurity_decrease=0.0,\n",
              "                    min_impurity_split=None, min_samples_leaf=1,\n",
              "                    min_samples_split=2, min_weight_fraction_leaf=0.0,\n",
              "                    n_estimators=100, n_jobs=None, oob_score=False,\n",
              "                    random_state=None, verbose=0, warm_start=False)"
            ]
          },
          "metadata": {
            "tags": []
          },
          "execution_count": 40
        }
      ]
    },
    {
      "cell_type": "code",
      "metadata": {
        "colab": {
          "base_uri": "https://localhost:8080/"
        },
        "id": "oLjEOWlzH5f5",
        "outputId": "868688b5-fa33-42b9-ad00-15a81475904f"
      },
      "source": [
        "print(model_h.feature_importances_)"
      ],
      "execution_count": 41,
      "outputs": [
        {
          "output_type": "stream",
          "text": [
            "[0.06077791 0.01839833 0.56697347 0.14024744 0.02302689 0.11970466\n",
            " 0.00816075 0.00792354 0.01056322 0.02487602 0.01934777]\n"
          ],
          "name": "stdout"
        }
      ]
    },
    {
      "cell_type": "code",
      "metadata": {
        "colab": {
          "base_uri": "https://localhost:8080/",
          "height": 265
        },
        "id": "GKWAKxZ6IA-k",
        "outputId": "a9708c90-d307-4a4f-ba42-9f33d0e69bc7"
      },
      "source": [
        "#Features with most importance ('Hours' column is the most important feature in relation to the 'Count')\r\n",
        "\r\n",
        "feat_importance = pd.Series(model_h.feature_importances_, index=X.columns)\r\n",
        "feat_importance.nlargest(10).plot(kind='barh')\r\n",
        "plt.show()"
      ],
      "execution_count": 42,
      "outputs": [
        {
          "output_type": "display_data",
          "data": {
            "image/png": "[encoded data removed]",
            "text/plain": [
              "<Figure size 432x288 with 1 Axes>"
            ]
          },
          "metadata": {
            "tags": [],
            "needs_background": "light"
          }
        }
      ]
    },
    {
      "cell_type": "markdown",
      "metadata": {
        "id": "OyNAL9nDgGk7"
      },
      "source": [
        "# Step #4: Random Forest Model"
      ]
    },
    {
      "cell_type": "code",
      "metadata": {
        "colab": {
          "base_uri": "https://localhost:8080/",
          "height": 450
        },
        "id": "AvzVF0tUgNcy",
        "outputId": "883499eb-0c71-4212-ea21-fa38241e9f07"
      },
      "source": [
        "bike_new"
      ],
      "execution_count": 43,
      "outputs": [
        {
          "output_type": "execute_result",
          "data": {
            "text/html": [
              "<div>\n",
              "<style scoped>\n",
              "    .dataframe tbody tr th:only-of-type {\n",
              "        vertical-align: middle;\n",
              "    }\n",
              "\n",
              "    .dataframe tbody tr th {\n",
              "        vertical-align: top;\n",
              "    }\n",
              "\n",
              "    .dataframe thead th {\n",
              "        text-align: right;\n",
              "    }\n",
              "</style>\n",
              "<table border=\"1\" class=\"dataframe\">\n",
              "  <thead>\n",
              "    <tr style=\"text-align: right;\">\n",
              "      <th></th>\n",
              "      <th>Working_day</th>\n",
              "      <th>week_day</th>\n",
              "      <th>Hours</th>\n",
              "      <th>temp_celcius</th>\n",
              "      <th>dew_pt_celcius</th>\n",
              "      <th>rel_humidity</th>\n",
              "      <th>wind_dir</th>\n",
              "      <th>wind_speed</th>\n",
              "      <th>stn_press</th>\n",
              "      <th>Count</th>\n",
              "      <th>month</th>\n",
              "      <th>Years</th>\n",
              "    </tr>\n",
              "    <tr>\n",
              "      <th>start_date</th>\n",
              "      <th></th>\n",
              "      <th></th>\n",
              "      <th></th>\n",
              "      <th></th>\n",
              "      <th></th>\n",
              "      <th></th>\n",
              "      <th></th>\n",
              "      <th></th>\n",
              "      <th></th>\n",
              "      <th></th>\n",
              "      <th></th>\n",
              "      <th></th>\n",
              "    </tr>\n",
              "  </thead>\n",
              "  <tbody>\n",
              "    <tr>\n",
              "      <th>2017-04-15 00:00:00</th>\n",
              "      <td>0</td>\n",
              "      <td>6</td>\n",
              "      <td>0</td>\n",
              "      <td>11.4</td>\n",
              "      <td>-5.4</td>\n",
              "      <td>30</td>\n",
              "      <td>27</td>\n",
              "      <td>8</td>\n",
              "      <td>101.76</td>\n",
              "      <td>144</td>\n",
              "      <td>4</td>\n",
              "      <td>2017</td>\n",
              "    </tr>\n",
              "    <tr>\n",
              "      <th>2017-04-15 01:00:00</th>\n",
              "      <td>0</td>\n",
              "      <td>6</td>\n",
              "      <td>1</td>\n",
              "      <td>10.8</td>\n",
              "      <td>-6.2</td>\n",
              "      <td>30</td>\n",
              "      <td>27</td>\n",
              "      <td>9</td>\n",
              "      <td>101.70</td>\n",
              "      <td>76</td>\n",
              "      <td>4</td>\n",
              "      <td>2017</td>\n",
              "    </tr>\n",
              "    <tr>\n",
              "      <th>2017-04-15 02:00:00</th>\n",
              "      <td>0</td>\n",
              "      <td>6</td>\n",
              "      <td>2</td>\n",
              "      <td>10.9</td>\n",
              "      <td>-6.3</td>\n",
              "      <td>29</td>\n",
              "      <td>27</td>\n",
              "      <td>11</td>\n",
              "      <td>101.65</td>\n",
              "      <td>39</td>\n",
              "      <td>4</td>\n",
              "      <td>2017</td>\n",
              "    </tr>\n",
              "    <tr>\n",
              "      <th>2017-04-15 03:00:00</th>\n",
              "      <td>0</td>\n",
              "      <td>6</td>\n",
              "      <td>3</td>\n",
              "      <td>10.2</td>\n",
              "      <td>-6.0</td>\n",
              "      <td>31</td>\n",
              "      <td>27</td>\n",
              "      <td>9</td>\n",
              "      <td>101.61</td>\n",
              "      <td>40</td>\n",
              "      <td>4</td>\n",
              "      <td>2017</td>\n",
              "    </tr>\n",
              "    <tr>\n",
              "      <th>2017-04-15 04:00:00</th>\n",
              "      <td>0</td>\n",
              "      <td>6</td>\n",
              "      <td>4</td>\n",
              "      <td>8.4</td>\n",
              "      <td>-4.3</td>\n",
              "      <td>40</td>\n",
              "      <td>20</td>\n",
              "      <td>4</td>\n",
              "      <td>101.58</td>\n",
              "      <td>12</td>\n",
              "      <td>4</td>\n",
              "      <td>2017</td>\n",
              "    </tr>\n",
              "    <tr>\n",
              "      <th>...</th>\n",
              "      <td>...</td>\n",
              "      <td>...</td>\n",
              "      <td>...</td>\n",
              "      <td>...</td>\n",
              "      <td>...</td>\n",
              "      <td>...</td>\n",
              "      <td>...</td>\n",
              "      <td>...</td>\n",
              "      <td>...</td>\n",
              "      <td>...</td>\n",
              "      <td>...</td>\n",
              "      <td>...</td>\n",
              "    </tr>\n",
              "    <tr>\n",
              "      <th>2019-10-31 19:00:00</th>\n",
              "      <td>1</td>\n",
              "      <td>4</td>\n",
              "      <td>19</td>\n",
              "      <td>12.3</td>\n",
              "      <td>11.9</td>\n",
              "      <td>97</td>\n",
              "      <td>1</td>\n",
              "      <td>12</td>\n",
              "      <td>98.66</td>\n",
              "      <td>166</td>\n",
              "      <td>10</td>\n",
              "      <td>2019</td>\n",
              "    </tr>\n",
              "    <tr>\n",
              "      <th>2019-10-31 20:00:00</th>\n",
              "      <td>1</td>\n",
              "      <td>4</td>\n",
              "      <td>20</td>\n",
              "      <td>10.3</td>\n",
              "      <td>9.8</td>\n",
              "      <td>97</td>\n",
              "      <td>1</td>\n",
              "      <td>13</td>\n",
              "      <td>98.60</td>\n",
              "      <td>133</td>\n",
              "      <td>10</td>\n",
              "      <td>2019</td>\n",
              "    </tr>\n",
              "    <tr>\n",
              "      <th>2019-10-31 21:00:00</th>\n",
              "      <td>1</td>\n",
              "      <td>4</td>\n",
              "      <td>21</td>\n",
              "      <td>9.2</td>\n",
              "      <td>8.7</td>\n",
              "      <td>97</td>\n",
              "      <td>3</td>\n",
              "      <td>15</td>\n",
              "      <td>98.60</td>\n",
              "      <td>119</td>\n",
              "      <td>10</td>\n",
              "      <td>2019</td>\n",
              "    </tr>\n",
              "    <tr>\n",
              "      <th>2019-10-31 22:00:00</th>\n",
              "      <td>1</td>\n",
              "      <td>4</td>\n",
              "      <td>22</td>\n",
              "      <td>8.5</td>\n",
              "      <td>7.9</td>\n",
              "      <td>96</td>\n",
              "      <td>2</td>\n",
              "      <td>11</td>\n",
              "      <td>98.47</td>\n",
              "      <td>121</td>\n",
              "      <td>10</td>\n",
              "      <td>2019</td>\n",
              "    </tr>\n",
              "    <tr>\n",
              "      <th>2019-10-31 23:00:00</th>\n",
              "      <td>1</td>\n",
              "      <td>4</td>\n",
              "      <td>23</td>\n",
              "      <td>8.2</td>\n",
              "      <td>7.7</td>\n",
              "      <td>97</td>\n",
              "      <td>1</td>\n",
              "      <td>5</td>\n",
              "      <td>98.35</td>\n",
              "      <td>80</td>\n",
              "      <td>10</td>\n",
              "      <td>2019</td>\n",
              "    </tr>\n",
              "  </tbody>\n",
              "</table>\n",
              "<p>14954 rows × 12 columns</p>\n",
              "</div>"
            ],
            "text/plain": [
              "                     Working_day  week_day  Hours  ...  Count  month  Years\n",
              "start_date                                         ...                     \n",
              "2017-04-15 00:00:00            0         6      0  ...    144      4   2017\n",
              "2017-04-15 01:00:00            0         6      1  ...     76      4   2017\n",
              "2017-04-15 02:00:00            0         6      2  ...     39      4   2017\n",
              "2017-04-15 03:00:00            0         6      3  ...     40      4   2017\n",
              "2017-04-15 04:00:00            0         6      4  ...     12      4   2017\n",
              "...                          ...       ...    ...  ...    ...    ...    ...\n",
              "2019-10-31 19:00:00            1         4     19  ...    166     10   2019\n",
              "2019-10-31 20:00:00            1         4     20  ...    133     10   2019\n",
              "2019-10-31 21:00:00            1         4     21  ...    119     10   2019\n",
              "2019-10-31 22:00:00            1         4     22  ...    121     10   2019\n",
              "2019-10-31 23:00:00            1         4     23  ...     80     10   2019\n",
              "\n",
              "[14954 rows x 12 columns]"
            ]
          },
          "metadata": {
            "tags": []
          },
          "execution_count": 43
        }
      ]
    },
    {
      "cell_type": "code",
      "metadata": {
        "id": "-uXZygUEg0yF"
      },
      "source": [
        "bike_rf = bike_new.reset_index()\r\n",
        "\r\n",
        "bike_rf = bike_rf.drop(['start_date'], axis = 1)"
      ],
      "execution_count": 44,
      "outputs": []
    },
    {
      "cell_type": "code",
      "metadata": {
        "colab": {
          "base_uri": "https://localhost:8080/",
          "height": 419
        },
        "id": "VQGsmnlxhPtz",
        "outputId": "08285ef9-96a5-40cc-e881-f12ca9899537"
      },
      "source": [
        "bike_rf"
      ],
      "execution_count": 45,
      "outputs": [
        {
          "output_type": "execute_result",
          "data": {
            "text/html": [
              "<div>\n",
              "<style scoped>\n",
              "    .dataframe tbody tr th:only-of-type {\n",
              "        vertical-align: middle;\n",
              "    }\n",
              "\n",
              "    .dataframe tbody tr th {\n",
              "        vertical-align: top;\n",
              "    }\n",
              "\n",
              "    .dataframe thead th {\n",
              "        text-align: right;\n",
              "    }\n",
              "</style>\n",
              "<table border=\"1\" class=\"dataframe\">\n",
              "  <thead>\n",
              "    <tr style=\"text-align: right;\">\n",
              "      <th></th>\n",
              "      <th>Working_day</th>\n",
              "      <th>week_day</th>\n",
              "      <th>Hours</th>\n",
              "      <th>temp_celcius</th>\n",
              "      <th>dew_pt_celcius</th>\n",
              "      <th>rel_humidity</th>\n",
              "      <th>wind_dir</th>\n",
              "      <th>wind_speed</th>\n",
              "      <th>stn_press</th>\n",
              "      <th>Count</th>\n",
              "      <th>month</th>\n",
              "      <th>Years</th>\n",
              "    </tr>\n",
              "  </thead>\n",
              "  <tbody>\n",
              "    <tr>\n",
              "      <th>0</th>\n",
              "      <td>0</td>\n",
              "      <td>6</td>\n",
              "      <td>0</td>\n",
              "      <td>11.4</td>\n",
              "      <td>-5.4</td>\n",
              "      <td>30</td>\n",
              "      <td>27</td>\n",
              "      <td>8</td>\n",
              "      <td>101.76</td>\n",
              "      <td>144</td>\n",
              "      <td>4</td>\n",
              "      <td>2017</td>\n",
              "    </tr>\n",
              "    <tr>\n",
              "      <th>1</th>\n",
              "      <td>0</td>\n",
              "      <td>6</td>\n",
              "      <td>1</td>\n",
              "      <td>10.8</td>\n",
              "      <td>-6.2</td>\n",
              "      <td>30</td>\n",
              "      <td>27</td>\n",
              "      <td>9</td>\n",
              "      <td>101.70</td>\n",
              "      <td>76</td>\n",
              "      <td>4</td>\n",
              "      <td>2017</td>\n",
              "    </tr>\n",
              "    <tr>\n",
              "      <th>2</th>\n",
              "      <td>0</td>\n",
              "      <td>6</td>\n",
              "      <td>2</td>\n",
              "      <td>10.9</td>\n",
              "      <td>-6.3</td>\n",
              "      <td>29</td>\n",
              "      <td>27</td>\n",
              "      <td>11</td>\n",
              "      <td>101.65</td>\n",
              "      <td>39</td>\n",
              "      <td>4</td>\n",
              "      <td>2017</td>\n",
              "    </tr>\n",
              "    <tr>\n",
              "      <th>3</th>\n",
              "      <td>0</td>\n",
              "      <td>6</td>\n",
              "      <td>3</td>\n",
              "      <td>10.2</td>\n",
              "      <td>-6.0</td>\n",
              "      <td>31</td>\n",
              "      <td>27</td>\n",
              "      <td>9</td>\n",
              "      <td>101.61</td>\n",
              "      <td>40</td>\n",
              "      <td>4</td>\n",
              "      <td>2017</td>\n",
              "    </tr>\n",
              "    <tr>\n",
              "      <th>4</th>\n",
              "      <td>0</td>\n",
              "      <td>6</td>\n",
              "      <td>4</td>\n",
              "      <td>8.4</td>\n",
              "      <td>-4.3</td>\n",
              "      <td>40</td>\n",
              "      <td>20</td>\n",
              "      <td>4</td>\n",
              "      <td>101.58</td>\n",
              "      <td>12</td>\n",
              "      <td>4</td>\n",
              "      <td>2017</td>\n",
              "    </tr>\n",
              "    <tr>\n",
              "      <th>...</th>\n",
              "      <td>...</td>\n",
              "      <td>...</td>\n",
              "      <td>...</td>\n",
              "      <td>...</td>\n",
              "      <td>...</td>\n",
              "      <td>...</td>\n",
              "      <td>...</td>\n",
              "      <td>...</td>\n",
              "      <td>...</td>\n",
              "      <td>...</td>\n",
              "      <td>...</td>\n",
              "      <td>...</td>\n",
              "    </tr>\n",
              "    <tr>\n",
              "      <th>14949</th>\n",
              "      <td>1</td>\n",
              "      <td>4</td>\n",
              "      <td>19</td>\n",
              "      <td>12.3</td>\n",
              "      <td>11.9</td>\n",
              "      <td>97</td>\n",
              "      <td>1</td>\n",
              "      <td>12</td>\n",
              "      <td>98.66</td>\n",
              "      <td>166</td>\n",
              "      <td>10</td>\n",
              "      <td>2019</td>\n",
              "    </tr>\n",
              "    <tr>\n",
              "      <th>14950</th>\n",
              "      <td>1</td>\n",
              "      <td>4</td>\n",
              "      <td>20</td>\n",
              "      <td>10.3</td>\n",
              "      <td>9.8</td>\n",
              "      <td>97</td>\n",
              "      <td>1</td>\n",
              "      <td>13</td>\n",
              "      <td>98.60</td>\n",
              "      <td>133</td>\n",
              "      <td>10</td>\n",
              "      <td>2019</td>\n",
              "    </tr>\n",
              "    <tr>\n",
              "      <th>14951</th>\n",
              "      <td>1</td>\n",
              "      <td>4</td>\n",
              "      <td>21</td>\n",
              "      <td>9.2</td>\n",
              "      <td>8.7</td>\n",
              "      <td>97</td>\n",
              "      <td>3</td>\n",
              "      <td>15</td>\n",
              "      <td>98.60</td>\n",
              "      <td>119</td>\n",
              "      <td>10</td>\n",
              "      <td>2019</td>\n",
              "    </tr>\n",
              "    <tr>\n",
              "      <th>14952</th>\n",
              "      <td>1</td>\n",
              "      <td>4</td>\n",
              "      <td>22</td>\n",
              "      <td>8.5</td>\n",
              "      <td>7.9</td>\n",
              "      <td>96</td>\n",
              "      <td>2</td>\n",
              "      <td>11</td>\n",
              "      <td>98.47</td>\n",
              "      <td>121</td>\n",
              "      <td>10</td>\n",
              "      <td>2019</td>\n",
              "    </tr>\n",
              "    <tr>\n",
              "      <th>14953</th>\n",
              "      <td>1</td>\n",
              "      <td>4</td>\n",
              "      <td>23</td>\n",
              "      <td>8.2</td>\n",
              "      <td>7.7</td>\n",
              "      <td>97</td>\n",
              "      <td>1</td>\n",
              "      <td>5</td>\n",
              "      <td>98.35</td>\n",
              "      <td>80</td>\n",
              "      <td>10</td>\n",
              "      <td>2019</td>\n",
              "    </tr>\n",
              "  </tbody>\n",
              "</table>\n",
              "<p>14954 rows × 12 columns</p>\n",
              "</div>"
            ],
            "text/plain": [
              "       Working_day  week_day  Hours  ...  Count  month  Years\n",
              "0                0         6      0  ...    144      4   2017\n",
              "1                0         6      1  ...     76      4   2017\n",
              "2                0         6      2  ...     39      4   2017\n",
              "3                0         6      3  ...     40      4   2017\n",
              "4                0         6      4  ...     12      4   2017\n",
              "...            ...       ...    ...  ...    ...    ...    ...\n",
              "14949            1         4     19  ...    166     10   2019\n",
              "14950            1         4     20  ...    133     10   2019\n",
              "14951            1         4     21  ...    119     10   2019\n",
              "14952            1         4     22  ...    121     10   2019\n",
              "14953            1         4     23  ...     80     10   2019\n",
              "\n",
              "[14954 rows x 12 columns]"
            ]
          },
          "metadata": {
            "tags": []
          },
          "execution_count": 45
        }
      ]
    },
    {
      "cell_type": "code",
      "metadata": {
        "id": "hZzD8RcEA1Uy"
      },
      "source": [
        "#reorder columns\r\n",
        "\r\n",
        "column_titles = ['Working_day', 'week_day',\t'Hours',\t'temp_celcius',\t'dew_pt_celcius',\t'rel_humidity',\t'wind_dir',\t'wind_speed',\t'stn_press', 'month',\t'Years', 'Count']\r\n",
        "\r\n",
        "bike_rf = bike_rf.reindex(columns=column_titles)"
      ],
      "execution_count": 46,
      "outputs": []
    },
    {
      "cell_type": "code",
      "metadata": {
        "id": "Ztypqqu2ht-s"
      },
      "source": [
        "X_rf = bike_rf.iloc[:, :-1]\r\n",
        "Y_rf = bike_rf.iloc[:, -1]"
      ],
      "execution_count": 47,
      "outputs": []
    },
    {
      "cell_type": "code",
      "metadata": {
        "colab": {
          "base_uri": "https://localhost:8080/",
          "height": 419
        },
        "id": "xfhlNXPsIem2",
        "outputId": "b7f6aaae-51eb-4133-8ee6-5e5f67467337"
      },
      "source": [
        "X_rf"
      ],
      "execution_count": 48,
      "outputs": [
        {
          "output_type": "execute_result",
          "data": {
            "text/html": [
              "<div>\n",
              "<style scoped>\n",
              "    .dataframe tbody tr th:only-of-type {\n",
              "        vertical-align: middle;\n",
              "    }\n",
              "\n",
              "    .dataframe tbody tr th {\n",
              "        vertical-align: top;\n",
              "    }\n",
              "\n",
              "    .dataframe thead th {\n",
              "        text-align: right;\n",
              "    }\n",
              "</style>\n",
              "<table border=\"1\" class=\"dataframe\">\n",
              "  <thead>\n",
              "    <tr style=\"text-align: right;\">\n",
              "      <th></th>\n",
              "      <th>Working_day</th>\n",
              "      <th>week_day</th>\n",
              "      <th>Hours</th>\n",
              "      <th>temp_celcius</th>\n",
              "      <th>dew_pt_celcius</th>\n",
              "      <th>rel_humidity</th>\n",
              "      <th>wind_dir</th>\n",
              "      <th>wind_speed</th>\n",
              "      <th>stn_press</th>\n",
              "      <th>month</th>\n",
              "      <th>Years</th>\n",
              "    </tr>\n",
              "  </thead>\n",
              "  <tbody>\n",
              "    <tr>\n",
              "      <th>0</th>\n",
              "      <td>0</td>\n",
              "      <td>6</td>\n",
              "      <td>0</td>\n",
              "      <td>11.4</td>\n",
              "      <td>-5.4</td>\n",
              "      <td>30</td>\n",
              "      <td>27</td>\n",
              "      <td>8</td>\n",
              "      <td>101.76</td>\n",
              "      <td>4</td>\n",
              "      <td>2017</td>\n",
              "    </tr>\n",
              "    <tr>\n",
              "      <th>1</th>\n",
              "      <td>0</td>\n",
              "      <td>6</td>\n",
              "      <td>1</td>\n",
              "      <td>10.8</td>\n",
              "      <td>-6.2</td>\n",
              "      <td>30</td>\n",
              "      <td>27</td>\n",
              "      <td>9</td>\n",
              "      <td>101.70</td>\n",
              "      <td>4</td>\n",
              "      <td>2017</td>\n",
              "    </tr>\n",
              "    <tr>\n",
              "      <th>2</th>\n",
              "      <td>0</td>\n",
              "      <td>6</td>\n",
              "      <td>2</td>\n",
              "      <td>10.9</td>\n",
              "      <td>-6.3</td>\n",
              "      <td>29</td>\n",
              "      <td>27</td>\n",
              "      <td>11</td>\n",
              "      <td>101.65</td>\n",
              "      <td>4</td>\n",
              "      <td>2017</td>\n",
              "    </tr>\n",
              "    <tr>\n",
              "      <th>3</th>\n",
              "      <td>0</td>\n",
              "      <td>6</td>\n",
              "      <td>3</td>\n",
              "      <td>10.2</td>\n",
              "      <td>-6.0</td>\n",
              "      <td>31</td>\n",
              "      <td>27</td>\n",
              "      <td>9</td>\n",
              "      <td>101.61</td>\n",
              "      <td>4</td>\n",
              "      <td>2017</td>\n",
              "    </tr>\n",
              "    <tr>\n",
              "      <th>4</th>\n",
              "      <td>0</td>\n",
              "      <td>6</td>\n",
              "      <td>4</td>\n",
              "      <td>8.4</td>\n",
              "      <td>-4.3</td>\n",
              "      <td>40</td>\n",
              "      <td>20</td>\n",
              "      <td>4</td>\n",
              "      <td>101.58</td>\n",
              "      <td>4</td>\n",
              "      <td>2017</td>\n",
              "    </tr>\n",
              "    <tr>\n",
              "      <th>...</th>\n",
              "      <td>...</td>\n",
              "      <td>...</td>\n",
              "      <td>...</td>\n",
              "      <td>...</td>\n",
              "      <td>...</td>\n",
              "      <td>...</td>\n",
              "      <td>...</td>\n",
              "      <td>...</td>\n",
              "      <td>...</td>\n",
              "      <td>...</td>\n",
              "      <td>...</td>\n",
              "    </tr>\n",
              "    <tr>\n",
              "      <th>14949</th>\n",
              "      <td>1</td>\n",
              "      <td>4</td>\n",
              "      <td>19</td>\n",
              "      <td>12.3</td>\n",
              "      <td>11.9</td>\n",
              "      <td>97</td>\n",
              "      <td>1</td>\n",
              "      <td>12</td>\n",
              "      <td>98.66</td>\n",
              "      <td>10</td>\n",
              "      <td>2019</td>\n",
              "    </tr>\n",
              "    <tr>\n",
              "      <th>14950</th>\n",
              "      <td>1</td>\n",
              "      <td>4</td>\n",
              "      <td>20</td>\n",
              "      <td>10.3</td>\n",
              "      <td>9.8</td>\n",
              "      <td>97</td>\n",
              "      <td>1</td>\n",
              "      <td>13</td>\n",
              "      <td>98.60</td>\n",
              "      <td>10</td>\n",
              "      <td>2019</td>\n",
              "    </tr>\n",
              "    <tr>\n",
              "      <th>14951</th>\n",
              "      <td>1</td>\n",
              "      <td>4</td>\n",
              "      <td>21</td>\n",
              "      <td>9.2</td>\n",
              "      <td>8.7</td>\n",
              "      <td>97</td>\n",
              "      <td>3</td>\n",
              "      <td>15</td>\n",
              "      <td>98.60</td>\n",
              "      <td>10</td>\n",
              "      <td>2019</td>\n",
              "    </tr>\n",
              "    <tr>\n",
              "      <th>14952</th>\n",
              "      <td>1</td>\n",
              "      <td>4</td>\n",
              "      <td>22</td>\n",
              "      <td>8.5</td>\n",
              "      <td>7.9</td>\n",
              "      <td>96</td>\n",
              "      <td>2</td>\n",
              "      <td>11</td>\n",
              "      <td>98.47</td>\n",
              "      <td>10</td>\n",
              "      <td>2019</td>\n",
              "    </tr>\n",
              "    <tr>\n",
              "      <th>14953</th>\n",
              "      <td>1</td>\n",
              "      <td>4</td>\n",
              "      <td>23</td>\n",
              "      <td>8.2</td>\n",
              "      <td>7.7</td>\n",
              "      <td>97</td>\n",
              "      <td>1</td>\n",
              "      <td>5</td>\n",
              "      <td>98.35</td>\n",
              "      <td>10</td>\n",
              "      <td>2019</td>\n",
              "    </tr>\n",
              "  </tbody>\n",
              "</table>\n",
              "<p>14954 rows × 11 columns</p>\n",
              "</div>"
            ],
            "text/plain": [
              "       Working_day  week_day  Hours  ...  stn_press  month  Years\n",
              "0                0         6      0  ...     101.76      4   2017\n",
              "1                0         6      1  ...     101.70      4   2017\n",
              "2                0         6      2  ...     101.65      4   2017\n",
              "3                0         6      3  ...     101.61      4   2017\n",
              "4                0         6      4  ...     101.58      4   2017\n",
              "...            ...       ...    ...  ...        ...    ...    ...\n",
              "14949            1         4     19  ...      98.66     10   2019\n",
              "14950            1         4     20  ...      98.60     10   2019\n",
              "14951            1         4     21  ...      98.60     10   2019\n",
              "14952            1         4     22  ...      98.47     10   2019\n",
              "14953            1         4     23  ...      98.35     10   2019\n",
              "\n",
              "[14954 rows x 11 columns]"
            ]
          },
          "metadata": {
            "tags": []
          },
          "execution_count": 48
        }
      ]
    },
    {
      "cell_type": "code",
      "metadata": {
        "id": "HS-29Vlxh5aN"
      },
      "source": [
        "from sklearn.model_selection import train_test_split\r\n",
        "x_train, x_test, y_train, y_test = train_test_split(X_rf, Y_rf, test_size = 0.2)"
      ],
      "execution_count": 49,
      "outputs": []
    },
    {
      "cell_type": "code",
      "metadata": {
        "colab": {
          "base_uri": "https://localhost:8080/"
        },
        "id": "YWZz1HAYiN35",
        "outputId": "092d73a9-4e0e-4124-93b2-15ed09302651"
      },
      "source": [
        "x_train.shape, x_test.shape, y_train.shape, y_test.shape"
      ],
      "execution_count": 50,
      "outputs": [
        {
          "output_type": "execute_result",
          "data": {
            "text/plain": [
              "((11963, 11), (2991, 11), (11963,), (2991,))"
            ]
          },
          "metadata": {
            "tags": []
          },
          "execution_count": 50
        }
      ]
    },
    {
      "cell_type": "code",
      "metadata": {
        "id": "ImwpbL5BidP1"
      },
      "source": [
        "from sklearn.ensemble import RandomForestRegressor\r\n",
        "\r\n",
        "from sklearn.model_selection import RandomizedSearchCV"
      ],
      "execution_count": 51,
      "outputs": []
    },
    {
      "cell_type": "code",
      "metadata": {
        "colab": {
          "base_uri": "https://localhost:8080/"
        },
        "id": "fLTdTCyBikmn",
        "outputId": "745c5a7a-3c5f-46be-90b8-d72742b21417"
      },
      "source": [
        "n_estimators = [int(x) for x in np.linspace(start = 100, stop = 1900, num = 19)]\r\n",
        "print(n_estimators)"
      ],
      "execution_count": 52,
      "outputs": [
        {
          "output_type": "stream",
          "text": [
            "[100, 200, 300, 400, 500, 600, 700, 800, 900, 1000, 1100, 1200, 1300, 1400, 1500, 1600, 1700, 1800, 1900]\n"
          ],
          "name": "stdout"
        }
      ]
    },
    {
      "cell_type": "code",
      "metadata": {
        "id": "1M2Z3uWui_MG"
      },
      "source": [
        "##Hyperparameters\r\n",
        "\r\n",
        "# Number of trees in random forest\r\n",
        "n_estimators = [int(x)for x in np.linspace(start = 100, stop = 1900, num = 19)]\r\n",
        "# Number of features to consider at every split\r\n",
        "max_features = ['auto', 'sqrt']\r\n",
        "# Maximum number of levels in tree\r\n",
        "max_depth = [int(x) for x in np.linspace(5, 30, num = 6)]\r\n",
        "# max_depth.append(None)\r\n",
        "# Minimum number of samples required to split a node\r\n",
        "min_samples_split = [2, 5, 10, 15, 100]\r\n",
        "# Minimum number of samples required at each leaf node\r\n",
        "min_samples_leaf = [1, 2, 5, 10]"
      ],
      "execution_count": 53,
      "outputs": []
    },
    {
      "cell_type": "code",
      "metadata": {
        "colab": {
          "base_uri": "https://localhost:8080/"
        },
        "id": "qn2eVOEijLre",
        "outputId": "7eb5bd73-dcee-4b0a-81eb-5836c08c0cf9"
      },
      "source": [
        "random_grid = {'n_estimators': n_estimators,\r\n",
        "               'max_features': max_features,\r\n",
        "               'max_depth': max_depth,\r\n",
        "               'min_samples_split': min_samples_split,\r\n",
        "               'min_samples_leaf': min_samples_leaf}\r\n",
        "\r\n",
        "\r\n",
        "print(random_grid)"
      ],
      "execution_count": 54,
      "outputs": [
        {
          "output_type": "stream",
          "text": [
            "{'n_estimators': [100, 200, 300, 400, 500, 600, 700, 800, 900, 1000, 1100, 1200, 1300, 1400, 1500, 1600, 1700, 1800, 1900], 'max_features': ['auto', 'sqrt'], 'max_depth': [5, 10, 15, 20, 25, 30], 'min_samples_split': [2, 5, 10, 15, 100], 'min_samples_leaf': [1, 2, 5, 10]}\n"
          ],
          "name": "stdout"
        }
      ]
    },
    {
      "cell_type": "code",
      "metadata": {
        "id": "7ZITj0PnjNB4"
      },
      "source": [
        "rf_model = RandomForestRegressor()"
      ],
      "execution_count": 55,
      "outputs": []
    },
    {
      "cell_type": "code",
      "metadata": {
        "id": "bRpg3b-YjT7H"
      },
      "source": [
        "rf_random = RandomizedSearchCV(estimator = rf_model, param_distributions = random_grid,scoring='neg_mean_squared_error', \r\n",
        "                               n_iter = 10, cv = 5, verbose=2, random_state=42, n_jobs = 1)"
      ],
      "execution_count": 56,
      "outputs": []
    },
    {
      "cell_type": "code",
      "metadata": {
        "colab": {
          "base_uri": "https://localhost:8080/"
        },
        "id": "Fhd2ChQNjhjF",
        "outputId": "66ca8936-aba2-433c-abb6-b544dc9458c9"
      },
      "source": [
        "rf_random.fit(x_train, y_train)"
      ],
      "execution_count": 57,
      "outputs": [
        {
          "output_type": "stream",
          "text": [
            "Fitting 5 folds for each of 10 candidates, totalling 50 fits\n",
            "[CV] n_estimators=600, min_samples_split=2, min_samples_leaf=2, max_features=auto, max_depth=10 \n"
          ],
          "name": "stdout"
        },
        {
          "output_type": "stream",
          "text": [
            "[Parallel(n_jobs=1)]: Using backend SequentialBackend with 1 concurrent workers.\n"
          ],
          "name": "stderr"
        },
        {
          "output_type": "stream",
          "text": [
            "[CV]  n_estimators=600, min_samples_split=2, min_samples_leaf=2, max_features=auto, max_depth=10, total=  18.7s\n",
            "[CV] n_estimators=600, min_samples_split=2, min_samples_leaf=2, max_features=auto, max_depth=10 \n"
          ],
          "name": "stdout"
        },
        {
          "output_type": "stream",
          "text": [
            "[Parallel(n_jobs=1)]: Done   1 out of   1 | elapsed:   18.7s remaining:    0.0s\n"
          ],
          "name": "stderr"
        },
        {
          "output_type": "stream",
          "text": [
            "[CV]  n_estimators=600, min_samples_split=2, min_samples_leaf=2, max_features=auto, max_depth=10, total=  18.7s\n",
            "[CV] n_estimators=600, min_samples_split=2, min_samples_leaf=2, max_features=auto, max_depth=10 \n",
            "[CV]  n_estimators=600, min_samples_split=2, min_samples_leaf=2, max_features=auto, max_depth=10, total=  18.6s\n",
            "[CV] n_estimators=600, min_samples_split=2, min_samples_leaf=2, max_features=auto, max_depth=10 \n",
            "[CV]  n_estimators=600, min_samples_split=2, min_samples_leaf=2, max_features=auto, max_depth=10, total=  18.6s\n",
            "[CV] n_estimators=600, min_samples_split=2, min_samples_leaf=2, max_features=auto, max_depth=10 \n",
            "[CV]  n_estimators=600, min_samples_split=2, min_samples_leaf=2, max_features=auto, max_depth=10, total=  18.6s\n",
            "[CV] n_estimators=1100, min_samples_split=15, min_samples_leaf=10, max_features=sqrt, max_depth=25 \n",
            "[CV]  n_estimators=1100, min_samples_split=15, min_samples_leaf=10, max_features=sqrt, max_depth=25, total=  12.5s\n",
            "[CV] n_estimators=1100, min_samples_split=15, min_samples_leaf=10, max_features=sqrt, max_depth=25 \n",
            "[CV]  n_estimators=1100, min_samples_split=15, min_samples_leaf=10, max_features=sqrt, max_depth=25, total=  12.5s\n",
            "[CV] n_estimators=1100, min_samples_split=15, min_samples_leaf=10, max_features=sqrt, max_depth=25 \n",
            "[CV]  n_estimators=1100, min_samples_split=15, min_samples_leaf=10, max_features=sqrt, max_depth=25, total=  12.5s\n",
            "[CV] n_estimators=1100, min_samples_split=15, min_samples_leaf=10, max_features=sqrt, max_depth=25 \n",
            "[CV]  n_estimators=1100, min_samples_split=15, min_samples_leaf=10, max_features=sqrt, max_depth=25, total=  12.5s\n",
            "[CV] n_estimators=1100, min_samples_split=15, min_samples_leaf=10, max_features=sqrt, max_depth=25 \n",
            "[CV]  n_estimators=1100, min_samples_split=15, min_samples_leaf=10, max_features=sqrt, max_depth=25, total=  12.5s\n",
            "[CV] n_estimators=1500, min_samples_split=10, min_samples_leaf=1, max_features=auto, max_depth=25 \n",
            "[CV]  n_estimators=1500, min_samples_split=10, min_samples_leaf=1, max_features=auto, max_depth=25, total=  59.6s\n",
            "[CV] n_estimators=1500, min_samples_split=10, min_samples_leaf=1, max_features=auto, max_depth=25 \n",
            "[CV]  n_estimators=1500, min_samples_split=10, min_samples_leaf=1, max_features=auto, max_depth=25, total=  59.2s\n",
            "[CV] n_estimators=1500, min_samples_split=10, min_samples_leaf=1, max_features=auto, max_depth=25 \n",
            "[CV]  n_estimators=1500, min_samples_split=10, min_samples_leaf=1, max_features=auto, max_depth=25, total=  58.8s\n",
            "[CV] n_estimators=1500, min_samples_split=10, min_samples_leaf=1, max_features=auto, max_depth=25 \n",
            "[CV]  n_estimators=1500, min_samples_split=10, min_samples_leaf=1, max_features=auto, max_depth=25, total=  59.2s\n",
            "[CV] n_estimators=1500, min_samples_split=10, min_samples_leaf=1, max_features=auto, max_depth=25 \n",
            "[CV]  n_estimators=1500, min_samples_split=10, min_samples_leaf=1, max_features=auto, max_depth=25, total= 1.0min\n",
            "[CV] n_estimators=1100, min_samples_split=100, min_samples_leaf=1, max_features=sqrt, max_depth=5 \n",
            "[CV]  n_estimators=1100, min_samples_split=100, min_samples_leaf=1, max_features=sqrt, max_depth=5, total=   8.8s\n",
            "[CV] n_estimators=1100, min_samples_split=100, min_samples_leaf=1, max_features=sqrt, max_depth=5 \n",
            "[CV]  n_estimators=1100, min_samples_split=100, min_samples_leaf=1, max_features=sqrt, max_depth=5, total=   7.2s\n",
            "[CV] n_estimators=1100, min_samples_split=100, min_samples_leaf=1, max_features=sqrt, max_depth=5 \n",
            "[CV]  n_estimators=1100, min_samples_split=100, min_samples_leaf=1, max_features=sqrt, max_depth=5, total=   6.3s\n",
            "[CV] n_estimators=1100, min_samples_split=100, min_samples_leaf=1, max_features=sqrt, max_depth=5 \n",
            "[CV]  n_estimators=1100, min_samples_split=100, min_samples_leaf=1, max_features=sqrt, max_depth=5, total=   6.4s\n",
            "[CV] n_estimators=1100, min_samples_split=100, min_samples_leaf=1, max_features=sqrt, max_depth=5 \n",
            "[CV]  n_estimators=1100, min_samples_split=100, min_samples_leaf=1, max_features=sqrt, max_depth=5, total=   6.3s\n",
            "[CV] n_estimators=1900, min_samples_split=10, min_samples_leaf=5, max_features=sqrt, max_depth=30 \n",
            "[CV]  n_estimators=1900, min_samples_split=10, min_samples_leaf=5, max_features=sqrt, max_depth=30, total=  24.2s\n",
            "[CV] n_estimators=1900, min_samples_split=10, min_samples_leaf=5, max_features=sqrt, max_depth=30 \n",
            "[CV]  n_estimators=1900, min_samples_split=10, min_samples_leaf=5, max_features=sqrt, max_depth=30, total=  24.1s\n",
            "[CV] n_estimators=1900, min_samples_split=10, min_samples_leaf=5, max_features=sqrt, max_depth=30 \n",
            "[CV]  n_estimators=1900, min_samples_split=10, min_samples_leaf=5, max_features=sqrt, max_depth=30, total=  24.0s\n",
            "[CV] n_estimators=1900, min_samples_split=10, min_samples_leaf=5, max_features=sqrt, max_depth=30 \n",
            "[CV]  n_estimators=1900, min_samples_split=10, min_samples_leaf=5, max_features=sqrt, max_depth=30, total=  24.2s\n",
            "[CV] n_estimators=1900, min_samples_split=10, min_samples_leaf=5, max_features=sqrt, max_depth=30 \n",
            "[CV]  n_estimators=1900, min_samples_split=10, min_samples_leaf=5, max_features=sqrt, max_depth=30, total=  24.1s\n",
            "[CV] n_estimators=600, min_samples_split=5, min_samples_leaf=1, max_features=sqrt, max_depth=25 \n",
            "[CV]  n_estimators=600, min_samples_split=5, min_samples_leaf=1, max_features=sqrt, max_depth=25, total=   9.5s\n",
            "[CV] n_estimators=600, min_samples_split=5, min_samples_leaf=1, max_features=sqrt, max_depth=25 \n",
            "[CV]  n_estimators=600, min_samples_split=5, min_samples_leaf=1, max_features=sqrt, max_depth=25, total=   9.5s\n",
            "[CV] n_estimators=600, min_samples_split=5, min_samples_leaf=1, max_features=sqrt, max_depth=25 \n",
            "[CV]  n_estimators=600, min_samples_split=5, min_samples_leaf=1, max_features=sqrt, max_depth=25, total=   9.5s\n",
            "[CV] n_estimators=600, min_samples_split=5, min_samples_leaf=1, max_features=sqrt, max_depth=25 \n",
            "[CV]  n_estimators=600, min_samples_split=5, min_samples_leaf=1, max_features=sqrt, max_depth=25, total=   9.5s\n",
            "[CV] n_estimators=600, min_samples_split=5, min_samples_leaf=1, max_features=sqrt, max_depth=25 \n",
            "[CV]  n_estimators=600, min_samples_split=5, min_samples_leaf=1, max_features=sqrt, max_depth=25, total=   9.5s\n",
            "[CV] n_estimators=1800, min_samples_split=5, min_samples_leaf=2, max_features=auto, max_depth=25 \n",
            "[CV]  n_estimators=1800, min_samples_split=5, min_samples_leaf=2, max_features=auto, max_depth=25, total= 1.3min\n",
            "[CV] n_estimators=1800, min_samples_split=5, min_samples_leaf=2, max_features=auto, max_depth=25 \n",
            "[CV]  n_estimators=1800, min_samples_split=5, min_samples_leaf=2, max_features=auto, max_depth=25, total= 1.2min\n",
            "[CV] n_estimators=1800, min_samples_split=5, min_samples_leaf=2, max_features=auto, max_depth=25 \n",
            "[CV]  n_estimators=1800, min_samples_split=5, min_samples_leaf=2, max_features=auto, max_depth=25, total= 1.2min\n",
            "[CV] n_estimators=1800, min_samples_split=5, min_samples_leaf=2, max_features=auto, max_depth=25 \n",
            "[CV]  n_estimators=1800, min_samples_split=5, min_samples_leaf=2, max_features=auto, max_depth=25, total= 1.2min\n",
            "[CV] n_estimators=1800, min_samples_split=5, min_samples_leaf=2, max_features=auto, max_depth=25 \n",
            "[CV]  n_estimators=1800, min_samples_split=5, min_samples_leaf=2, max_features=auto, max_depth=25, total= 1.2min\n",
            "[CV] n_estimators=1300, min_samples_split=15, min_samples_leaf=5, max_features=sqrt, max_depth=20 \n",
            "[CV]  n_estimators=1300, min_samples_split=15, min_samples_leaf=5, max_features=sqrt, max_depth=20, total=  15.6s\n",
            "[CV] n_estimators=1300, min_samples_split=15, min_samples_leaf=5, max_features=sqrt, max_depth=20 \n",
            "[CV]  n_estimators=1300, min_samples_split=15, min_samples_leaf=5, max_features=sqrt, max_depth=20, total=  15.6s\n",
            "[CV] n_estimators=1300, min_samples_split=15, min_samples_leaf=5, max_features=sqrt, max_depth=20 \n",
            "[CV]  n_estimators=1300, min_samples_split=15, min_samples_leaf=5, max_features=sqrt, max_depth=20, total=  15.8s\n",
            "[CV] n_estimators=1300, min_samples_split=15, min_samples_leaf=5, max_features=sqrt, max_depth=20 \n",
            "[CV]  n_estimators=1300, min_samples_split=15, min_samples_leaf=5, max_features=sqrt, max_depth=20, total=  15.6s\n",
            "[CV] n_estimators=1300, min_samples_split=15, min_samples_leaf=5, max_features=sqrt, max_depth=20 \n",
            "[CV]  n_estimators=1300, min_samples_split=15, min_samples_leaf=5, max_features=sqrt, max_depth=20, total=  15.6s\n",
            "[CV] n_estimators=1700, min_samples_split=5, min_samples_leaf=2, max_features=auto, max_depth=5 \n",
            "[CV]  n_estimators=1700, min_samples_split=5, min_samples_leaf=2, max_features=auto, max_depth=5, total=  26.8s\n",
            "[CV] n_estimators=1700, min_samples_split=5, min_samples_leaf=2, max_features=auto, max_depth=5 \n",
            "[CV]  n_estimators=1700, min_samples_split=5, min_samples_leaf=2, max_features=auto, max_depth=5, total=  26.8s\n",
            "[CV] n_estimators=1700, min_samples_split=5, min_samples_leaf=2, max_features=auto, max_depth=5 \n",
            "[CV]  n_estimators=1700, min_samples_split=5, min_samples_leaf=2, max_features=auto, max_depth=5, total=  26.8s\n",
            "[CV] n_estimators=1700, min_samples_split=5, min_samples_leaf=2, max_features=auto, max_depth=5 \n",
            "[CV]  n_estimators=1700, min_samples_split=5, min_samples_leaf=2, max_features=auto, max_depth=5, total=  27.2s\n",
            "[CV] n_estimators=1700, min_samples_split=5, min_samples_leaf=2, max_features=auto, max_depth=5 \n",
            "[CV]  n_estimators=1700, min_samples_split=5, min_samples_leaf=2, max_features=auto, max_depth=5, total=  26.7s\n",
            "[CV] n_estimators=1400, min_samples_split=15, min_samples_leaf=2, max_features=auto, max_depth=15 \n",
            "[CV]  n_estimators=1400, min_samples_split=15, min_samples_leaf=2, max_features=auto, max_depth=15, total=  48.8s\n",
            "[CV] n_estimators=1400, min_samples_split=15, min_samples_leaf=2, max_features=auto, max_depth=15 \n",
            "[CV]  n_estimators=1400, min_samples_split=15, min_samples_leaf=2, max_features=auto, max_depth=15, total=  48.5s\n",
            "[CV] n_estimators=1400, min_samples_split=15, min_samples_leaf=2, max_features=auto, max_depth=15 \n",
            "[CV]  n_estimators=1400, min_samples_split=15, min_samples_leaf=2, max_features=auto, max_depth=15, total=  48.6s\n",
            "[CV] n_estimators=1400, min_samples_split=15, min_samples_leaf=2, max_features=auto, max_depth=15 \n",
            "[CV]  n_estimators=1400, min_samples_split=15, min_samples_leaf=2, max_features=auto, max_depth=15, total=  48.7s\n",
            "[CV] n_estimators=1400, min_samples_split=15, min_samples_leaf=2, max_features=auto, max_depth=15 \n",
            "[CV]  n_estimators=1400, min_samples_split=15, min_samples_leaf=2, max_features=auto, max_depth=15, total=  48.8s\n"
          ],
          "name": "stdout"
        },
        {
          "output_type": "stream",
          "text": [
            "[Parallel(n_jobs=1)]: Done  50 out of  50 | elapsed: 24.8min finished\n"
          ],
          "name": "stderr"
        },
        {
          "output_type": "execute_result",
          "data": {
            "text/plain": [
              "RandomizedSearchCV(cv=5, error_score=nan,\n",
              "                   estimator=RandomForestRegressor(bootstrap=True,\n",
              "                                                   ccp_alpha=0.0,\n",
              "                                                   criterion='mse',\n",
              "                                                   max_depth=None,\n",
              "                                                   max_features='auto',\n",
              "                                                   max_leaf_nodes=None,\n",
              "                                                   max_samples=None,\n",
              "                                                   min_impurity_decrease=0.0,\n",
              "                                                   min_impurity_split=None,\n",
              "                                                   min_samples_leaf=1,\n",
              "                                                   min_samples_split=2,\n",
              "                                                   min_weight_fraction_leaf=0.0,\n",
              "                                                   n_estimators=100,\n",
              "                                                   n_jobs=None, oob_score=Fals...\n",
              "                   param_distributions={'max_depth': [5, 10, 15, 20, 25, 30],\n",
              "                                        'max_features': ['auto', 'sqrt'],\n",
              "                                        'min_samples_leaf': [1, 2, 5, 10],\n",
              "                                        'min_samples_split': [2, 5, 10, 15,\n",
              "                                                              100],\n",
              "                                        'n_estimators': [100, 200, 300, 400,\n",
              "                                                         500, 600, 700, 800,\n",
              "                                                         900, 1000, 1100, 1200,\n",
              "                                                         1300, 1400, 1500, 1600,\n",
              "                                                         1700, 1800, 1900]},\n",
              "                   pre_dispatch='2*n_jobs', random_state=42, refit=True,\n",
              "                   return_train_score=False, scoring='neg_mean_squared_error',\n",
              "                   verbose=2)"
            ]
          },
          "metadata": {
            "tags": []
          },
          "execution_count": 57
        }
      ]
    },
    {
      "cell_type": "code",
      "metadata": {
        "colab": {
          "base_uri": "https://localhost:8080/"
        },
        "id": "dtt2_1xwkko0",
        "outputId": "7a597b9f-9075-4654-c041-012d3c74fa87"
      },
      "source": [
        "rf_random.best_params_"
      ],
      "execution_count": 58,
      "outputs": [
        {
          "output_type": "execute_result",
          "data": {
            "text/plain": [
              "{'max_depth': 25,\n",
              " 'max_features': 'auto',\n",
              " 'min_samples_leaf': 2,\n",
              " 'min_samples_split': 5,\n",
              " 'n_estimators': 1800}"
            ]
          },
          "metadata": {
            "tags": []
          },
          "execution_count": 58
        }
      ]
    },
    {
      "cell_type": "code",
      "metadata": {
        "colab": {
          "base_uri": "https://localhost:8080/"
        },
        "id": "qdPu8GMzmSKS",
        "outputId": "3806c074-e119-4345-b950-1fe054219cb5"
      },
      "source": [
        "\r\n",
        "rf_random.best_score_"
      ],
      "execution_count": 59,
      "outputs": [
        {
          "output_type": "execute_result",
          "data": {
            "text/plain": [
              "-49202.14002639604"
            ]
          },
          "metadata": {
            "tags": []
          },
          "execution_count": 59
        }
      ]
    },
    {
      "cell_type": "code",
      "metadata": {
        "id": "Fo2aA9oCmXb6"
      },
      "source": [
        "predictions=rf_random.predict(x_test)"
      ],
      "execution_count": 60,
      "outputs": []
    },
    {
      "cell_type": "code",
      "metadata": {
        "colab": {
          "base_uri": "https://localhost:8080/",
          "height": 350
        },
        "id": "z9V6GoYLmcpF",
        "outputId": "b23535d4-b4e0-4b08-fcc0-0027ddd5bc15"
      },
      "source": [
        "sns.distplot(y_test-predictions)"
      ],
      "execution_count": 61,
      "outputs": [
        {
          "output_type": "stream",
          "text": [
            "/usr/local/lib/python3.6/dist-packages/seaborn/distributions.py:2551: FutureWarning: `distplot` is a deprecated function and will be removed in a future version. Please adapt your code to use either `displot` (a figure-level function with similar flexibility) or `histplot` (an axes-level function for histograms).\n",
            "  warnings.warn(msg, FutureWarning)\n"
          ],
          "name": "stderr"
        },
        {
          "output_type": "execute_result",
          "data": {
            "text/plain": [
              "<matplotlib.axes._subplots.AxesSubplot at 0x7fa336c63320>"
            ]
          },
          "metadata": {
            "tags": []
          },
          "execution_count": 61
        },
        {
          "output_type": "display_data",
          "data": {
            "image/png": "[encoded data removed]",
            "text/plain": [
              "<Figure size 432x288 with 1 Axes>"
            ]
          },
          "metadata": {
            "tags": [],
            "needs_background": "light"
          }
        }
      ]
    },
    {
      "cell_type": "code",
      "metadata": {
        "colab": {
          "base_uri": "https://localhost:8080/",
          "height": 282
        },
        "id": "UrfTQgEfmgFv",
        "outputId": "80f9ddee-77ef-45ff-ee31-afb4c52e1403"
      },
      "source": [
        "plt.scatter(y_test,predictions)"
      ],
      "execution_count": 62,
      "outputs": [
        {
          "output_type": "execute_result",
          "data": {
            "text/plain": [
              "<matplotlib.collections.PathCollection at 0x7fa339c1cf98>"
            ]
          },
          "metadata": {
            "tags": []
          },
          "execution_count": 62
        },
        {
          "output_type": "display_data",
          "data": {
            "image/png": "[encoded data removed]",
            "text/plain": [
              "<Figure size 432x288 with 1 Axes>"
            ]
          },
          "metadata": {
            "tags": [],
            "needs_background": "light"
          }
        }
      ]
    },
    {
      "cell_type": "code",
      "metadata": {
        "colab": {
          "base_uri": "https://localhost:8080/"
        },
        "id": "HDWusGqzmnS8",
        "outputId": "1b7b768b-0c27-4119-a359-0fc53d78131e"
      },
      "source": [
        "k = x_test.shape[1]\r\n",
        "n = len(x_test)\r\n",
        "n, k"
      ],
      "execution_count": 64,
      "outputs": [
        {
          "output_type": "execute_result",
          "data": {
            "text/plain": [
              "(2991, 11)"
            ]
          },
          "metadata": {
            "tags": []
          },
          "execution_count": 64
        }
      ]
    },
    {
      "cell_type": "markdown",
      "metadata": {
        "id": "yYRRYbgLs9uP"
      },
      "source": [
        "# Step #5: Model Evaluation"
      ]
    },
    {
      "cell_type": "code",
      "metadata": {
        "colab": {
          "base_uri": "https://localhost:8080/"
        },
        "id": "OU-G2RUDmqRT",
        "outputId": "f5890dd7-2fd5-4e6a-ef57-4ace559e9050"
      },
      "source": [
        "from sklearn.metrics import r2_score, mean_squared_error, mean_absolute_error\r\n",
        "from math import sqrt\r\n",
        "\r\n",
        "RMSE = float(format(np.sqrt(mean_squared_error(y_test, predictions)),'.3f'))\r\n",
        "MSE = mean_squared_error(y_test, predictions)\r\n",
        "MAE = mean_absolute_error(y_test, predictions)\r\n",
        "r2 = r2_score(y_test, predictions)\r\n",
        "adj_r2 = 1-(1-r2)*(n-1)/(n-k-1)\r\n",
        "\r\n",
        "print('RMSE =',RMSE, '\\nMSE =',MSE, '\\nMAE =',MAE, '\\nR2 =', r2, '\\nAdjusted R2 =', adj_r2)"
      ],
      "execution_count": 65,
      "outputs": [
        {
          "output_type": "stream",
          "text": [
            "RMSE = 221.201 \n",
            "MSE = 48929.6849252143 \n",
            "MAE = 124.95083675278593 \n",
            "R2 = 0.9394839846464673 \n",
            "Adjusted R2 = 0.9392605283964207\n"
          ],
          "name": "stdout"
        }
      ]
    }
  ]
}